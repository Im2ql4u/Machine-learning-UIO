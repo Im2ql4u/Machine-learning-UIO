{
 "cells": [
  {
   "cell_type": "code",
   "execution_count": 1,
   "id": "85d68940",
   "metadata": {},
   "outputs": [
    {
     "name": "stderr",
     "output_type": "stream",
     "text": [
      "\u001b[32m\u001b[1m  Activating\u001b[22m\u001b[39m project at `~/.julia/environments/v1.10`\n",
      "\u001b[32m\u001b[1m    Updating\u001b[22m\u001b[39m registry at `~/.julia/registries/General.toml`\n",
      "\u001b[32m\u001b[1m   Resolving\u001b[22m\u001b[39m package versions...\n",
      "\u001b[32m\u001b[1m  No Changes\u001b[22m\u001b[39m to `~/.julia/environments/v1.10/Project.toml`\n",
      "\u001b[32m\u001b[1m  No Changes\u001b[22m\u001b[39m to `~/.julia/environments/v1.10/Manifest.toml`\n"
     ]
    }
   ],
   "source": [
    "import Pkg; Pkg.activate(\".julia/environments/v1.10/Project.toml\")\n",
    "Pkg.add([\"SCS\", \"Convex\",\"PlotThemes\",\"Images\",\"MLDatasets\"]) \n",
    "using Plots, Random, NBInclude, LinearAlgebra, Statistics, Distributions, Convex, SCS, MLDatasets, DataFrames\n",
    "using Plots.PlotMeasures\n",
    "using StatsBase: sample\n",
    "theme(:dao)"
   ]
  },
  {
   "cell_type": "code",
   "execution_count": 2,
   "id": "590ef18c",
   "metadata": {},
   "outputs": [
    {
     "data": {
      "text/plain": [
       "SplitData (generic function with 1 method)"
      ]
     },
     "execution_count": 2,
     "metadata": {},
     "output_type": "execute_result"
    }
   ],
   "source": [
    "# Defining some activation functions\n",
    "ReLU(z) = @. ifelse.(z > 0, z, 0)\n",
    "sigmoid(z) =  @. 1 / (1 + ℯ^(-z))\n",
    "\n",
    "\n",
    "function softmax(z::Matrix)\n",
    "    # Compute the maximum for each column, subtract from each element in the column\n",
    "    max_z = maximum(z, dims=1)\n",
    "    e_z = exp.(z .- max_z)\n",
    "    \n",
    "    # Compute the sum for each row\n",
    "    sum_e_z = sum(e_z, dims=1)\n",
    "    # Normalize by dividing each element by the sum of its row\n",
    "    return e_z ./ sum_e_z\n",
    "end\n",
    "\n",
    "function softmax(z::Vector)\n",
    "    \"\"\"Compute softmax values for each set of scores in the vector z.\n",
    "    Use this function when you use the activation function on one vector at a time\"\"\"\n",
    "    e_z = exp.(z .- maximum(z))\n",
    "        \n",
    "    return e_z ./ sum(e_z)\n",
    "end\n",
    "function SplitData(xData, yData, train_size::Float64)\n",
    "    N = length(xData[:,1])\n",
    "    NumTrain = Int(round(N*train_size))\n",
    "\n",
    "    train_indices = sample(1:N, NumTrain; replace=false)\n",
    "    all_indices = collect(1:N)\n",
    "    test_indices = [i for i in all_indices if i ∉ train_indices]\n",
    "\n",
    "    xTrain = xData[train_indices,:]\n",
    "    yTrain = yData[train_indices,:]\n",
    "    xTest = xData[test_indices,:]\n",
    "    yTest = yData[test_indices,:]\n",
    "    return xTrain, xTest, yTrain, yTest\n",
    "end"
   ]
  },
  {
   "cell_type": "code",
   "execution_count": 3,
   "id": "93070e7b",
   "metadata": {},
   "outputs": [
    {
     "data": {
      "text/plain": [
       "4-element Vector{Float64}:\n",
       " -0.22852008785201214\n",
       " -0.34769203595359444\n",
       "  0.3180495800939038\n",
       " -0.7653991690703775"
      ]
     },
     "execution_count": 3,
     "metadata": {},
     "output_type": "execute_result"
    }
   ],
   "source": [
    "Random.seed!(2024)\n",
    "#ϵ=Normal(0, 0.02) # Noise\n",
    "\n",
    "x = randn(2)  # network input. This is a single input with two features\n",
    "W1 = randn(4, 2)  # first layer weights\n",
    "b1 = randn(4)  #Bias "
   ]
  },
  {
   "cell_type": "code",
   "execution_count": 4,
   "id": "fd186fa4",
   "metadata": {},
   "outputs": [
    {
     "data": {
      "text/plain": [
       "8-element Vector{Real}:\n",
       " 1.855287304698327\n",
       " 1.801756780214216\n",
       " 0.025477130911291224\n",
       " 1.4214739945434274\n",
       " 2.289976906436366\n",
       " 0\n",
       " 0\n",
       " 0"
      ]
     },
     "execution_count": 4,
     "metadata": {},
     "output_type": "execute_result"
    }
   ],
   "source": [
    "z1 = W1*x+b1\n",
    "a1=ReLU.(z1)\n",
    "W2 = randn(8, 4)  # first layer weights\n",
    "b2 = randn(8)  #Bias \n",
    "z2 = W2*a1+b2\n",
    "a2=ReLU.(z2)"
   ]
  },
  {
   "cell_type": "code",
   "execution_count": 5,
   "id": "827e1d57",
   "metadata": {},
   "outputs": [
    {
     "data": {
      "text/plain": [
       "create_layers (generic function with 1 method)"
      ]
     },
     "execution_count": 5,
     "metadata": {},
     "output_type": "execute_result"
    }
   ],
   "source": [
    "function create_layers(network_input_size, layer_output_sizes)\n",
    "    input = network_input_size\n",
    "    l = []\n",
    "    for (i,output) in enumerate(layer_output_sizes)\n",
    "        W2 = randn(output, input)  # first layer weights\n",
    "        b2 = randn(output)  #Bias \n",
    "        input=output\n",
    "        push!(l, (W2,b2))\n",
    "        \n",
    "    end\n",
    "    return l\n",
    "end"
   ]
  },
  {
   "cell_type": "code",
   "execution_count": 6,
   "id": "f34235f5",
   "metadata": {},
   "outputs": [
    {
     "data": {
      "text/plain": [
       "feed_forward (generic function with 1 method)"
      ]
     },
     "execution_count": 6,
     "metadata": {},
     "output_type": "execute_result"
    }
   ],
   "source": [
    "function feed_forward(layers, input, activation_functions)\n",
    "    a = input\n",
    "    for ((W,b), func) in zip(layers, activation_functions)\n",
    "        z = W*a+b\n",
    "        a = func.(z)\n",
    "    end\n",
    "    return a\n",
    "end"
   ]
  },
  {
   "cell_type": "code",
   "execution_count": 7,
   "id": "5d4a193b",
   "metadata": {},
   "outputs": [
    {
     "data": {
      "text/plain": [
       "2-element Vector{Float64}:\n",
       " 26.195322082227882\n",
       "  7.895130947384336"
      ]
     },
     "execution_count": 7,
     "metadata": {},
     "output_type": "execute_result"
    }
   ],
   "source": [
    "input_size=8\n",
    "output_size=2\n",
    "x = rand(8)\n",
    "y=rand(2)\n",
    "funcs=[ReLU, ReLU,ReLU,ReLU, softmax]\n",
    "l = create_layers(input_size, [10, 16, 6, output_size])\n",
    "predict = feed_forward(l, x, funcs)"
   ]
  },
  {
   "cell_type": "code",
   "execution_count": 8,
   "id": "9a9af6cb",
   "metadata": {},
   "outputs": [
    {
     "data": {
      "text/plain": [
       "3×2 Matrix{Float64}:\n",
       " -0.041321  -0.540299\n",
       " -0.132765   1.14861\n",
       "  0.166539  -0.172541"
      ]
     },
     "execution_count": 8,
     "metadata": {},
     "output_type": "execute_result"
    }
   ],
   "source": [
    "function create_layers_batch(network_input_size, layer_output_sizes)\n",
    "    input = network_input_size\n",
    "    l = []\n",
    "    for (i,output) in enumerate(layer_output_sizes)\n",
    "        W2 = randn(output, input)  # first layer weights\n",
    "        b2 = randn(output)  #Bias \n",
    "        input=output\n",
    "        push!(l, (W2 , b2))\n",
    "        \n",
    "    end\n",
    "    return l\n",
    "end\n",
    "l = create_layers_batch(2, [3, 4])\n",
    "l[1][1]"
   ]
  },
  {
   "cell_type": "code",
   "execution_count": 9,
   "id": "88c73c2a",
   "metadata": {},
   "outputs": [
    {
     "data": {
      "text/plain": [
       "feed_forward_batched (generic function with 1 method)"
      ]
     },
     "execution_count": 9,
     "metadata": {},
     "output_type": "execute_result"
    }
   ],
   "source": [
    "function feed_forward_batched(layers, input, activation_functions)\n",
    "    a = input #(num_features, batchsize)\n",
    "    for ((W,b), func) in zip(layers, activation_functions)\n",
    "        z = a*W' .+ b'\n",
    "        a = func(z)\n",
    "    end\n",
    "    return a\n",
    "end"
   ]
  },
  {
   "cell_type": "code",
   "execution_count": 11,
   "id": "0826ab95",
   "metadata": {},
   "outputs": [
    {
     "data": {
      "text/plain": [
       "dataset Iris:\n",
       "  metadata   =>    Dict{String, Any} with 4 entries\n",
       "  features   =>    150×4 DataFrame\n",
       "  targets    =>    150×1 DataFrame\n",
       "  dataframe  =>    150×5 DataFrame"
      ]
     },
     "execution_count": 11,
     "metadata": {},
     "output_type": "execute_result"
    }
   ],
   "source": [
    "dataset = Iris()"
   ]
  },
  {
   "cell_type": "code",
   "execution_count": 12,
   "id": "c3e33eae",
   "metadata": {},
   "outputs": [
    {
     "data": {
      "text/plain": [
       "150-element Vector{InlineStrings.String15}:\n",
       " \"Iris-virginica\"\n",
       " \"Iris-versicolor\"\n",
       " \"Iris-setosa\"\n",
       " \"Iris-setosa\"\n",
       " \"Iris-virginica\"\n",
       " \"Iris-virginica\"\n",
       " \"Iris-setosa\"\n",
       " \"Iris-versicolor\"\n",
       " \"Iris-versicolor\"\n",
       " \"Iris-versicolor\"\n",
       " \"Iris-virginica\"\n",
       " \"Iris-versicolor\"\n",
       " \"Iris-virginica\"\n",
       " ⋮\n",
       " \"Iris-versicolor\"\n",
       " \"Iris-versicolor\"\n",
       " \"Iris-versicolor\"\n",
       " \"Iris-setosa\"\n",
       " \"Iris-virginica\"\n",
       " \"Iris-virginica\"\n",
       " \"Iris-setosa\"\n",
       " \"Iris-setosa\"\n",
       " \"Iris-virginica\"\n",
       " \"Iris-virginica\"\n",
       " \"Iris-virginica\"\n",
       " \"Iris-setosa\""
      ]
     },
     "execution_count": 12,
     "metadata": {},
     "output_type": "execute_result"
    }
   ],
   "source": [
    "XData, yData = Iris(as_df=false)[:]\n",
    "shuffle = sample(1:length(yData), length(yData), replace=true)\n",
    "X_data = XData[:,shuffle]\n",
    "y_data = yData[shuffle]"
   ]
  },
  {
   "cell_type": "code",
   "execution_count": 30,
   "id": "610712aa",
   "metadata": {},
   "outputs": [
    {
     "data": {
      "text/plain": [
       "one_hot_argmax (generic function with 1 method)"
      ]
     },
     "execution_count": 30,
     "metadata": {},
     "output_type": "execute_result"
    }
   ],
   "source": [
    "function one_hot(y::Array)\n",
    "    # Find unique classes (species) in y\n",
    "    unique_classes = unique(y)\n",
    "    \n",
    "    # Create a dictionary to map each class to an index\n",
    "    class_to_index = Dict(class => i for (i, class) in enumerate(unique_classes))\n",
    "    \n",
    "    # Initialize a matrix to store one-hot encoded vectors\n",
    "    one_hot_matrix = zeros( length(unique_classes), length(y))\n",
    "    \n",
    "    # Populate the matrix\n",
    "    for (i, class) in enumerate(y)\n",
    "        class_index = class_to_index[class]\n",
    "        one_hot_matrix[class_index, i] = 1.0\n",
    "    end\n",
    "    \n",
    "    return one_hot_matrix, unique_classes  # Return the matrix and the unique class labels\n",
    "end\n",
    "function one_hot_argmax(A::AbstractMatrix)\n",
    "    # Find the index of the maximum element in each row\n",
    "    indices = argmax(A, dims=2)  # Returns a 150×1 array of indices (1, 2, or 3)\n",
    "    \n",
    "    # Initialize a matrix of zeros with the same size as A\n",
    "    one_hot = zeros(size(A))\n",
    "    \n",
    "    # Get the row indices (1 to 150)\n",
    "    rows = axes(A, 1)\n",
    "    \n",
    "    # Flatten the indices array to a vector\n",
    "    cols = vec(indices)\n",
    "    # Create Cartesian indices for each position to set to 1\n",
    "    inds = CartesianIndex.(cols)\n",
    "    # Set the corresponding positions in one_hot to 1\n",
    "    one_hot[inds] .= 1\n",
    "    \n",
    "    return one_hot\n",
    "end"
   ]
  },
  {
   "cell_type": "code",
   "execution_count": 31,
   "id": "8d2dee88",
   "metadata": {},
   "outputs": [
    {
     "data": {
      "text/plain": [
       "([1.0 0.0 … 0.0 1.0; 0.0 1.0 … 0.0 0.0; 0.0 0.0 … 1.0 0.0], InlineStrings.String15[\"Iris-virginica\", \"Iris-setosa\", \"Iris-versicolor\"])"
      ]
     },
     "execution_count": 31,
     "metadata": {},
     "output_type": "execute_result"
    }
   ],
   "source": [
    "y_data_OH, labels = one_hot(y_data)"
   ]
  },
  {
   "cell_type": "markdown",
   "id": "448cd768",
   "metadata": {},
   "source": [
    "Network must have input of 4 and output of 3"
   ]
  },
  {
   "cell_type": "code",
   "execution_count": 32,
   "id": "a730c5d2",
   "metadata": {},
   "outputs": [
    {
     "data": {
      "text/plain": [
       "cross_entropy (generic function with 1 method)"
      ]
     },
     "execution_count": 32,
     "metadata": {},
     "output_type": "execute_result"
    }
   ],
   "source": [
    "function cross_entropy(y_true, y_pred)\n",
    "    # Ensure numerical stability by adding a small epsilon to avoid log(0)\n",
    "    eps = 1e-15\n",
    "    y_pred_clipped = clamp.(y_pred, eps, 1.0 - eps)\n",
    "    #println(size(y_true, 2))\n",
    "    #display(y)\n",
    "    # Calculate the cross-entropy loss for each sample\n",
    "    ce_loss = -sum(y_true .* log.(y_pred_clipped)) / size(y_true, 1)  # size(y_true, 2) is the number of samples\n",
    "    \n",
    "    return ce_loss\n",
    "end"
   ]
  },
  {
   "cell_type": "code",
   "execution_count": 33,
   "id": "46ee5790",
   "metadata": {},
   "outputs": [
    {
     "data": {
      "text/plain": [
       "accuracy (generic function with 1 method)"
      ]
     },
     "execution_count": 33,
     "metadata": {},
     "output_type": "execute_result"
    }
   ],
   "source": [
    "function accuracy(y_true, y_pred)\n",
    "    #y = (batch, feature)\n",
    "    batch = size(y_true)[2]\n",
    "    acc=0\n",
    "    for i in 1:batch\n",
    "        if (y_true[i,:]==y_pred[i,:])\n",
    "            acc+=1\n",
    "        end\n",
    "    end\n",
    "    return acc/batch\n",
    "end"
   ]
  },
  {
   "cell_type": "code",
   "execution_count": 38,
   "id": "68723750",
   "metadata": {},
   "outputs": [
    {
     "data": {
      "text/plain": [
       "0.3333333333333333"
      ]
     },
     "execution_count": 38,
     "metadata": {},
     "output_type": "execute_result"
    }
   ],
   "source": [
    "dataset = Iris()\n",
    "XData, yData = Iris(as_df=false)[:]\n",
    "shuffle = sample(1:length(yData), length(yData), replace=true)\n",
    "X_data = XData[:,shuffle]\n",
    "y_data = yData[shuffle]\n",
    "y_data_OH, labels = one_hot(y_data)\n",
    "y_data_OH=y_data_OH'\n",
    "X_data=X_data'\n",
    "\n",
    "# Data\n",
    "batch_size = 20\n",
    "input_dimension = 4\n",
    "output_dimension = 3\n",
    "input = X_data[1:batch_size, :]#randn(batch_size, input_dimension)\n",
    "y = y_data_OH[1:batch_size, :]  # Should be one-hot encoded if using softmax with cross-entropy\n",
    "\n",
    "# Define activation functions\n",
    "activation_functions = [sigmoid, sigmoid, sigmoid, softmax]\n",
    "\n",
    "# Create layers\n",
    "layers = create_layers_batch(input_dimension, [20, 200, 120, output_dimension])\n",
    "out = feed_forward_batched(layers, input, activation_functions)\n",
    "out=one_hot_argmax(out)\n",
    "cross_entropy(y, out)\n",
    "accuracy(y, out)"
   ]
  }
 ],
 "metadata": {
  "@webio": {
   "lastCommId": null,
   "lastKernelId": null
  },
  "kernelspec": {
   "display_name": "Julia 1.8.5",
   "language": "julia",
   "name": "julia-1.8"
  },
  "language_info": {
   "file_extension": ".jl",
   "mimetype": "application/julia",
   "name": "julia",
   "version": "1.8.5"
  }
 },
 "nbformat": 4,
 "nbformat_minor": 5
}
