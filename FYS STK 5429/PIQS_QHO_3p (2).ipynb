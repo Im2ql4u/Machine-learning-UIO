{
 "cells": [
  {
   "cell_type": "code",
   "execution_count": 10,
   "id": "718644ea-0b28-43e8-9ee7-23137c5c1b40",
   "metadata": {},
   "outputs": [],
   "source": [
    "import torch, math\n",
    "import numpy as np\n",
    "from scipy.integrate import simps\n",
    "import torch.nn as nn\n",
    "import torch.optim as optim\n",
    "import matplotlib.pyplot as plt\n",
    "from math import factorial, sqrt, pi\n",
    "import torch\n",
    "import functorch"
   ]
  },
  {
   "cell_type": "code",
   "execution_count": 2,
   "id": "5e8338da-a3ae-4522-8c14-9a3fbe8e0bea",
   "metadata": {},
   "outputs": [
    {
     "data": {
      "text/plain": [
       "<module 'Master_funcs' from '/Users/aleksandersekkelsten/UIO/FYS4480/Master_funcs.py'>"
      ]
     },
     "execution_count": 2,
     "metadata": {},
     "output_type": "execute_result"
    }
   ],
   "source": [
    "import importlib\n",
    "import Master_funcs\n",
    "importlib.reload(Master_funcs)"
   ]
  },
  {
   "cell_type": "code",
   "execution_count": 85,
   "id": "75dd067c-82e6-4a3c-8783-0abc0efd9b23",
   "metadata": {},
   "outputs": [],
   "source": [
    "def train_model(V,E,f_net,optimizer,N_collocation=200,n_epochs=800, sdt_dev=0.2,factor=5):\n",
    "    # --- User-defined parameters ---\n",
    "    V_temp=V/factor\n",
    "    i=0\n",
    "    sign = np.sign(V)\n",
    "    n_permutations = 6\n",
    "    for epoch in range(n_epochs):\n",
    "        optimizer.zero_grad()\n",
    "        \n",
    "        x = torch.normal(0.0, sdt_dev, size=(N_collocation,n_particles,d))\n",
    "        SD = slater_determinant_from_C_occ_batch(x, C_occ)\n",
    "        \n",
    "        perm_list = [torch.randperm(n_particles) for _ in range(n_permutations)]\n",
    "        f_out= symmetrized_exp_nn_output(f_net, x, n_permutations=n_permutations)\n",
    "        f_out=f_out.reshape(len(f_out))\n",
    "        \n",
    "        psi = SD * f_out\n",
    "        norm=torch.norm(psi, p=2)\n",
    "        \n",
    "        laplacian = compute_laplacian_fast(psi_fn, x, permutations=perm_list)#compute_laplacian_fast(psi_fn, x)\n",
    "        V_harmonic = 0.5 * (x**2).sum(dim=(1,2)).view(-1,1)\n",
    "        V_int = compute_interaction_potential(x, V_temp, sigma)\n",
    "        V_total = V_harmonic + V_int\n",
    "        H_psi = -0.5 * laplacian + V_total * psi\n",
    "        residual = H_psi - (E)*psi\n",
    "\n",
    "        norm_loss = (psi.norm() - 1)**2*0.1\n",
    "        loss_pde = torch.mean((residual)**2)*100/norm**2\n",
    "        loss = loss_pde + norm_loss #+ loss_sym\n",
    "\n",
    "        loss.backward()\n",
    "        optimizer.step()\n",
    "        \n",
    "        if epoch % 10 == 0:\n",
    "            print(f\"Epoch {epoch:05d}:  Pde Loss = {loss_pde.item():.3e}, \"\n",
    "                  f\"Norm Loss = {norm_loss.item():.3e}\")#,  = {E_param.item():.3f}\")\n",
    "            if epoch%100 == 0:\n",
    "                i+=sign*0.5\n",
    "                V_temp = V_temp+i\n",
    "                V_temp = sign*min(abs(V),abs(V_temp))\n",
    "    return f_net"
   ]
  },
  {
   "cell_type": "code",
   "execution_count": 4,
   "id": "22b99c0d-2a8f-442e-807e-0f024dad8a1f",
   "metadata": {
    "jupyter": {
     "source_hidden": true
    }
   },
   "outputs": [],
   "source": [
    "def symmetrized_nn_output(NN, x, n_permutations=10, permutations=None):\n",
    "    \"\"\"\n",
    "    Enforces permutation symmetry by averaging NN outputs over several \n",
    "    permutations of the particle indices.\n",
    "    \n",
    "    Args:\n",
    "        NN: A callable neural network that accepts input x of shape \n",
    "            (batch, n_particles, d).\n",
    "        x: Tensor of shape (batch, n_particles, d).\n",
    "        n_permutations: Number of permutations to average over.\n",
    "        permutations: (Optional) A list of precomputed permutation indices of length n_permutations.\n",
    "        \n",
    "    Returns:\n",
    "        A tensor with the averaged (symmetrized) output.\n",
    "    \"\"\"\n",
    "    batch_size, n_particles, _ = x.shape\n",
    "    outputs = []\n",
    "    \n",
    "    if permutations is None:\n",
    "        # If no permutations are provided, generate them (not recommended within vmap)\n",
    "        for _ in range(n_permutations):\n",
    "            perm = torch.randperm(n_particles)\n",
    "            outputs.append(NN(x[:, perm, :]))\n",
    "    else:\n",
    "        for perm in permutations:\n",
    "            outputs.append(NN(x[:, perm, :]))\n",
    "    \n",
    "    outputs = torch.stack(outputs, dim=0)  # shape: (n_permutations, batch, output_dim)\n",
    "    return outputs.mean(dim=0)\n",
    "\n",
    "def symmetrized_exp_nn_output(NN, x, n_permutations=10, permutations=None):\n",
    "    \"\"\"\n",
    "    Applies the exponential to the symmetrized NN output,\n",
    "    implementing f(x)=exp(NN(x)).\n",
    "    \"\"\"\n",
    "    return torch.exp(symmetrized_nn_output(NN, x, n_permutations, permutations))\n",
    "\n",
    "def compute_laplacian_fast(psi_fn, x, permutations=None):\n",
    "    \"\"\"\n",
    "    Compute the Laplacian of psi for a batch of configurations using functorch.jacrev.\n",
    "    \n",
    "    Args:\n",
    "        psi_fn: A function mapping a single configuration x (shape: (n_particles, d))\n",
    "                to a scalar psi (0-dim tensor). Must be pure.\n",
    "        x: Tensor of shape (batch, n_particles, d) with requires_grad=True.\n",
    "        permutations: (Optional) Precomputed list of permutation indices.\n",
    "        \n",
    "    Returns:\n",
    "        Tensor of shape (batch, 1) containing the Laplacian of psi.\n",
    "    \"\"\"\n",
    "    batch, n_particles, d = x.shape\n",
    "    D = n_particles * d\n",
    "    # Flatten each configuration to shape (D,)\n",
    "    x_flat = x.view(batch, D)\n",
    "    \n",
    "    def f(xx):\n",
    "        # Reshape xx to (n_particles, d) and compute psi.\n",
    "        return psi_fn(xx.view(n_particles, d), permutations=permutations)\n",
    "    \n",
    "    def single_hessian(xx):\n",
    "        # Compute the Hessian via double jacrev.\n",
    "        return torch.func.jacrev(functorch.jacrev(f))(xx)\n",
    "    \n",
    "    # Vectorize single_hessian over the batch dimension.\n",
    "    hessians = torch.vmap(single_hessian)(x_flat)  # shape: (batch, D, D)\n",
    "    # Laplacian is the trace of the Hessian.\n",
    "    laplacian = torch.diagonal(hessians, dim1=1, dim2=2).sum(dim=1, keepdim=True)\n",
    "    return laplacian\n",
    "\n",
    "def psi_fn(x_single, permutations=None):\n",
    "    \"\"\"\n",
    "    Compute the wavefunction for a single configuration.\n",
    "    \n",
    "    Args:\n",
    "        x_single: Tensor of shape (n_particles, d) with requires_grad=True.\n",
    "        permutations: (Optional) Precomputed list of permutation indices.\n",
    "    \n",
    "    Returns:\n",
    "        A scalar tensor representing psi.\n",
    "    \"\"\"\n",
    "    # Add a batch dimension: shape (1, n_particles, d)\n",
    "    x_batch = x_single.unsqueeze(0)\n",
    "    SD_val = slater_determinant_from_C_occ_batch(x_batch, C_occ)  # Assumed to be defined globally.\n",
    "    # Use the symmetrized exponential NN output.\n",
    "    f_val = symmetrized_exp_nn_output(f_net, x_batch, n_permutations=10, permutations=permutations)\n",
    "    psi_val = (SD_val * f_val).squeeze()  # Return a scalar tensor.\n",
    "    return psi_val"
   ]
  },
  {
   "cell_type": "code",
   "execution_count": 5,
   "id": "1d9f8b1b-8894-4d2f-bd9a-bc8d365599b8",
   "metadata": {
    "jupyter": {
     "source_hidden": true
    }
   },
   "outputs": [],
   "source": [
    "def slater_determinant_from_C_occ(x_config, C_occ, normalize=True):\n",
    "    \"\"\"\n",
    "    Compute the Slater determinant for each configuration in a differentiable manner.\n",
    "    \n",
    "    Args:\n",
    "        x_config: Tensor of shape (batch, n_electrons, d) with electron positions (assume d=1).\n",
    "        C_occ:    Tensor of shape (n_basis, n_electrons) containing the occupied orbital coefficients.\n",
    "        normalize: If True, include the factor 1/sqrt(n_electrons!).\n",
    "        \n",
    "    Returns:\n",
    "        Tensor of shape (batch, 1) with the Slater determinant value for each configuration.\n",
    "    \"\"\"\n",
    "    batch, n_electrons, d = x_config.shape\n",
    "    n_basis = C_occ.shape[0]\n",
    "    SD_vals = []\n",
    "    \n",
    "    for i in range(batch):\n",
    "        # Extract positions for configuration i; shape (n_electrons,)\n",
    "        x_i = x_config[i, :, 0]  # assuming d = 1\n",
    "        # Evaluate basis functions at these positions; shape (n_electrons, n_basis)\n",
    "        phi_vals = evaluate_basis_functions_torch(x_i, n_basis)\n",
    "        # Build the molecular orbital matrix:\n",
    "        # Each molecular orbital is a linear combination: psi_j(x) = sum_p phi_p(x)*C_occ[p, j]\n",
    "        # For all electrons, this is: psi_mat = phi_vals @ C_occ, shape (n_electrons, n_electrons)\n",
    "        psi_mat = torch.matmul(phi_vals, C_occ)\n",
    "        # Compute the determinant in a differentiable manner.\n",
    "        # You can use torch.linalg.det or (for stability) torch.linalg.slogdet.\n",
    "        det_val = torch.linalg.det(psi_mat)\n",
    "        SD_vals.append(det_val)\n",
    "    \n",
    "    SD_vals = torch.stack(SD_vals).view(batch, 1)\n",
    "    if normalize:\n",
    "        SD_vals = SD_vals / math.sqrt(math.factorial(n_electrons))\n",
    "    return SD_vals\n",
    "def evaluate_basis_functions_torch(x, n_basis):\n",
    "    \"\"\"\n",
    "    Evaluate the 1D harmonic oscillator eigenfunctions at positions x in a differentiable manner.\n",
    "    \n",
    "    Args:\n",
    "        x: Tensor of shape (N,), where N is the number of positions.\n",
    "        n_basis: Number of basis functions to evaluate.\n",
    "        \n",
    "    Returns:\n",
    "        Tensor of shape (N, n_basis) where each column is one basis function evaluated at x.\n",
    "    \"\"\"\n",
    "    N = x.shape[0]\n",
    "    phi_vals = []  # will hold each phi_n evaluated at x\n",
    "    # For n = 0:\n",
    "    norm0 = 1.0 / math.sqrt(math.sqrt(math.pi))\n",
    "    phi0 = norm0 * torch.exp(-x**2 / 2)\n",
    "    phi_vals.append(phi0)\n",
    "    \n",
    "    if n_basis > 1:\n",
    "        # For n = 1:\n",
    "        norm1 = 1.0 / math.sqrt(2 * math.sqrt(math.pi))\n",
    "        phi1 = norm1 * (2 * x) * torch.exp(-x**2 / 2)\n",
    "        phi_vals.append(phi1)\n",
    "    \n",
    "    # For higher n, use recurrence for Hermite polynomials:\n",
    "    # H_0(x) = 1, H_1(x) = 2x, and for n>=1: H_{n+1}(x) = 2x H_n(x) - 2n H_{n-1}(x)\n",
    "    if n_basis > 2:\n",
    "        H_prev_prev = torch.ones_like(x)  # H_0(x)\n",
    "        H_prev = 2 * x                     # H_1(x)\n",
    "        for n in range(1, n_basis - 1):\n",
    "            H_curr = 2 * x * H_prev - 2 * n * H_prev_prev\n",
    "            # Normalization: 1/sqrt(2^n n! sqrt(pi))\n",
    "            norm = 1.0 / math.sqrt((2**(n+1)) * math.factorial(n+1) * math.sqrt(math.pi))\n",
    "            phi_n = norm * torch.exp(-x**2 / 2) * H_curr\n",
    "            phi_vals.append(phi_n)\n",
    "            H_prev_prev, H_prev = H_prev, H_curr\n",
    "\n",
    "    # Stack along the second dimension: shape (N, n_basis)\n",
    "    phi_vals = torch.stack(phi_vals, dim=1)\n",
    "    return phi_vals"
   ]
  },
  {
   "cell_type": "code",
   "execution_count": 6,
   "id": "a3d49f4a-0126-40da-b0a2-a48ecc58da1d",
   "metadata": {
    "jupyter": {
     "source_hidden": true
    }
   },
   "outputs": [],
   "source": [
    "def compute_interaction_potential(x, V, sigma):\n",
    "    batch_size, n_particles, d = x.shape\n",
    "    V_int = torch.zeros(batch_size, device=x.device)\n",
    "    for i in range(n_particles):\n",
    "        for j in range(i + 1, n_particles):\n",
    "            r = x[:, i, :] - x[:, j, :]\n",
    "            r_sq = (r**2).sum(dim=1)\n",
    "            V_int += torch.exp(-r_sq / (2 * sigma**2))\n",
    "    return (V / (sigma * np.sqrt(2 * np.pi))) * V_int.view(-1, 1)\n",
    "\n",
    "def psi_plot_fn(positions):\n",
    "    # positions: Tensor of shape (batch, n_particles, 1)\n",
    "    SD_vals = slater_determinant_from_C_occ(positions, C_occ)   # (batch, 1)\n",
    "    f_vals  = symmetrized_exp_nn_output(f_net, positions, n_permutations=10)#f_net(positions).view(-1, 1)                        # (batch, 1)\n",
    "    return SD_vals * f_vals   # (batch, 1)\n"
   ]
  },
  {
   "cell_type": "code",
   "execution_count": 7,
   "id": "2209570a-fea4-4557-9ba5-4645b7ec3147",
   "metadata": {
    "jupyter": {
     "source_hidden": true
    }
   },
   "outputs": [],
   "source": [
    "def evaluate_basis_functions_torch_batch(x, n_basis):\n",
    "    \"\"\"\n",
    "    Batched evaluation of 1D harmonic oscillator eigenfunctions.\n",
    "    \n",
    "    Args:\n",
    "        x: Tensor of shape (B, N) with electron positions.\n",
    "        n_basis: Number of basis functions to evaluate.\n",
    "        \n",
    "    Returns:\n",
    "        Tensor of shape (B, N, n_basis) where each column is one basis function.\n",
    "    \"\"\"\n",
    "    B, N = x.shape  # B=batch, N = number of electrons\n",
    "    # Precompute the Gaussian factor (shape: (B, N))\n",
    "    gauss = torch.exp(-x**2 / 2)\n",
    "    \n",
    "    # Precompute normalization factors\n",
    "    norm0 = 1.0 / math.sqrt(math.sqrt(math.pi))\n",
    "    phi0 = norm0 * gauss  # shape: (B, N)\n",
    "    \n",
    "    phi_list = [phi0]\n",
    "    \n",
    "    if n_basis > 1:\n",
    "        norm1 = 1.0 / math.sqrt(2 * math.sqrt(math.pi))\n",
    "        phi1 = norm1 * (2 * x) * gauss\n",
    "        phi_list.append(phi1)\n",
    "    \n",
    "    if n_basis > 2:\n",
    "        # Use vectorized recurrence for Hermite polynomials.\n",
    "        H_prev_prev = torch.ones_like(x)  # H_0\n",
    "        H_prev = 2 * x                     # H_1\n",
    "        for n in range(1, n_basis - 1):\n",
    "            H_curr = 2 * x * H_prev - 2 * n * H_prev_prev\n",
    "            norm = 1.0 / math.sqrt((2**(n+1)) * math.factorial(n+1) * math.sqrt(math.pi))\n",
    "            phi_n = norm * gauss * H_curr  # shape: (B, N)\n",
    "            phi_list.append(phi_n)\n",
    "            H_prev_prev, H_prev = H_prev, H_curr\n",
    "\n",
    "    # Stack basis functions along a new last dimension -> shape: (B, N, n_basis)\n",
    "    phi_vals = torch.stack(phi_list, dim=-1)\n",
    "    return phi_vals\n",
    "\n",
    "def slater_determinant_from_C_occ_batch(x_config, C_occ, normalize=True):\n",
    "    \"\"\"\n",
    "    Compute the Slater determinant in a fully batched manner.\n",
    "    \n",
    "    Args:\n",
    "        x_config: Tensor of shape (B, n_electrons, d), here assume d = 1,\n",
    "                  so you can squeeze it to (B, n_electrons).\n",
    "        C_occ:    Tensor of shape (n_basis, n_electrons) containing occupied orbital coefficients.\n",
    "        normalize: If True, include the factor 1/sqrt(n_electrons!).\n",
    "        \n",
    "    Returns:\n",
    "        Tensor of shape (B, 1) with the Slater determinant value for each configuration.\n",
    "    \"\"\"\n",
    "    B, n_electrons, d = x_config.shape\n",
    "    # For d=1, squeeze out the last dimension.\n",
    "    x = x_config.squeeze(-1)  # shape: (B, n_electrons)\n",
    "    n_basis = C_occ.shape[0]\n",
    "    \n",
    "    # Evaluate basis functions for all configurations at once.\n",
    "    # phi_vals has shape (B, n_electrons, n_basis)\n",
    "    phi_vals = evaluate_basis_functions_torch_batch(x, n_basis)\n",
    "    \n",
    "    # Build the molecular orbital matrix for each configuration.\n",
    "    # psi_mat: (B, n_electrons, n_basis) @ (n_basis, n_electrons) -> (B, n_electrons, n_electrons)\n",
    "    psi_mat = torch.matmul(phi_vals, C_occ)\n",
    "    \n",
    "    # Compute determinants in batch.\n",
    "    det_vals = torch.linalg.det(psi_mat).view(B, 1)\n",
    "    \n",
    "    if normalize:\n",
    "        det_vals = det_vals / math.sqrt(math.factorial(n_electrons))\n",
    "    return det_vals\n"
   ]
  },
  {
   "cell_type": "code",
   "execution_count": 15,
   "id": "213e0a84-9679-4b16-a91d-20db48d0ac2a",
   "metadata": {},
   "outputs": [],
   "source": [
    "# Optimized VMC Simulation\n",
    "def vmc_simulation_optimized(psi_fn, N_particles, d, N_steps, V=0, delta=0.03, use_drift=True, batch_size=1,device='cpu'):\n",
    "    \"\"\"\n",
    "    Optimized Variational Monte Carlo simulation using:\n",
    "    - Finite difference Laplacian.\n",
    "    - Batched Metropolis updates.\n",
    "    - Reduced number of symmetrization permutations.\n",
    "    \n",
    "    Note: The acceptance test is performed per walker, not per coordinate.\n",
    "    \"\"\"\n",
    "    # Initialize positions (batch_size walkers)\n",
    "    positions = torch.zeros((batch_size, N_particles, d), device=device, requires_grad=True)\n",
    "    energy_sum = 0.0\n",
    "    accept_count = 0\n",
    "    n_permutations = 1  # Reduced for efficiency\n",
    "\n",
    "    # Precompute permutations\n",
    "    perm_list = [torch.randperm(N_particles) for _ in range(n_permutations)]\n",
    "    \n",
    "    # Compute initial wavefunction value and ensure proper shape.\n",
    "    psi_old = psi_fn(positions, permutations=perm_list)\n",
    "    if psi_old.dim() == 1:\n",
    "        psi_old = psi_old.view(-1, 1, 1)  # reshape to [batch_size, 1, 1]\n",
    "\n",
    "    for step in range(N_steps):\n",
    "        if use_drift:\n",
    "            with torch.enable_grad():\n",
    "                positions_var = positions.clone().detach().requires_grad_(True)\n",
    "                psi = psi_fn(positions_var)\n",
    "                drift = torch.autograd.grad(psi.sum(), positions_var, retain_graph=True)[0]\n",
    "                drift = drift.detach()\n",
    "        else:\n",
    "            drift = 0\n",
    "\n",
    "        # Propose new positions (entire walker update)\n",
    "        x_new = positions + delta * (drift + torch.randn(positions.shape, device=device))\n",
    "        x_new = x_new.detach()  # No gradient tracking\n",
    "\n",
    "        # Compute new psi values and ensure proper shape.\n",
    "        psi_new = psi_fn(x_new, permutations=perm_list)\n",
    "        if psi_new.dim() == 1:\n",
    "            psi_new = psi_new.view(-1, 1, 1)\n",
    "\n",
    "        # Metropolis-Hastings acceptance test (per walker)\n",
    "        with torch.no_grad():\n",
    "            # Compute acceptance ratio per walker (shape: [batch_size, 1, 1])\n",
    "            ratio = abs(psi_new / (psi_old + 1e-8)) \n",
    "            # Collapse extra dimensions so that ratio is [batch_size]\n",
    "            ratio = ratio.view(-1)\n",
    "            # Generate one random number per walker\n",
    "            rand_vals = torch.rand(batch_size, device=psi_old.device)\n",
    "            # Accept the entire move for a walker if the random number is less than ratio\n",
    "            accept_decision = rand_vals < ratio\n",
    "            \n",
    "            # Update positions and psi_old for accepted walkers only\n",
    "            positions[accept_decision] = x_new[accept_decision]\n",
    "            psi_old[accept_decision] = psi_new[accept_decision]\n",
    "            accept_count += accept_decision.sum().item()\n",
    "\n",
    "        # Compute Local Energy (vectorized)\n",
    "        #pos_energy = positions.clone().detach().requires_grad_(True)  # Clone ensures independent computation graph\n",
    "        #laplacian = compute_laplacian_fast2(psi_fn, pos_energy, permutations=perm_list)\n",
    "\n",
    "        with torch.no_grad():\n",
    "            pos_energy = positions.detach().requires_grad_(True)\n",
    "            laplacian = compute_laplacian_fast(psi_fn, pos_energy,permutations=perm_list)  # Finite difference Laplacian\n",
    "            V_total = (0.5 * (pos_energy ** 2).sum(dim=(1, 2), keepdim=True) +\n",
    "                       compute_interaction_potential(pos_energy, V, 0.5))\n",
    "            # psi_fn(pos_energy) should return a tensor that can be reshaped to [batch, 1]\n",
    "            E_loc = -0.5 * laplacian / (psi_fn(pos_energy).view(-1, 1) + 1e-8) + V_total\n",
    "            energy_sum += E_loc.sum().item()\n",
    "\n",
    "    avg_energy = energy_sum / (N_steps * batch_size)\n",
    "    acceptance_ratio = accept_count / (N_steps * batch_size)\n",
    "\n",
    "    return avg_energy, acceptance_ratio"
   ]
  },
  {
   "cell_type": "code",
   "execution_count": 14,
   "id": "eda45a14-c770-4a10-9eb8-3be1b228d657",
   "metadata": {
    "jupyter": {
     "source_hidden": true
    }
   },
   "outputs": [],
   "source": [
    "\n",
    "def psi_fn_SD(positions, permutations=None):\n",
    "    if len(positions.shape) == 2:\n",
    "        positions = positions.unsqueeze(0)\n",
    "        SD_vals = slater_determinant_from_C_occ(positions, C_occ)\n",
    "        SD_vals = SD_vals.squeeze()\n",
    "    else:\n",
    "        SD_vals = slater_determinant_from_C_occ(positions, C_occ)\n",
    "    return SD_vals\n",
    "    \n",
    "def psi_fn_E(positions,permutations=None):\n",
    "    # positions: Tensor of shape (batch, n_particles, 1)\n",
    "    if len(positions.shape)==2:\n",
    "        positions = positions.unsqueeze(0)\n",
    "        SD_vals = slater_determinant_from_C_occ_batch(positions, C_occ)   # (batch, 1)\n",
    "        f_vals  = symmetrized_exp_nn_output(f_net, positions, n_permutations=1, permutations=permutations) \n",
    "        psi = (SD_vals * f_vals).squeeze()\n",
    "    else:\n",
    "        SD_vals = slater_determinant_from_C_occ_batch(positions, C_occ)   # (batch, 1)\n",
    "        f_vals  = symmetrized_exp_nn_output(f_net, positions, n_permutations=1,permutations=permutations) \n",
    "        psi = (SD_vals * f_vals)\n",
    "    return psi"
   ]
  },
  {
   "cell_type": "code",
   "execution_count": 8,
   "id": "40882535-cb9a-4ead-897a-17ebe3105d67",
   "metadata": {},
   "outputs": [
    {
     "name": "stdout",
     "output_type": "stream",
     "text": [
      "Pre-calculating two-electron integrals with Gaussian interaction...\n",
      "Two-electron integrals computed.\n",
      "Starting Hartree-Fock iterations...\n",
      "Iteration 0: Δ = 0.000e+00\n",
      "4.493950890853855\n"
     ]
    },
    {
     "data": {
      "text/plain": [
       "tensor([[ 1.0000e+00,  1.6271e-16,  4.5120e-04],\n",
       "        [-1.6296e-16,  1.0000e+00,  5.5511e-16],\n",
       "        [-4.5120e-04, -3.3307e-16,  1.0000e+00]])"
      ]
     },
     "execution_count": 8,
     "metadata": {},
     "output_type": "execute_result"
    }
   ],
   "source": [
    "\n",
    "# Main Code Block\n",
    "# ---------------------------\n",
    "L = 5        # Spatial domain [-L, L]\n",
    "n_grid = 100   # Number of grid points\n",
    "grid = np.linspace(-L, L, n_grid)\n",
    "\n",
    "n_basis = 3    # Number of basis functions (should be ≥ n_electrons)\n",
    "n_electrons = 3\n",
    "\n",
    "# 1. Initialize the harmonic oscillator basis\n",
    "basis = Master_funcs.initialize_harmonic_basis(n_basis, grid)\n",
    "\n",
    "# 2. Compute one-electron integrals (kinetic + harmonic potential)\n",
    "Hcore = Master_funcs.one_electron_integral(basis, grid)\n",
    "\n",
    "# 3. Define the Gaussian interaction potential on the grid using your form:\n",
    "#    V(x,x') = V/(sigma*sqrt(2*pi))*exp(-((x-x')^2)/(2*sigma^2))\n",
    "V = 0#20.0       # Interaction strength\n",
    "sigma = 0.5   # Gaussian width\n",
    "V_interaction = Master_funcs.gaussian_interaction_potential(grid, V, sigma)\n",
    "# 4. Pre-calculate the two-electron integrals in the basis using the Gaussian potential\n",
    "print(\"Pre-calculating two-electron integrals with Gaussian interaction...\")\n",
    "two_body = Master_funcs.compute_two_body_integrals(basis, V_interaction, grid)\n",
    "print(\"Two-electron integrals computed.\")\n",
    "V=0\n",
    "# 5. Run the Hartree-Fock procedure\n",
    "print(\"Starting Hartree-Fock iterations...\")\n",
    "C_occ, orbital_energies = Master_funcs.hartree_fock(n_electrons, basis, grid, Hcore, two_body)\n",
    "C_occ=torch.Tensor(C_occ)\n",
    "C_occ"
   ]
  },
  {
   "cell_type": "code",
   "execution_count": 9,
   "id": "679f0d9b-9386-447d-92fd-0f23610f2163",
   "metadata": {},
   "outputs": [
    {
     "data": {
      "image/png": "[encoded data removed]",
      "text/plain": [
       "<Figure size 800x500 with 1 Axes>"
      ]
     },
     "metadata": {},
     "output_type": "display_data"
    }
   ],
   "source": [
    "n_particles=3\n",
    "Ngrid = 35       # Number of grid points per particle coordinate\n",
    "x_grid = torch.linspace(-L, L, Ngrid)  # shape: (Ngrid,)\n",
    "mesh = torch.meshgrid(*([x_grid] * n_particles), indexing='ij')\n",
    "positions = torch.stack([m.reshape(-1) for m in mesh], dim=-1)\n",
    "positions = positions.unsqueeze(-1)\n",
    "SD_vals = slater_determinant_from_C_occ_batch(positions, C_occ)  \n",
    "psi_vals = SD_vals\n",
    "psi_sq = (psi_vals.abs()**2).view(*([Ngrid] * n_particles))\n",
    "density = psi_sq.clone()\n",
    "for axis in sorted(range(1, n_particles), reverse=True):\n",
    "    density = torch.trapz(density, x_grid, dim=axis)\n",
    "n_x = n_particles * density  # shape: (Ngrid,)\n",
    "\n",
    "# --- 7. Plot the one-body density ---\n",
    "x_vals = x_grid.detach().cpu().numpy()\n",
    "n_vals = n_x.detach().cpu().numpy()\n",
    "\n",
    "plt.figure(figsize=(8, 5))\n",
    "plt.plot(x_vals, n_vals, label=r'$n(x_1)$')\n",
    "plt.xlabel('x')\n",
    "plt.ylabel(r'$n(x_1)$')\n",
    "plt.title(f'One-Body Density for a {n_particles}-Particle 1D System')\n",
    "plt.legend()\n",
    "plt.show()"
   ]
  },
  {
   "cell_type": "code",
   "execution_count": 16,
   "id": "00dff747-3e76-4ef6-bdae-3f25436756a9",
   "metadata": {},
   "outputs": [
    {
     "name": "stderr",
     "output_type": "stream",
     "text": [
      "/opt/anaconda3/lib/python3.9/site-packages/torch/_functorch/deprecated.py:83: UserWarning: We've integrated functorch into PyTorch. As the final step of the integration, functorch.jacrev is deprecated as of PyTorch 2.0 and will be deleted in a future version of PyTorch >= 2.3. Please use torch.func.jacrev instead; see the PyTorch 2.0 release notes and/or the torch.func migration guide for more details https://pytorch.org/docs/master/func.migrating.html\n",
      "  warn_deprecated('jacrev')\n"
     ]
    },
    {
     "data": {
      "text/plain": [
       "(4.500000078519186, 0.9935)"
      ]
     },
     "execution_count": 16,
     "metadata": {},
     "output_type": "execute_result"
    }
   ],
   "source": [
    "vmc_simulation_optimized(psi_fn_SD, 3, 1, 6000,V=0)"
   ]
  },
  {
   "cell_type": "code",
   "execution_count": 18,
   "id": "ec287704-a0d8-47ac-89b6-3f004dae33c9",
   "metadata": {},
   "outputs": [],
   "source": [
    "# 5. Neural Network (PINN) for the Correction Factor f(x;θ)\n",
    "# =======================\n",
    "class PINN(nn.Module):\n",
    "    def __init__(self, input_dim, hidden_dim=64, n_hidden=1):\n",
    "        super(PINN, self).__init__()\n",
    "        layers = []\n",
    "        layers.append(nn.Linear(input_dim, hidden_dim))\n",
    "        layers.append(nn.GELU())\n",
    "        for _ in range(n_hidden):\n",
    "            layers.append(nn.Linear(hidden_dim, hidden_dim))\n",
    "            layers.append(nn.GELU())\n",
    "        layers.append(nn.Linear(hidden_dim, 1))  # output a scalar correction factor\n",
    "        self.net = nn.Sequential(*layers)\n",
    "    \n",
    "    def forward(self, x):\n",
    "        # x is of shape (batch_size, n_particles, d)\n",
    "        # Flatten the input to (batch_size, n_particles * d)\n",
    "        batch_size = x.shape[0]\n",
    "        x_flat = x.view(batch_size, -1)\n",
    "        return self.net(x_flat)\n"
   ]
  },
  {
   "cell_type": "code",
   "execution_count": 71,
   "id": "15c6baf0-30fc-4607-a41a-2d29ce3d1868",
   "metadata": {},
   "outputs": [],
   "source": [
    "device=\"cpu\"\n",
    "d = 1\n",
    "n_particles=3\n",
    "N_collocation = 400 # Number of collocation points per training iteration\n",
    "learning_rate = 1e-3\n",
    "n_epochs = 2000\n",
    "\n",
    "# Test points\n",
    "input_dim = n_particles * d\n",
    "f_net = PINN(input_dim=input_dim, hidden_dim=64, n_hidden=1).to(device)\n",
    "optimizer = optim.Adam(list(f_net.parameters()), lr=learning_rate)"
   ]
  },
  {
   "cell_type": "code",
   "execution_count": 73,
   "id": "89e7fe97-5c28-49d5-bc82-7657317b073b",
   "metadata": {
    "scrolled": true
   },
   "outputs": [
    {
     "name": "stdout",
     "output_type": "stream",
     "text": [
      "Epoch 00000:  Pde Loss = 1.595e-02, Norm Loss = 8.208e-03\n",
      "Epoch 00010:  Pde Loss = 1.242e-02, Norm Loss = 2.317e-03\n",
      "Epoch 00020:  Pde Loss = 1.251e-02, Norm Loss = 4.755e-05\n",
      "Epoch 00030:  Pde Loss = 9.349e-03, Norm Loss = 7.608e-05\n",
      "Epoch 00040:  Pde Loss = 6.121e-03, Norm Loss = 2.853e-04\n",
      "Epoch 00050:  Pde Loss = 3.864e-03, Norm Loss = 7.894e-05\n",
      "Epoch 00060:  Pde Loss = 3.364e-03, Norm Loss = 1.764e-04\n",
      "Epoch 00070:  Pde Loss = 2.234e-03, Norm Loss = 2.832e-05\n",
      "Epoch 00080:  Pde Loss = 1.702e-03, Norm Loss = 1.728e-05\n",
      "Epoch 00090:  Pde Loss = 1.091e-03, Norm Loss = 4.112e-04\n",
      "Epoch 00100:  Pde Loss = 5.025e-04, Norm Loss = 7.347e-07\n",
      "Epoch 00110:  Pde Loss = 3.961e-04, Norm Loss = 2.568e-03\n",
      "Epoch 00120:  Pde Loss = 3.147e-04, Norm Loss = 5.038e-07\n",
      "Epoch 00130:  Pde Loss = 1.207e-04, Norm Loss = 2.375e-03\n",
      "Epoch 00140:  Pde Loss = 1.770e-04, Norm Loss = 3.514e-04\n",
      "Epoch 00150:  Pde Loss = 1.451e-04, Norm Loss = 8.863e-05\n",
      "Epoch 00160:  Pde Loss = 1.223e-04, Norm Loss = 4.252e-05\n",
      "Epoch 00170:  Pde Loss = 5.099e-05, Norm Loss = 1.043e-04\n",
      "Epoch 00180:  Pde Loss = 4.706e-05, Norm Loss = 2.502e-03\n",
      "Epoch 00190:  Pde Loss = 6.792e-05, Norm Loss = 4.305e-05\n",
      "Epoch 00200:  Pde Loss = 7.816e-05, Norm Loss = 7.972e-05\n",
      "Epoch 00210:  Pde Loss = 8.191e-05, Norm Loss = 3.125e-04\n"
     ]
    },
    {
     "ename": "KeyboardInterrupt",
     "evalue": "",
     "output_type": "error",
     "traceback": [
      "\u001b[0;31m---------------------------------------------------------------------------\u001b[0m",
      "\u001b[0;31mKeyboardInterrupt\u001b[0m                         Traceback (most recent call last)",
      "\u001b[0;32m/var/folders/22/r_0rd109347dhcsf5w9p2y3w0000gn/T/ipykernel_92510/2234298223.py\u001b[0m in \u001b[0;36m<module>\u001b[0;34m\u001b[0m\n\u001b[1;32m      1\u001b[0m \u001b[0moptimizer\u001b[0m \u001b[0;34m=\u001b[0m \u001b[0moptim\u001b[0m\u001b[0;34m.\u001b[0m\u001b[0mAdam\u001b[0m\u001b[0;34m(\u001b[0m\u001b[0mlist\u001b[0m\u001b[0;34m(\u001b[0m\u001b[0mf_net\u001b[0m\u001b[0;34m.\u001b[0m\u001b[0mparameters\u001b[0m\u001b[0;34m(\u001b[0m\u001b[0;34m)\u001b[0m\u001b[0;34m)\u001b[0m\u001b[0;34m,\u001b[0m \u001b[0mlr\u001b[0m\u001b[0;34m=\u001b[0m\u001b[0;36m1e-3\u001b[0m\u001b[0;34m)\u001b[0m\u001b[0;34m\u001b[0m\u001b[0;34m\u001b[0m\u001b[0m\n\u001b[0;32m----> 2\u001b[0;31m \u001b[0mtrain_model\u001b[0m\u001b[0;34m(\u001b[0m\u001b[0;36m0\u001b[0m\u001b[0;34m,\u001b[0m\u001b[0;36m4.5\u001b[0m\u001b[0;34m,\u001b[0m\u001b[0mf_net\u001b[0m\u001b[0;34m,\u001b[0m\u001b[0moptimizer\u001b[0m\u001b[0;34m,\u001b[0m\u001b[0mn_epochs\u001b[0m\u001b[0;34m=\u001b[0m\u001b[0mn_epochs\u001b[0m\u001b[0;34m,\u001b[0m\u001b[0msdt_dev\u001b[0m\u001b[0;34m=\u001b[0m\u001b[0;36m1.9\u001b[0m\u001b[0;34m,\u001b[0m\u001b[0mN_collocation\u001b[0m\u001b[0;34m=\u001b[0m\u001b[0mN_collocation\u001b[0m\u001b[0;34m)\u001b[0m\u001b[0;34m\u001b[0m\u001b[0;34m\u001b[0m\u001b[0m\n\u001b[0m",
      "\u001b[0;32m/var/folders/22/r_0rd109347dhcsf5w9p2y3w0000gn/T/ipykernel_92510/3636204700.py\u001b[0m in \u001b[0;36mtrain_model\u001b[0;34m(V, E, f_net, optimizer, N_collocation, n_epochs, sdt_dev)\u001b[0m\n\u001b[1;32m     29\u001b[0m         \u001b[0mloss\u001b[0m \u001b[0;34m=\u001b[0m \u001b[0mloss_pde\u001b[0m \u001b[0;34m+\u001b[0m \u001b[0mnorm_loss\u001b[0m \u001b[0;31m#+ loss_sym\u001b[0m\u001b[0;34m\u001b[0m\u001b[0;34m\u001b[0m\u001b[0m\n\u001b[1;32m     30\u001b[0m \u001b[0;34m\u001b[0m\u001b[0m\n\u001b[0;32m---> 31\u001b[0;31m         \u001b[0mloss\u001b[0m\u001b[0;34m.\u001b[0m\u001b[0mbackward\u001b[0m\u001b[0;34m(\u001b[0m\u001b[0;34m)\u001b[0m\u001b[0;34m\u001b[0m\u001b[0;34m\u001b[0m\u001b[0m\n\u001b[0m\u001b[1;32m     32\u001b[0m         \u001b[0moptimizer\u001b[0m\u001b[0;34m.\u001b[0m\u001b[0mstep\u001b[0m\u001b[0;34m(\u001b[0m\u001b[0;34m)\u001b[0m\u001b[0;34m\u001b[0m\u001b[0;34m\u001b[0m\u001b[0m\n\u001b[1;32m     33\u001b[0m \u001b[0;34m\u001b[0m\u001b[0m\n",
      "\u001b[0;32m/opt/anaconda3/lib/python3.9/site-packages/torch/_tensor.py\u001b[0m in \u001b[0;36mbackward\u001b[0;34m(self, gradient, retain_graph, create_graph, inputs)\u001b[0m\n\u001b[1;32m    490\u001b[0m                 \u001b[0minputs\u001b[0m\u001b[0;34m=\u001b[0m\u001b[0minputs\u001b[0m\u001b[0;34m,\u001b[0m\u001b[0;34m\u001b[0m\u001b[0;34m\u001b[0m\u001b[0m\n\u001b[1;32m    491\u001b[0m             )\n\u001b[0;32m--> 492\u001b[0;31m         torch.autograd.backward(\n\u001b[0m\u001b[1;32m    493\u001b[0m             \u001b[0mself\u001b[0m\u001b[0;34m,\u001b[0m \u001b[0mgradient\u001b[0m\u001b[0;34m,\u001b[0m \u001b[0mretain_graph\u001b[0m\u001b[0;34m,\u001b[0m \u001b[0mcreate_graph\u001b[0m\u001b[0;34m,\u001b[0m \u001b[0minputs\u001b[0m\u001b[0;34m=\u001b[0m\u001b[0minputs\u001b[0m\u001b[0;34m\u001b[0m\u001b[0;34m\u001b[0m\u001b[0m\n\u001b[1;32m    494\u001b[0m         )\n",
      "\u001b[0;32m/opt/anaconda3/lib/python3.9/site-packages/torch/autograd/__init__.py\u001b[0m in \u001b[0;36mbackward\u001b[0;34m(tensors, grad_tensors, retain_graph, create_graph, grad_variables, inputs)\u001b[0m\n\u001b[1;32m    249\u001b[0m     \u001b[0;31m# some Python versions print out the first line of a multi-line function\u001b[0m\u001b[0;34m\u001b[0m\u001b[0;34m\u001b[0m\u001b[0m\n\u001b[1;32m    250\u001b[0m     \u001b[0;31m# calls in the traceback and some print out the last line\u001b[0m\u001b[0;34m\u001b[0m\u001b[0;34m\u001b[0m\u001b[0m\n\u001b[0;32m--> 251\u001b[0;31m     Variable._execution_engine.run_backward(  # Calls into the C++ engine to run the backward pass\n\u001b[0m\u001b[1;32m    252\u001b[0m         \u001b[0mtensors\u001b[0m\u001b[0;34m,\u001b[0m\u001b[0;34m\u001b[0m\u001b[0;34m\u001b[0m\u001b[0m\n\u001b[1;32m    253\u001b[0m         \u001b[0mgrad_tensors_\u001b[0m\u001b[0;34m,\u001b[0m\u001b[0;34m\u001b[0m\u001b[0;34m\u001b[0m\u001b[0m\n",
      "\u001b[0;31mKeyboardInterrupt\u001b[0m: "
     ]
    }
   ],
   "source": [
    "optimizer = optim.Adam(list(f_net.parameters()), lr=1e-3)\n",
    "train_model(0,4.5,f_net,optimizer,n_epochs=n_epochs,sdt_dev=1.9,N_collocation=N_collocation)"
   ]
  },
  {
   "cell_type": "code",
   "execution_count": 75,
   "id": "9bb7cc00-6114-4c33-b603-5063e5dac11f",
   "metadata": {},
   "outputs": [
    {
     "data": {
      "text/plain": [
       "(4.505598396673799, 0.969125)"
      ]
     },
     "execution_count": 75,
     "metadata": {},
     "output_type": "execute_result"
    }
   ],
   "source": [
    "vmc_simulation_optimized(psi_fn_E, 3, 1, 8000,V=0)"
   ]
  },
  {
   "cell_type": "code",
   "execution_count": 99,
   "id": "16b4e946-44f9-49e9-80e4-6d43223140e7",
   "metadata": {
    "scrolled": true
   },
   "outputs": [
    {
     "data": {
      "image/png": "[encoded data removed]",
      "text/plain": [
       "<Figure size 800x500 with 1 Axes>"
      ]
     },
     "metadata": {},
     "output_type": "display_data"
    }
   ],
   "source": [
    "L=3.5\n",
    "Ngrid = 35       # Number of grid points per particle coordinate\n",
    "x_grid = torch.linspace(-L, L, Ngrid)  # shape: (Ngrid,)\n",
    "mesh = torch.meshgrid(*([x_grid] * n_particles), indexing='ij')\n",
    "positions = torch.stack([m.reshape(-1) for m in mesh], dim=-1)\n",
    "positions = positions.unsqueeze(-1)\n",
    "\n",
    "SD_vals = slater_determinant_from_C_occ_batch(positions, C_occ)   # shape: (Ngrid**n_particles, 1)\n",
    "f_vals  = symmetrized_exp_nn_output(f_net, positions, n_permutations=10)#f_net(positions)#torch.exp(f_net(positions)).view(-1, 1)                        # shape: (Ngrid**n_particles, 1)\n",
    "psi_vals =  SD_vals * f_vals                            # shape: (Ngrid**n_particles, 1)\n",
    "psi_sq = (psi_vals.abs()**2).view(*([Ngrid] * n_particles))\n",
    "density = psi_sq.clone()\n",
    "for axis in sorted(range(1, n_particles), reverse=True):\n",
    "    density = torch.trapz(density, x_grid, dim=axis)\n",
    "n_x = n_particles * density  # shape: (Ngrid,)\n",
    "\n",
    "# --- 7. Plot the one-body density ---\n",
    "x_vals = x_grid.detach().cpu().numpy()\n",
    "n_vals = n_x.detach().cpu().numpy()\n",
    "\n",
    "plt.figure(figsize=(8, 5))\n",
    "plt.plot(x_vals, n_vals, label=r'$n(x_1)$')\n",
    "plt.xlabel('x')\n",
    "plt.ylabel(r'$n(x_1)$')\n",
    "plt.title(f'One-Body Density for a {n_particles}-Particle 1D System')\n",
    "plt.legend()\n",
    "plt.show()"
   ]
  },
  {
   "cell_type": "code",
   "execution_count": 88,
   "id": "5856c69c-528a-4af6-a2f2-a63af1382135",
   "metadata": {
    "scrolled": true
   },
   "outputs": [
    {
     "name": "stdout",
     "output_type": "stream",
     "text": [
      "Epoch 00000:  Pde Loss = 2.358e-03, Norm Loss = 3.822e-04\n",
      "Epoch 00010:  Pde Loss = 2.514e-03, Norm Loss = 3.809e-04\n",
      "Epoch 00020:  Pde Loss = 2.265e-03, Norm Loss = 8.940e-05\n",
      "Epoch 00030:  Pde Loss = 2.211e-03, Norm Loss = 2.305e-07\n",
      "Epoch 00040:  Pde Loss = 2.422e-03, Norm Loss = 4.046e-06\n",
      "Epoch 00050:  Pde Loss = 2.555e-03, Norm Loss = 2.758e-04\n",
      "Epoch 00060:  Pde Loss = 2.404e-03, Norm Loss = 2.175e-04\n",
      "Epoch 00070:  Pde Loss = 2.195e-03, Norm Loss = 1.025e-04\n",
      "Epoch 00080:  Pde Loss = 2.547e-03, Norm Loss = 7.828e-06\n",
      "Epoch 00090:  Pde Loss = 2.100e-03, Norm Loss = 4.193e-04\n",
      "Epoch 00100:  Pde Loss = 2.205e-03, Norm Loss = 1.280e-03\n",
      "Epoch 00110:  Pde Loss = 2.707e-03, Norm Loss = 1.492e-03\n",
      "Epoch 00120:  Pde Loss = 2.256e-03, Norm Loss = 1.327e-03\n",
      "Epoch 00130:  Pde Loss = 2.186e-03, Norm Loss = 9.785e-05\n",
      "Epoch 00140:  Pde Loss = 2.709e-03, Norm Loss = 2.058e-03\n",
      "Epoch 00150:  Pde Loss = 2.286e-03, Norm Loss = 7.376e-05\n",
      "Epoch 00160:  Pde Loss = 2.237e-03, Norm Loss = 2.235e-04\n",
      "Epoch 00170:  Pde Loss = 2.244e-03, Norm Loss = 8.843e-05\n",
      "Epoch 00180:  Pde Loss = 2.546e-03, Norm Loss = 1.771e-04\n",
      "Epoch 00190:  Pde Loss = 2.624e-03, Norm Loss = 6.622e-04\n",
      "Epoch 00200:  Pde Loss = 2.179e-03, Norm Loss = 9.418e-05\n",
      "Epoch 00210:  Pde Loss = 2.535e-03, Norm Loss = 2.748e-04\n",
      "Epoch 00220:  Pde Loss = 2.154e-03, Norm Loss = 6.175e-04\n",
      "Epoch 00230:  Pde Loss = 2.427e-03, Norm Loss = 1.313e-05\n",
      "Epoch 00240:  Pde Loss = 2.327e-03, Norm Loss = 1.361e-04\n",
      "Epoch 00250:  Pde Loss = 2.138e-03, Norm Loss = 8.156e-04\n",
      "Epoch 00260:  Pde Loss = 2.134e-03, Norm Loss = 1.585e-05\n",
      "Epoch 00270:  Pde Loss = 2.168e-03, Norm Loss = 9.806e-04\n",
      "Epoch 00280:  Pde Loss = 2.438e-03, Norm Loss = 1.946e-05\n",
      "Epoch 00290:  Pde Loss = 2.334e-03, Norm Loss = 7.905e-06\n",
      "Epoch 00300:  Pde Loss = 2.513e-03, Norm Loss = 7.756e-05\n",
      "Epoch 00310:  Pde Loss = 2.079e-03, Norm Loss = 3.830e-07\n",
      "Epoch 00320:  Pde Loss = 2.229e-03, Norm Loss = 2.217e-04\n",
      "Epoch 00330:  Pde Loss = 2.359e-03, Norm Loss = 6.186e-04\n",
      "Epoch 00340:  Pde Loss = 2.318e-03, Norm Loss = 1.941e-04\n",
      "Epoch 00350:  Pde Loss = 2.622e-03, Norm Loss = 1.983e-04\n",
      "Epoch 00360:  Pde Loss = 2.226e-03, Norm Loss = 3.612e-05\n",
      "Epoch 00370:  Pde Loss = 2.373e-03, Norm Loss = 1.130e-04\n",
      "Epoch 00380:  Pde Loss = 2.025e-03, Norm Loss = 5.767e-03\n",
      "Epoch 00390:  Pde Loss = 2.087e-03, Norm Loss = 2.363e-03\n",
      "Epoch 00400:  Pde Loss = 2.012e-03, Norm Loss = 2.978e-04\n",
      "Epoch 00410:  Pde Loss = 2.106e-03, Norm Loss = 4.961e-04\n",
      "Epoch 00420:  Pde Loss = 2.279e-03, Norm Loss = 1.555e-03\n",
      "Epoch 00430:  Pde Loss = 2.427e-03, Norm Loss = 1.104e-03\n",
      "Epoch 00440:  Pde Loss = 2.756e-03, Norm Loss = 5.774e-04\n",
      "Epoch 00450:  Pde Loss = 2.313e-03, Norm Loss = 6.425e-04\n",
      "Epoch 00460:  Pde Loss = 2.173e-03, Norm Loss = 2.465e-04\n",
      "Epoch 00470:  Pde Loss = 2.390e-03, Norm Loss = 8.884e-05\n",
      "Epoch 00480:  Pde Loss = 1.964e-03, Norm Loss = 1.333e-03\n",
      "Epoch 00490:  Pde Loss = 2.535e-03, Norm Loss = 5.095e-04\n",
      "Epoch 00500:  Pde Loss = 2.492e-03, Norm Loss = 6.009e-04\n",
      "Epoch 00510:  Pde Loss = 1.988e-03, Norm Loss = 3.521e-04\n",
      "Epoch 00520:  Pde Loss = 2.152e-03, Norm Loss = 2.313e-06\n",
      "Epoch 00530:  Pde Loss = 2.130e-03, Norm Loss = 2.274e-03\n",
      "Epoch 00540:  Pde Loss = 1.977e-03, Norm Loss = 6.849e-04\n",
      "Epoch 00550:  Pde Loss = 2.050e-03, Norm Loss = 8.649e-04\n",
      "Epoch 00560:  Pde Loss = 2.103e-03, Norm Loss = 5.275e-04\n",
      "Epoch 00570:  Pde Loss = 2.340e-03, Norm Loss = 3.426e-04\n",
      "Epoch 00580:  Pde Loss = 2.096e-03, Norm Loss = 1.624e-05\n",
      "Epoch 00590:  Pde Loss = 1.841e-03, Norm Loss = 1.312e-03\n",
      "Epoch 00600:  Pde Loss = 1.784e-03, Norm Loss = 9.810e-04\n",
      "Epoch 00610:  Pde Loss = 2.015e-03, Norm Loss = 2.768e-04\n",
      "Epoch 00620:  Pde Loss = 2.067e-03, Norm Loss = 3.021e-04\n",
      "Epoch 00630:  Pde Loss = 1.909e-03, Norm Loss = 4.078e-05\n",
      "Epoch 00640:  Pde Loss = 1.923e-03, Norm Loss = 2.613e-04\n",
      "Epoch 00650:  Pde Loss = 2.021e-03, Norm Loss = 5.661e-04\n",
      "Epoch 00660:  Pde Loss = 1.881e-03, Norm Loss = 3.182e-05\n",
      "Epoch 00670:  Pde Loss = 1.812e-03, Norm Loss = 1.434e-05\n",
      "Epoch 00680:  Pde Loss = 1.774e-03, Norm Loss = 1.795e-05\n",
      "Epoch 00690:  Pde Loss = 1.912e-03, Norm Loss = 8.235e-06\n",
      "Epoch 00700:  Pde Loss = 2.101e-03, Norm Loss = 2.345e-06\n",
      "Epoch 00710:  Pde Loss = 2.136e-03, Norm Loss = 1.697e-04\n",
      "Epoch 00720:  Pde Loss = 1.986e-03, Norm Loss = 1.698e-07\n",
      "Epoch 00730:  Pde Loss = 1.927e-03, Norm Loss = 4.119e-04\n",
      "Epoch 00740:  Pde Loss = 2.486e-03, Norm Loss = 4.393e-04\n",
      "Epoch 00750:  Pde Loss = 1.877e-03, Norm Loss = 1.039e-05\n",
      "Epoch 00760:  Pde Loss = 1.877e-03, Norm Loss = 4.796e-05\n",
      "Epoch 00770:  Pde Loss = 2.016e-03, Norm Loss = 4.355e-05\n",
      "Epoch 00780:  Pde Loss = 2.063e-03, Norm Loss = 1.174e-03\n",
      "Epoch 00790:  Pde Loss = 1.953e-03, Norm Loss = 4.306e-05\n",
      "Epoch 00800:  Pde Loss = 1.630e-03, Norm Loss = 1.204e-03\n",
      "Epoch 00810:  Pde Loss = 2.034e-03, Norm Loss = 4.406e-04\n",
      "Epoch 00820:  Pde Loss = 1.963e-03, Norm Loss = 4.801e-04\n",
      "Epoch 00830:  Pde Loss = 1.825e-03, Norm Loss = 5.007e-04\n"
     ]
    },
    {
     "ename": "KeyboardInterrupt",
     "evalue": "",
     "output_type": "error",
     "traceback": [
      "\u001b[0;31m---------------------------------------------------------------------------\u001b[0m",
      "\u001b[0;31mKeyboardInterrupt\u001b[0m                         Traceback (most recent call last)",
      "\u001b[0;32m/var/folders/22/r_0rd109347dhcsf5w9p2y3w0000gn/T/ipykernel_92510/4061220140.py\u001b[0m in \u001b[0;36m<module>\u001b[0;34m\u001b[0m\n\u001b[1;32m      1\u001b[0m \u001b[0;31m# Test points\u001b[0m\u001b[0;34m\u001b[0m\u001b[0;34m\u001b[0m\u001b[0m\n\u001b[1;32m      2\u001b[0m \u001b[0moptimizer\u001b[0m \u001b[0;34m=\u001b[0m \u001b[0moptim\u001b[0m\u001b[0;34m.\u001b[0m\u001b[0mAdam\u001b[0m\u001b[0;34m(\u001b[0m\u001b[0mlist\u001b[0m\u001b[0;34m(\u001b[0m\u001b[0mf_net\u001b[0m\u001b[0;34m.\u001b[0m\u001b[0mparameters\u001b[0m\u001b[0;34m(\u001b[0m\u001b[0;34m)\u001b[0m\u001b[0;34m)\u001b[0m\u001b[0;34m,\u001b[0m \u001b[0mlr\u001b[0m\u001b[0;34m=\u001b[0m\u001b[0;36m1e-3\u001b[0m\u001b[0;34m)\u001b[0m\u001b[0;34m\u001b[0m\u001b[0;34m\u001b[0m\u001b[0m\n\u001b[0;32m----> 3\u001b[0;31m \u001b[0mtrain_model\u001b[0m\u001b[0;34m(\u001b[0m\u001b[0;34m-\u001b[0m\u001b[0;36m10\u001b[0m\u001b[0;34m,\u001b[0m\u001b[0;36m0.73\u001b[0m\u001b[0;34m,\u001b[0m\u001b[0mf_net\u001b[0m\u001b[0;34m,\u001b[0m\u001b[0moptimizer\u001b[0m\u001b[0;34m,\u001b[0m\u001b[0mn_epochs\u001b[0m\u001b[0;34m=\u001b[0m\u001b[0mn_epochs\u001b[0m\u001b[0;34m,\u001b[0m\u001b[0msdt_dev\u001b[0m\u001b[0;34m=\u001b[0m\u001b[0;36m1.8\u001b[0m\u001b[0;34m,\u001b[0m\u001b[0mN_collocation\u001b[0m\u001b[0;34m=\u001b[0m\u001b[0mN_collocation\u001b[0m\u001b[0;34m,\u001b[0m\u001b[0mfactor\u001b[0m\u001b[0;34m=\u001b[0m\u001b[0;36m1\u001b[0m\u001b[0;34m)\u001b[0m\u001b[0;34m\u001b[0m\u001b[0;34m\u001b[0m\u001b[0m\n\u001b[0m",
      "\u001b[0;32m/var/folders/22/r_0rd109347dhcsf5w9p2y3w0000gn/T/ipykernel_92510/12276125.py\u001b[0m in \u001b[0;36mtrain_model\u001b[0;34m(V, E, f_net, optimizer, N_collocation, n_epochs, sdt_dev, factor)\u001b[0m\n\u001b[1;32m     18\u001b[0m         \u001b[0mnorm\u001b[0m\u001b[0;34m=\u001b[0m\u001b[0mtorch\u001b[0m\u001b[0;34m.\u001b[0m\u001b[0mnorm\u001b[0m\u001b[0;34m(\u001b[0m\u001b[0mpsi\u001b[0m\u001b[0;34m,\u001b[0m \u001b[0mp\u001b[0m\u001b[0;34m=\u001b[0m\u001b[0;36m2\u001b[0m\u001b[0;34m)\u001b[0m\u001b[0;34m\u001b[0m\u001b[0;34m\u001b[0m\u001b[0m\n\u001b[1;32m     19\u001b[0m \u001b[0;34m\u001b[0m\u001b[0m\n\u001b[0;32m---> 20\u001b[0;31m         \u001b[0mlaplacian\u001b[0m \u001b[0;34m=\u001b[0m \u001b[0mcompute_laplacian_fast\u001b[0m\u001b[0;34m(\u001b[0m\u001b[0mpsi_fn\u001b[0m\u001b[0;34m,\u001b[0m \u001b[0mx\u001b[0m\u001b[0;34m,\u001b[0m \u001b[0mpermutations\u001b[0m\u001b[0;34m=\u001b[0m\u001b[0mperm_list\u001b[0m\u001b[0;34m)\u001b[0m\u001b[0;31m#compute_laplacian_fast(psi_fn, x)\u001b[0m\u001b[0;34m\u001b[0m\u001b[0;34m\u001b[0m\u001b[0m\n\u001b[0m\u001b[1;32m     21\u001b[0m         \u001b[0mV_harmonic\u001b[0m \u001b[0;34m=\u001b[0m \u001b[0;36m0.5\u001b[0m \u001b[0;34m*\u001b[0m \u001b[0;34m(\u001b[0m\u001b[0mx\u001b[0m\u001b[0;34m**\u001b[0m\u001b[0;36m2\u001b[0m\u001b[0;34m)\u001b[0m\u001b[0;34m.\u001b[0m\u001b[0msum\u001b[0m\u001b[0;34m(\u001b[0m\u001b[0mdim\u001b[0m\u001b[0;34m=\u001b[0m\u001b[0;34m(\u001b[0m\u001b[0;36m1\u001b[0m\u001b[0;34m,\u001b[0m\u001b[0;36m2\u001b[0m\u001b[0;34m)\u001b[0m\u001b[0;34m)\u001b[0m\u001b[0;34m.\u001b[0m\u001b[0mview\u001b[0m\u001b[0;34m(\u001b[0m\u001b[0;34m-\u001b[0m\u001b[0;36m1\u001b[0m\u001b[0;34m,\u001b[0m\u001b[0;36m1\u001b[0m\u001b[0;34m)\u001b[0m\u001b[0;34m\u001b[0m\u001b[0;34m\u001b[0m\u001b[0m\n\u001b[1;32m     22\u001b[0m         \u001b[0mV_int\u001b[0m \u001b[0;34m=\u001b[0m \u001b[0mcompute_interaction_potential\u001b[0m\u001b[0;34m(\u001b[0m\u001b[0mx\u001b[0m\u001b[0;34m,\u001b[0m \u001b[0mV_temp\u001b[0m\u001b[0;34m,\u001b[0m \u001b[0msigma\u001b[0m\u001b[0;34m)\u001b[0m\u001b[0;34m\u001b[0m\u001b[0;34m\u001b[0m\u001b[0m\n",
      "\u001b[0;32m/var/folders/22/r_0rd109347dhcsf5w9p2y3w0000gn/T/ipykernel_92510/889904764.py\u001b[0m in \u001b[0;36mcompute_laplacian_fast\u001b[0;34m(psi_fn, x, permutations)\u001b[0m\n\u001b[1;32m     66\u001b[0m \u001b[0;34m\u001b[0m\u001b[0m\n\u001b[1;32m     67\u001b[0m     \u001b[0;31m# Vectorize single_hessian over the batch dimension.\u001b[0m\u001b[0;34m\u001b[0m\u001b[0;34m\u001b[0m\u001b[0m\n\u001b[0;32m---> 68\u001b[0;31m     \u001b[0mhessians\u001b[0m \u001b[0;34m=\u001b[0m \u001b[0mtorch\u001b[0m\u001b[0;34m.\u001b[0m\u001b[0mvmap\u001b[0m\u001b[0;34m(\u001b[0m\u001b[0msingle_hessian\u001b[0m\u001b[0;34m)\u001b[0m\u001b[0;34m(\u001b[0m\u001b[0mx_flat\u001b[0m\u001b[0;34m)\u001b[0m  \u001b[0;31m# shape: (batch, D, D)\u001b[0m\u001b[0;34m\u001b[0m\u001b[0;34m\u001b[0m\u001b[0m\n\u001b[0m\u001b[1;32m     69\u001b[0m     \u001b[0;31m# Laplacian is the trace of the Hessian.\u001b[0m\u001b[0;34m\u001b[0m\u001b[0;34m\u001b[0m\u001b[0m\n\u001b[1;32m     70\u001b[0m     \u001b[0mlaplacian\u001b[0m \u001b[0;34m=\u001b[0m \u001b[0mtorch\u001b[0m\u001b[0;34m.\u001b[0m\u001b[0mdiagonal\u001b[0m\u001b[0;34m(\u001b[0m\u001b[0mhessians\u001b[0m\u001b[0;34m,\u001b[0m \u001b[0mdim1\u001b[0m\u001b[0;34m=\u001b[0m\u001b[0;36m1\u001b[0m\u001b[0;34m,\u001b[0m \u001b[0mdim2\u001b[0m\u001b[0;34m=\u001b[0m\u001b[0;36m2\u001b[0m\u001b[0;34m)\u001b[0m\u001b[0;34m.\u001b[0m\u001b[0msum\u001b[0m\u001b[0;34m(\u001b[0m\u001b[0mdim\u001b[0m\u001b[0;34m=\u001b[0m\u001b[0;36m1\u001b[0m\u001b[0;34m,\u001b[0m \u001b[0mkeepdim\u001b[0m\u001b[0;34m=\u001b[0m\u001b[0;32mTrue\u001b[0m\u001b[0;34m)\u001b[0m\u001b[0;34m\u001b[0m\u001b[0;34m\u001b[0m\u001b[0m\n",
      "\u001b[0;32m/opt/anaconda3/lib/python3.9/site-packages/torch/_functorch/apis.py\u001b[0m in \u001b[0;36mwrapped\u001b[0;34m(*args, **kwargs)\u001b[0m\n\u001b[1;32m    186\u001b[0m     \u001b[0;31m# @functools.wraps(func)\u001b[0m\u001b[0;34m\u001b[0m\u001b[0;34m\u001b[0m\u001b[0m\n\u001b[1;32m    187\u001b[0m     \u001b[0;32mdef\u001b[0m \u001b[0mwrapped\u001b[0m\u001b[0;34m(\u001b[0m\u001b[0;34m*\u001b[0m\u001b[0margs\u001b[0m\u001b[0;34m,\u001b[0m \u001b[0;34m**\u001b[0m\u001b[0mkwargs\u001b[0m\u001b[0;34m)\u001b[0m\u001b[0;34m:\u001b[0m\u001b[0;34m\u001b[0m\u001b[0;34m\u001b[0m\u001b[0m\n\u001b[0;32m--> 188\u001b[0;31m         \u001b[0;32mreturn\u001b[0m \u001b[0mvmap_impl\u001b[0m\u001b[0;34m(\u001b[0m\u001b[0mfunc\u001b[0m\u001b[0;34m,\u001b[0m \u001b[0min_dims\u001b[0m\u001b[0;34m,\u001b[0m \u001b[0mout_dims\u001b[0m\u001b[0;34m,\u001b[0m \u001b[0mrandomness\u001b[0m\u001b[0;34m,\u001b[0m \u001b[0mchunk_size\u001b[0m\u001b[0;34m,\u001b[0m \u001b[0;34m*\u001b[0m\u001b[0margs\u001b[0m\u001b[0;34m,\u001b[0m \u001b[0;34m**\u001b[0m\u001b[0mkwargs\u001b[0m\u001b[0;34m)\u001b[0m\u001b[0;34m\u001b[0m\u001b[0;34m\u001b[0m\u001b[0m\n\u001b[0m\u001b[1;32m    189\u001b[0m \u001b[0;34m\u001b[0m\u001b[0m\n\u001b[1;32m    190\u001b[0m     \u001b[0;32mreturn\u001b[0m \u001b[0mwrapped\u001b[0m\u001b[0;34m\u001b[0m\u001b[0;34m\u001b[0m\u001b[0m\n",
      "\u001b[0;32m/opt/anaconda3/lib/python3.9/site-packages/torch/_functorch/vmap.py\u001b[0m in \u001b[0;36mvmap_impl\u001b[0;34m(func, in_dims, out_dims, randomness, chunk_size, *args, **kwargs)\u001b[0m\n\u001b[1;32m    264\u001b[0m \u001b[0;34m\u001b[0m\u001b[0m\n\u001b[1;32m    265\u001b[0m     \u001b[0;31m# If chunk_size is not specified.\u001b[0m\u001b[0;34m\u001b[0m\u001b[0;34m\u001b[0m\u001b[0m\n\u001b[0;32m--> 266\u001b[0;31m     return _flat_vmap(\n\u001b[0m\u001b[1;32m    267\u001b[0m         \u001b[0mfunc\u001b[0m\u001b[0;34m,\u001b[0m \u001b[0mbatch_size\u001b[0m\u001b[0;34m,\u001b[0m \u001b[0mflat_in_dims\u001b[0m\u001b[0;34m,\u001b[0m \u001b[0mflat_args\u001b[0m\u001b[0;34m,\u001b[0m \u001b[0margs_spec\u001b[0m\u001b[0;34m,\u001b[0m \u001b[0mout_dims\u001b[0m\u001b[0;34m,\u001b[0m \u001b[0mrandomness\u001b[0m\u001b[0;34m,\u001b[0m \u001b[0;34m**\u001b[0m\u001b[0mkwargs\u001b[0m\u001b[0;34m\u001b[0m\u001b[0;34m\u001b[0m\u001b[0m\n\u001b[1;32m    268\u001b[0m     )\n",
      "\u001b[0;32m/opt/anaconda3/lib/python3.9/site-packages/torch/_functorch/vmap.py\u001b[0m in \u001b[0;36mfn\u001b[0;34m(*args, **kwargs)\u001b[0m\n\u001b[1;32m     36\u001b[0m     \u001b[0;32mdef\u001b[0m \u001b[0mfn\u001b[0m\u001b[0;34m(\u001b[0m\u001b[0;34m*\u001b[0m\u001b[0margs\u001b[0m\u001b[0;34m,\u001b[0m \u001b[0;34m**\u001b[0m\u001b[0mkwargs\u001b[0m\u001b[0;34m)\u001b[0m\u001b[0;34m:\u001b[0m\u001b[0;34m\u001b[0m\u001b[0;34m\u001b[0m\u001b[0m\n\u001b[1;32m     37\u001b[0m         \u001b[0;32mwith\u001b[0m \u001b[0mtorch\u001b[0m\u001b[0;34m.\u001b[0m\u001b[0mautograd\u001b[0m\u001b[0;34m.\u001b[0m\u001b[0mgraph\u001b[0m\u001b[0;34m.\u001b[0m\u001b[0mdisable_saved_tensors_hooks\u001b[0m\u001b[0;34m(\u001b[0m\u001b[0mmessage\u001b[0m\u001b[0;34m)\u001b[0m\u001b[0;34m:\u001b[0m\u001b[0;34m\u001b[0m\u001b[0;34m\u001b[0m\u001b[0m\n\u001b[0;32m---> 38\u001b[0;31m             \u001b[0;32mreturn\u001b[0m \u001b[0mf\u001b[0m\u001b[0;34m(\u001b[0m\u001b[0;34m*\u001b[0m\u001b[0margs\u001b[0m\u001b[0;34m,\u001b[0m \u001b[0;34m**\u001b[0m\u001b[0mkwargs\u001b[0m\u001b[0;34m)\u001b[0m\u001b[0;34m\u001b[0m\u001b[0;34m\u001b[0m\u001b[0m\n\u001b[0m\u001b[1;32m     39\u001b[0m     \u001b[0;32mreturn\u001b[0m \u001b[0mfn\u001b[0m\u001b[0;34m\u001b[0m\u001b[0;34m\u001b[0m\u001b[0m\n\u001b[1;32m     40\u001b[0m \u001b[0;34m\u001b[0m\u001b[0m\n",
      "\u001b[0;32m/opt/anaconda3/lib/python3.9/site-packages/torch/_functorch/vmap.py\u001b[0m in \u001b[0;36m_flat_vmap\u001b[0;34m(func, batch_size, flat_in_dims, flat_args, args_spec, out_dims, randomness, **kwargs)\u001b[0m\n\u001b[1;32m    377\u001b[0m     \u001b[0;32mtry\u001b[0m\u001b[0;34m:\u001b[0m\u001b[0;34m\u001b[0m\u001b[0;34m\u001b[0m\u001b[0m\n\u001b[1;32m    378\u001b[0m         \u001b[0mbatched_inputs\u001b[0m \u001b[0;34m=\u001b[0m \u001b[0m_create_batched_inputs\u001b[0m\u001b[0;34m(\u001b[0m\u001b[0mflat_in_dims\u001b[0m\u001b[0;34m,\u001b[0m \u001b[0mflat_args\u001b[0m\u001b[0;34m,\u001b[0m \u001b[0mvmap_level\u001b[0m\u001b[0;34m,\u001b[0m \u001b[0margs_spec\u001b[0m\u001b[0;34m)\u001b[0m\u001b[0;34m\u001b[0m\u001b[0;34m\u001b[0m\u001b[0m\n\u001b[0;32m--> 379\u001b[0;31m         \u001b[0mbatched_outputs\u001b[0m \u001b[0;34m=\u001b[0m \u001b[0mfunc\u001b[0m\u001b[0;34m(\u001b[0m\u001b[0;34m*\u001b[0m\u001b[0mbatched_inputs\u001b[0m\u001b[0;34m,\u001b[0m \u001b[0;34m**\u001b[0m\u001b[0mkwargs\u001b[0m\u001b[0;34m)\u001b[0m\u001b[0;34m\u001b[0m\u001b[0;34m\u001b[0m\u001b[0m\n\u001b[0m\u001b[1;32m    380\u001b[0m         \u001b[0;32mreturn\u001b[0m \u001b[0m_unwrap_batched\u001b[0m\u001b[0;34m(\u001b[0m\u001b[0mbatched_outputs\u001b[0m\u001b[0;34m,\u001b[0m \u001b[0mout_dims\u001b[0m\u001b[0;34m,\u001b[0m \u001b[0mvmap_level\u001b[0m\u001b[0;34m,\u001b[0m \u001b[0mbatch_size\u001b[0m\u001b[0;34m,\u001b[0m \u001b[0mfunc\u001b[0m\u001b[0;34m)\u001b[0m\u001b[0;34m\u001b[0m\u001b[0;34m\u001b[0m\u001b[0m\n\u001b[1;32m    381\u001b[0m     \u001b[0;32mfinally\u001b[0m\u001b[0;34m:\u001b[0m\u001b[0;34m\u001b[0m\u001b[0;34m\u001b[0m\u001b[0m\n",
      "\u001b[0;32m/var/folders/22/r_0rd109347dhcsf5w9p2y3w0000gn/T/ipykernel_92510/889904764.py\u001b[0m in \u001b[0;36msingle_hessian\u001b[0;34m(xx)\u001b[0m\n\u001b[1;32m     63\u001b[0m     \u001b[0;32mdef\u001b[0m \u001b[0msingle_hessian\u001b[0m\u001b[0;34m(\u001b[0m\u001b[0mxx\u001b[0m\u001b[0;34m)\u001b[0m\u001b[0;34m:\u001b[0m\u001b[0;34m\u001b[0m\u001b[0;34m\u001b[0m\u001b[0m\n\u001b[1;32m     64\u001b[0m         \u001b[0;31m# Compute the Hessian via double jacrev.\u001b[0m\u001b[0;34m\u001b[0m\u001b[0;34m\u001b[0m\u001b[0m\n\u001b[0;32m---> 65\u001b[0;31m         \u001b[0;32mreturn\u001b[0m \u001b[0mtorch\u001b[0m\u001b[0;34m.\u001b[0m\u001b[0mfunc\u001b[0m\u001b[0;34m.\u001b[0m\u001b[0mjacrev\u001b[0m\u001b[0;34m(\u001b[0m\u001b[0mfunctorch\u001b[0m\u001b[0;34m.\u001b[0m\u001b[0mjacrev\u001b[0m\u001b[0;34m(\u001b[0m\u001b[0mf\u001b[0m\u001b[0;34m)\u001b[0m\u001b[0;34m)\u001b[0m\u001b[0;34m(\u001b[0m\u001b[0mxx\u001b[0m\u001b[0;34m)\u001b[0m\u001b[0;34m\u001b[0m\u001b[0;34m\u001b[0m\u001b[0m\n\u001b[0m\u001b[1;32m     66\u001b[0m \u001b[0;34m\u001b[0m\u001b[0m\n\u001b[1;32m     67\u001b[0m     \u001b[0;31m# Vectorize single_hessian over the batch dimension.\u001b[0m\u001b[0;34m\u001b[0m\u001b[0;34m\u001b[0m\u001b[0m\n",
      "\u001b[0;32m/opt/anaconda3/lib/python3.9/site-packages/torch/_functorch/eager_transforms.py\u001b[0m in \u001b[0;36mwrapper_fn\u001b[0;34m(*args)\u001b[0m\n\u001b[1;32m    599\u001b[0m             \u001b[0mflat_jacobians_per_input\u001b[0m \u001b[0;34m=\u001b[0m \u001b[0mcompute_jacobian_preallocate_and_copy\u001b[0m\u001b[0;34m(\u001b[0m\u001b[0;34m)\u001b[0m\u001b[0;34m\u001b[0m\u001b[0;34m\u001b[0m\u001b[0m\n\u001b[1;32m    600\u001b[0m         \u001b[0;32melse\u001b[0m\u001b[0;34m:\u001b[0m\u001b[0;34m\u001b[0m\u001b[0;34m\u001b[0m\u001b[0m\n\u001b[0;32m--> 601\u001b[0;31m             \u001b[0mflat_jacobians_per_input\u001b[0m \u001b[0;34m=\u001b[0m \u001b[0mcompute_jacobian_stacked\u001b[0m\u001b[0;34m(\u001b[0m\u001b[0;34m)\u001b[0m\u001b[0;34m\u001b[0m\u001b[0;34m\u001b[0m\u001b[0m\n\u001b[0m\u001b[1;32m    602\u001b[0m \u001b[0;34m\u001b[0m\u001b[0m\n\u001b[1;32m    603\u001b[0m         \u001b[0;31m# Step 2: The returned jacobian is one big tensor per input. In this step,\u001b[0m\u001b[0;34m\u001b[0m\u001b[0;34m\u001b[0m\u001b[0m\n",
      "\u001b[0;32m/opt/anaconda3/lib/python3.9/site-packages/torch/_functorch/eager_transforms.py\u001b[0m in \u001b[0;36mcompute_jacobian_stacked\u001b[0;34m()\u001b[0m\n\u001b[1;32m    530\u001b[0m                     \u001b[0mchunked_result\u001b[0m \u001b[0;34m=\u001b[0m \u001b[0mvjp_fn\u001b[0m\u001b[0;34m(\u001b[0m\u001b[0mbasis\u001b[0m\u001b[0;34m)\u001b[0m\u001b[0;34m\u001b[0m\u001b[0;34m\u001b[0m\u001b[0m\n\u001b[1;32m    531\u001b[0m                 \u001b[0;32melse\u001b[0m\u001b[0;34m:\u001b[0m  \u001b[0;31m# chunk_size is None or chunk_size != 1\u001b[0m\u001b[0;34m\u001b[0m\u001b[0;34m\u001b[0m\u001b[0m\n\u001b[0;32m--> 532\u001b[0;31m                     \u001b[0mchunked_result\u001b[0m \u001b[0;34m=\u001b[0m \u001b[0mvmap\u001b[0m\u001b[0;34m(\u001b[0m\u001b[0mvjp_fn\u001b[0m\u001b[0;34m)\u001b[0m\u001b[0;34m(\u001b[0m\u001b[0mbasis\u001b[0m\u001b[0;34m)\u001b[0m\u001b[0;34m\u001b[0m\u001b[0;34m\u001b[0m\u001b[0m\n\u001b[0m\u001b[1;32m    533\u001b[0m \u001b[0;34m\u001b[0m\u001b[0m\n\u001b[1;32m    534\u001b[0m                 \u001b[0mflat_results\u001b[0m\u001b[0;34m,\u001b[0m \u001b[0m_\u001b[0m \u001b[0;34m=\u001b[0m \u001b[0mtree_flatten\u001b[0m\u001b[0;34m(\u001b[0m\u001b[0mchunked_result\u001b[0m\u001b[0;34m)\u001b[0m\u001b[0;34m\u001b[0m\u001b[0;34m\u001b[0m\u001b[0m\n",
      "\u001b[0;32m/opt/anaconda3/lib/python3.9/site-packages/torch/_functorch/apis.py\u001b[0m in \u001b[0;36mwrapped\u001b[0;34m(*args, **kwargs)\u001b[0m\n\u001b[1;32m    186\u001b[0m     \u001b[0;31m# @functools.wraps(func)\u001b[0m\u001b[0;34m\u001b[0m\u001b[0;34m\u001b[0m\u001b[0m\n\u001b[1;32m    187\u001b[0m     \u001b[0;32mdef\u001b[0m \u001b[0mwrapped\u001b[0m\u001b[0;34m(\u001b[0m\u001b[0;34m*\u001b[0m\u001b[0margs\u001b[0m\u001b[0;34m,\u001b[0m \u001b[0;34m**\u001b[0m\u001b[0mkwargs\u001b[0m\u001b[0;34m)\u001b[0m\u001b[0;34m:\u001b[0m\u001b[0;34m\u001b[0m\u001b[0;34m\u001b[0m\u001b[0m\n\u001b[0;32m--> 188\u001b[0;31m         \u001b[0;32mreturn\u001b[0m \u001b[0mvmap_impl\u001b[0m\u001b[0;34m(\u001b[0m\u001b[0mfunc\u001b[0m\u001b[0;34m,\u001b[0m \u001b[0min_dims\u001b[0m\u001b[0;34m,\u001b[0m \u001b[0mout_dims\u001b[0m\u001b[0;34m,\u001b[0m \u001b[0mrandomness\u001b[0m\u001b[0;34m,\u001b[0m \u001b[0mchunk_size\u001b[0m\u001b[0;34m,\u001b[0m \u001b[0;34m*\u001b[0m\u001b[0margs\u001b[0m\u001b[0;34m,\u001b[0m \u001b[0;34m**\u001b[0m\u001b[0mkwargs\u001b[0m\u001b[0;34m)\u001b[0m\u001b[0;34m\u001b[0m\u001b[0;34m\u001b[0m\u001b[0m\n\u001b[0m\u001b[1;32m    189\u001b[0m \u001b[0;34m\u001b[0m\u001b[0m\n\u001b[1;32m    190\u001b[0m     \u001b[0;32mreturn\u001b[0m \u001b[0mwrapped\u001b[0m\u001b[0;34m\u001b[0m\u001b[0;34m\u001b[0m\u001b[0m\n",
      "\u001b[0;32m/opt/anaconda3/lib/python3.9/site-packages/torch/_functorch/vmap.py\u001b[0m in \u001b[0;36mvmap_impl\u001b[0;34m(func, in_dims, out_dims, randomness, chunk_size, *args, **kwargs)\u001b[0m\n\u001b[1;32m    264\u001b[0m \u001b[0;34m\u001b[0m\u001b[0m\n\u001b[1;32m    265\u001b[0m     \u001b[0;31m# If chunk_size is not specified.\u001b[0m\u001b[0;34m\u001b[0m\u001b[0;34m\u001b[0m\u001b[0m\n\u001b[0;32m--> 266\u001b[0;31m     return _flat_vmap(\n\u001b[0m\u001b[1;32m    267\u001b[0m         \u001b[0mfunc\u001b[0m\u001b[0;34m,\u001b[0m \u001b[0mbatch_size\u001b[0m\u001b[0;34m,\u001b[0m \u001b[0mflat_in_dims\u001b[0m\u001b[0;34m,\u001b[0m \u001b[0mflat_args\u001b[0m\u001b[0;34m,\u001b[0m \u001b[0margs_spec\u001b[0m\u001b[0;34m,\u001b[0m \u001b[0mout_dims\u001b[0m\u001b[0;34m,\u001b[0m \u001b[0mrandomness\u001b[0m\u001b[0;34m,\u001b[0m \u001b[0;34m**\u001b[0m\u001b[0mkwargs\u001b[0m\u001b[0;34m\u001b[0m\u001b[0;34m\u001b[0m\u001b[0m\n\u001b[1;32m    268\u001b[0m     )\n",
      "\u001b[0;32m/opt/anaconda3/lib/python3.9/site-packages/torch/_functorch/vmap.py\u001b[0m in \u001b[0;36mfn\u001b[0;34m(*args, **kwargs)\u001b[0m\n\u001b[1;32m     36\u001b[0m     \u001b[0;32mdef\u001b[0m \u001b[0mfn\u001b[0m\u001b[0;34m(\u001b[0m\u001b[0;34m*\u001b[0m\u001b[0margs\u001b[0m\u001b[0;34m,\u001b[0m \u001b[0;34m**\u001b[0m\u001b[0mkwargs\u001b[0m\u001b[0;34m)\u001b[0m\u001b[0;34m:\u001b[0m\u001b[0;34m\u001b[0m\u001b[0;34m\u001b[0m\u001b[0m\n\u001b[1;32m     37\u001b[0m         \u001b[0;32mwith\u001b[0m \u001b[0mtorch\u001b[0m\u001b[0;34m.\u001b[0m\u001b[0mautograd\u001b[0m\u001b[0;34m.\u001b[0m\u001b[0mgraph\u001b[0m\u001b[0;34m.\u001b[0m\u001b[0mdisable_saved_tensors_hooks\u001b[0m\u001b[0;34m(\u001b[0m\u001b[0mmessage\u001b[0m\u001b[0;34m)\u001b[0m\u001b[0;34m:\u001b[0m\u001b[0;34m\u001b[0m\u001b[0;34m\u001b[0m\u001b[0m\n\u001b[0;32m---> 38\u001b[0;31m             \u001b[0;32mreturn\u001b[0m \u001b[0mf\u001b[0m\u001b[0;34m(\u001b[0m\u001b[0;34m*\u001b[0m\u001b[0margs\u001b[0m\u001b[0;34m,\u001b[0m \u001b[0;34m**\u001b[0m\u001b[0mkwargs\u001b[0m\u001b[0;34m)\u001b[0m\u001b[0;34m\u001b[0m\u001b[0;34m\u001b[0m\u001b[0m\n\u001b[0m\u001b[1;32m     39\u001b[0m     \u001b[0;32mreturn\u001b[0m \u001b[0mfn\u001b[0m\u001b[0;34m\u001b[0m\u001b[0;34m\u001b[0m\u001b[0m\n\u001b[1;32m     40\u001b[0m \u001b[0;34m\u001b[0m\u001b[0m\n",
      "\u001b[0;32m/opt/anaconda3/lib/python3.9/site-packages/torch/_functorch/vmap.py\u001b[0m in \u001b[0;36m_flat_vmap\u001b[0;34m(func, batch_size, flat_in_dims, flat_args, args_spec, out_dims, randomness, **kwargs)\u001b[0m\n\u001b[1;32m    377\u001b[0m     \u001b[0;32mtry\u001b[0m\u001b[0;34m:\u001b[0m\u001b[0;34m\u001b[0m\u001b[0;34m\u001b[0m\u001b[0m\n\u001b[1;32m    378\u001b[0m         \u001b[0mbatched_inputs\u001b[0m \u001b[0;34m=\u001b[0m \u001b[0m_create_batched_inputs\u001b[0m\u001b[0;34m(\u001b[0m\u001b[0mflat_in_dims\u001b[0m\u001b[0;34m,\u001b[0m \u001b[0mflat_args\u001b[0m\u001b[0;34m,\u001b[0m \u001b[0mvmap_level\u001b[0m\u001b[0;34m,\u001b[0m \u001b[0margs_spec\u001b[0m\u001b[0;34m)\u001b[0m\u001b[0;34m\u001b[0m\u001b[0;34m\u001b[0m\u001b[0m\n\u001b[0;32m--> 379\u001b[0;31m         \u001b[0mbatched_outputs\u001b[0m \u001b[0;34m=\u001b[0m \u001b[0mfunc\u001b[0m\u001b[0;34m(\u001b[0m\u001b[0;34m*\u001b[0m\u001b[0mbatched_inputs\u001b[0m\u001b[0;34m,\u001b[0m \u001b[0;34m**\u001b[0m\u001b[0mkwargs\u001b[0m\u001b[0;34m)\u001b[0m\u001b[0;34m\u001b[0m\u001b[0;34m\u001b[0m\u001b[0m\n\u001b[0m\u001b[1;32m    380\u001b[0m         \u001b[0;32mreturn\u001b[0m \u001b[0m_unwrap_batched\u001b[0m\u001b[0;34m(\u001b[0m\u001b[0mbatched_outputs\u001b[0m\u001b[0;34m,\u001b[0m \u001b[0mout_dims\u001b[0m\u001b[0;34m,\u001b[0m \u001b[0mvmap_level\u001b[0m\u001b[0;34m,\u001b[0m \u001b[0mbatch_size\u001b[0m\u001b[0;34m,\u001b[0m \u001b[0mfunc\u001b[0m\u001b[0;34m)\u001b[0m\u001b[0;34m\u001b[0m\u001b[0;34m\u001b[0m\u001b[0m\n\u001b[1;32m    381\u001b[0m     \u001b[0;32mfinally\u001b[0m\u001b[0;34m:\u001b[0m\u001b[0;34m\u001b[0m\u001b[0;34m\u001b[0m\u001b[0m\n",
      "\u001b[0;32m/opt/anaconda3/lib/python3.9/site-packages/torch/_functorch/eager_transforms.py\u001b[0m in \u001b[0;36mwrapper\u001b[0;34m(cotangents, retain_graph, create_graph)\u001b[0m\n\u001b[1;32m    326\u001b[0m                     \u001b[0;34mf'cotangents: {treespec_pprint(cotangents_spec)}, '\u001b[0m\u001b[0;34m\u001b[0m\u001b[0;34m\u001b[0m\u001b[0m\n\u001b[1;32m    327\u001b[0m                     f'primal output: {treespec_pprint(primals_out_spec)}')\n\u001b[0;32m--> 328\u001b[0;31m             result = _autograd_grad(flat_primals_out, flat_diff_primals, flat_cotangents,\n\u001b[0m\u001b[1;32m    329\u001b[0m                                     retain_graph=retain_graph, create_graph=create_graph)\n\u001b[1;32m    330\u001b[0m             \u001b[0;32mreturn\u001b[0m \u001b[0mtree_unflatten\u001b[0m\u001b[0;34m(\u001b[0m\u001b[0mresult\u001b[0m\u001b[0;34m,\u001b[0m \u001b[0mprimals_spec\u001b[0m\u001b[0;34m)\u001b[0m\u001b[0;34m\u001b[0m\u001b[0;34m\u001b[0m\u001b[0m\n",
      "\u001b[0;32m/opt/anaconda3/lib/python3.9/site-packages/torch/_functorch/eager_transforms.py\u001b[0m in \u001b[0;36m_autograd_grad\u001b[0;34m(outputs, inputs, grad_outputs, retain_graph, create_graph)\u001b[0m\n\u001b[1;32m    114\u001b[0m     \u001b[0;32mif\u001b[0m \u001b[0mlen\u001b[0m\u001b[0;34m(\u001b[0m\u001b[0mdiff_outputs\u001b[0m\u001b[0;34m)\u001b[0m \u001b[0;34m==\u001b[0m \u001b[0;36m0\u001b[0m\u001b[0;34m:\u001b[0m\u001b[0;34m\u001b[0m\u001b[0;34m\u001b[0m\u001b[0m\n\u001b[1;32m    115\u001b[0m         \u001b[0;32mreturn\u001b[0m \u001b[0mtuple\u001b[0m\u001b[0;34m(\u001b[0m\u001b[0mtorch\u001b[0m\u001b[0;34m.\u001b[0m\u001b[0mzeros_like\u001b[0m\u001b[0;34m(\u001b[0m\u001b[0minp\u001b[0m\u001b[0;34m)\u001b[0m \u001b[0;32mfor\u001b[0m \u001b[0minp\u001b[0m \u001b[0;32min\u001b[0m \u001b[0minputs\u001b[0m\u001b[0;34m)\u001b[0m\u001b[0;34m\u001b[0m\u001b[0;34m\u001b[0m\u001b[0m\n\u001b[0;32m--> 116\u001b[0;31m     grad_inputs = torch.autograd.grad(diff_outputs, inputs, grad_outputs,\n\u001b[0m\u001b[1;32m    117\u001b[0m                                       \u001b[0mretain_graph\u001b[0m\u001b[0;34m=\u001b[0m\u001b[0mretain_graph\u001b[0m\u001b[0;34m,\u001b[0m\u001b[0;34m\u001b[0m\u001b[0;34m\u001b[0m\u001b[0m\n\u001b[1;32m    118\u001b[0m                                       \u001b[0mcreate_graph\u001b[0m\u001b[0;34m=\u001b[0m\u001b[0mcreate_graph\u001b[0m\u001b[0;34m,\u001b[0m\u001b[0;34m\u001b[0m\u001b[0;34m\u001b[0m\u001b[0m\n",
      "\u001b[0;32m/opt/anaconda3/lib/python3.9/site-packages/torch/autograd/__init__.py\u001b[0m in \u001b[0;36mgrad\u001b[0;34m(outputs, inputs, grad_outputs, retain_graph, create_graph, only_inputs, allow_unused, is_grads_batched, materialize_grads)\u001b[0m\n\u001b[1;32m    392\u001b[0m         )\n\u001b[1;32m    393\u001b[0m     \u001b[0;32melse\u001b[0m\u001b[0;34m:\u001b[0m\u001b[0;34m\u001b[0m\u001b[0;34m\u001b[0m\u001b[0m\n\u001b[0;32m--> 394\u001b[0;31m         result = Variable._execution_engine.run_backward(  # Calls into the C++ engine to run the backward pass\n\u001b[0m\u001b[1;32m    395\u001b[0m             \u001b[0mt_outputs\u001b[0m\u001b[0;34m,\u001b[0m\u001b[0;34m\u001b[0m\u001b[0;34m\u001b[0m\u001b[0m\n\u001b[1;32m    396\u001b[0m             \u001b[0mgrad_outputs_\u001b[0m\u001b[0;34m,\u001b[0m\u001b[0;34m\u001b[0m\u001b[0;34m\u001b[0m\u001b[0m\n",
      "\u001b[0;31mKeyboardInterrupt\u001b[0m: "
     ]
    }
   ],
   "source": [
    "# Test points\n",
    "optimizer = optim.Adam(list(f_net.parameters()), lr=1e-3)\n",
    "train_model(-10,0.73,f_net,optimizer,n_epochs=n_epochs,sdt_dev=1.8,N_collocation=N_collocation,factor=1)"
   ]
  },
  {
   "cell_type": "code",
   "execution_count": 93,
   "id": "918a0c47-5726-4100-8d19-1b8b15405c65",
   "metadata": {},
   "outputs": [
    {
     "data": {
      "text/plain": [
       "(0.7005206530213356, 0.9801)"
      ]
     },
     "execution_count": 93,
     "metadata": {},
     "output_type": "execute_result"
    }
   ],
   "source": [
    "vmc_simulation_optimized(psi_fn_E, 3, 1, 10000,V=-10,delta=0.02)"
   ]
  },
  {
   "cell_type": "code",
   "execution_count": 98,
   "id": "9167f764-0a87-41bd-b6e3-3afb6edd5bbc",
   "metadata": {
    "scrolled": true
   },
   "outputs": [
    {
     "name": "stdout",
     "output_type": "stream",
     "text": [
      "Epoch 00000:  Pde Loss = 2.751e-02, Norm Loss = 2.031e-05\n",
      "Epoch 00010:  Pde Loss = 2.699e-02, Norm Loss = 4.011e-03\n",
      "Epoch 00020:  Pde Loss = 2.417e-02, Norm Loss = 5.292e-07\n",
      "Epoch 00030:  Pde Loss = 2.889e-02, Norm Loss = 1.658e-04\n",
      "Epoch 00040:  Pde Loss = 2.968e-02, Norm Loss = 2.661e-03\n",
      "Epoch 00050:  Pde Loss = 2.609e-02, Norm Loss = 1.888e-04\n",
      "Epoch 00060:  Pde Loss = 2.707e-02, Norm Loss = 1.438e-04\n",
      "Epoch 00070:  Pde Loss = 2.588e-02, Norm Loss = 8.273e-04\n",
      "Epoch 00080:  Pde Loss = 2.509e-02, Norm Loss = 9.983e-04\n",
      "Epoch 00090:  Pde Loss = 2.397e-02, Norm Loss = 3.289e-05\n",
      "Epoch 00100:  Pde Loss = 2.453e-02, Norm Loss = 1.447e-03\n",
      "Epoch 00110:  Pde Loss = 2.809e-02, Norm Loss = 5.966e-05\n",
      "Epoch 00120:  Pde Loss = 1.879e-02, Norm Loss = 9.701e-05\n",
      "Epoch 00130:  Pde Loss = 2.541e-02, Norm Loss = 2.751e-05\n",
      "Epoch 00140:  Pde Loss = 2.277e-02, Norm Loss = 3.658e-03\n",
      "Epoch 00150:  Pde Loss = 2.993e-02, Norm Loss = 5.782e-04\n",
      "Epoch 00160:  Pde Loss = 2.799e-02, Norm Loss = 2.214e-04\n",
      "Epoch 00170:  Pde Loss = 3.045e-02, Norm Loss = 1.071e-03\n",
      "Epoch 00180:  Pde Loss = 3.416e-02, Norm Loss = 4.600e-03\n",
      "Epoch 00190:  Pde Loss = 2.959e-02, Norm Loss = 5.516e-05\n",
      "Epoch 00200:  Pde Loss = 2.761e-02, Norm Loss = 9.118e-05\n",
      "Epoch 00210:  Pde Loss = 2.787e-02, Norm Loss = 3.077e-03\n",
      "Epoch 00220:  Pde Loss = 2.398e-02, Norm Loss = 3.396e-04\n",
      "Epoch 00230:  Pde Loss = 2.550e-02, Norm Loss = 2.206e-06\n",
      "Epoch 00240:  Pde Loss = 2.217e-02, Norm Loss = 6.984e-04\n",
      "Epoch 00250:  Pde Loss = 3.038e-02, Norm Loss = 7.358e-06\n",
      "Epoch 00260:  Pde Loss = 2.219e-02, Norm Loss = 1.757e-04\n",
      "Epoch 00270:  Pde Loss = 2.587e-02, Norm Loss = 3.944e-04\n"
     ]
    },
    {
     "ename": "KeyboardInterrupt",
     "evalue": "",
     "output_type": "error",
     "traceback": [
      "\u001b[0;31m---------------------------------------------------------------------------\u001b[0m",
      "\u001b[0;31mKeyboardInterrupt\u001b[0m                         Traceback (most recent call last)",
      "\u001b[0;32m/var/folders/22/r_0rd109347dhcsf5w9p2y3w0000gn/T/ipykernel_92510/460502275.py\u001b[0m in \u001b[0;36m<module>\u001b[0;34m\u001b[0m\n\u001b[1;32m      1\u001b[0m \u001b[0;31m# Test points\u001b[0m\u001b[0;34m\u001b[0m\u001b[0;34m\u001b[0m\u001b[0m\n\u001b[1;32m      2\u001b[0m \u001b[0moptimizer\u001b[0m \u001b[0;34m=\u001b[0m \u001b[0moptim\u001b[0m\u001b[0;34m.\u001b[0m\u001b[0mAdam\u001b[0m\u001b[0;34m(\u001b[0m\u001b[0mlist\u001b[0m\u001b[0;34m(\u001b[0m\u001b[0mf_net\u001b[0m\u001b[0;34m.\u001b[0m\u001b[0mparameters\u001b[0m\u001b[0;34m(\u001b[0m\u001b[0;34m)\u001b[0m\u001b[0;34m)\u001b[0m\u001b[0;34m,\u001b[0m \u001b[0mlr\u001b[0m\u001b[0;34m=\u001b[0m\u001b[0;36m1e-3\u001b[0m\u001b[0;34m)\u001b[0m\u001b[0;34m\u001b[0m\u001b[0;34m\u001b[0m\u001b[0m\n\u001b[0;32m----> 3\u001b[0;31m \u001b[0mtrain_model\u001b[0m\u001b[0;34m(\u001b[0m\u001b[0;34m-\u001b[0m\u001b[0;36m20\u001b[0m\u001b[0;34m,\u001b[0m\u001b[0;34m-\u001b[0m\u001b[0;36m7.06\u001b[0m\u001b[0;34m,\u001b[0m\u001b[0mf_net\u001b[0m\u001b[0;34m,\u001b[0m\u001b[0moptimizer\u001b[0m\u001b[0;34m,\u001b[0m\u001b[0mn_epochs\u001b[0m\u001b[0;34m=\u001b[0m\u001b[0mn_epochs\u001b[0m\u001b[0;34m,\u001b[0m\u001b[0msdt_dev\u001b[0m\u001b[0;34m=\u001b[0m\u001b[0;36m2.5\u001b[0m\u001b[0;34m,\u001b[0m\u001b[0mN_collocation\u001b[0m\u001b[0;34m=\u001b[0m\u001b[0mN_collocation\u001b[0m\u001b[0;34m,\u001b[0m\u001b[0mfactor\u001b[0m\u001b[0;34m=\u001b[0m\u001b[0;36m1\u001b[0m\u001b[0;34m)\u001b[0m\u001b[0;34m\u001b[0m\u001b[0;34m\u001b[0m\u001b[0m\n\u001b[0m",
      "\u001b[0;32m/var/folders/22/r_0rd109347dhcsf5w9p2y3w0000gn/T/ipykernel_92510/12276125.py\u001b[0m in \u001b[0;36mtrain_model\u001b[0;34m(V, E, f_net, optimizer, N_collocation, n_epochs, sdt_dev, factor)\u001b[0m\n\u001b[1;32m     18\u001b[0m         \u001b[0mnorm\u001b[0m\u001b[0;34m=\u001b[0m\u001b[0mtorch\u001b[0m\u001b[0;34m.\u001b[0m\u001b[0mnorm\u001b[0m\u001b[0;34m(\u001b[0m\u001b[0mpsi\u001b[0m\u001b[0;34m,\u001b[0m \u001b[0mp\u001b[0m\u001b[0;34m=\u001b[0m\u001b[0;36m2\u001b[0m\u001b[0;34m)\u001b[0m\u001b[0;34m\u001b[0m\u001b[0;34m\u001b[0m\u001b[0m\n\u001b[1;32m     19\u001b[0m \u001b[0;34m\u001b[0m\u001b[0m\n\u001b[0;32m---> 20\u001b[0;31m         \u001b[0mlaplacian\u001b[0m \u001b[0;34m=\u001b[0m \u001b[0mcompute_laplacian_fast\u001b[0m\u001b[0;34m(\u001b[0m\u001b[0mpsi_fn\u001b[0m\u001b[0;34m,\u001b[0m \u001b[0mx\u001b[0m\u001b[0;34m,\u001b[0m \u001b[0mpermutations\u001b[0m\u001b[0;34m=\u001b[0m\u001b[0mperm_list\u001b[0m\u001b[0;34m)\u001b[0m\u001b[0;31m#compute_laplacian_fast(psi_fn, x)\u001b[0m\u001b[0;34m\u001b[0m\u001b[0;34m\u001b[0m\u001b[0m\n\u001b[0m\u001b[1;32m     21\u001b[0m         \u001b[0mV_harmonic\u001b[0m \u001b[0;34m=\u001b[0m \u001b[0;36m0.5\u001b[0m \u001b[0;34m*\u001b[0m \u001b[0;34m(\u001b[0m\u001b[0mx\u001b[0m\u001b[0;34m**\u001b[0m\u001b[0;36m2\u001b[0m\u001b[0;34m)\u001b[0m\u001b[0;34m.\u001b[0m\u001b[0msum\u001b[0m\u001b[0;34m(\u001b[0m\u001b[0mdim\u001b[0m\u001b[0;34m=\u001b[0m\u001b[0;34m(\u001b[0m\u001b[0;36m1\u001b[0m\u001b[0;34m,\u001b[0m\u001b[0;36m2\u001b[0m\u001b[0;34m)\u001b[0m\u001b[0;34m)\u001b[0m\u001b[0;34m.\u001b[0m\u001b[0mview\u001b[0m\u001b[0;34m(\u001b[0m\u001b[0;34m-\u001b[0m\u001b[0;36m1\u001b[0m\u001b[0;34m,\u001b[0m\u001b[0;36m1\u001b[0m\u001b[0;34m)\u001b[0m\u001b[0;34m\u001b[0m\u001b[0;34m\u001b[0m\u001b[0m\n\u001b[1;32m     22\u001b[0m         \u001b[0mV_int\u001b[0m \u001b[0;34m=\u001b[0m \u001b[0mcompute_interaction_potential\u001b[0m\u001b[0;34m(\u001b[0m\u001b[0mx\u001b[0m\u001b[0;34m,\u001b[0m \u001b[0mV_temp\u001b[0m\u001b[0;34m,\u001b[0m \u001b[0msigma\u001b[0m\u001b[0;34m)\u001b[0m\u001b[0;34m\u001b[0m\u001b[0;34m\u001b[0m\u001b[0m\n",
      "\u001b[0;32m/var/folders/22/r_0rd109347dhcsf5w9p2y3w0000gn/T/ipykernel_92510/889904764.py\u001b[0m in \u001b[0;36mcompute_laplacian_fast\u001b[0;34m(psi_fn, x, permutations)\u001b[0m\n\u001b[1;32m     66\u001b[0m \u001b[0;34m\u001b[0m\u001b[0m\n\u001b[1;32m     67\u001b[0m     \u001b[0;31m# Vectorize single_hessian over the batch dimension.\u001b[0m\u001b[0;34m\u001b[0m\u001b[0;34m\u001b[0m\u001b[0m\n\u001b[0;32m---> 68\u001b[0;31m     \u001b[0mhessians\u001b[0m \u001b[0;34m=\u001b[0m \u001b[0mtorch\u001b[0m\u001b[0;34m.\u001b[0m\u001b[0mvmap\u001b[0m\u001b[0;34m(\u001b[0m\u001b[0msingle_hessian\u001b[0m\u001b[0;34m)\u001b[0m\u001b[0;34m(\u001b[0m\u001b[0mx_flat\u001b[0m\u001b[0;34m)\u001b[0m  \u001b[0;31m# shape: (batch, D, D)\u001b[0m\u001b[0;34m\u001b[0m\u001b[0;34m\u001b[0m\u001b[0m\n\u001b[0m\u001b[1;32m     69\u001b[0m     \u001b[0;31m# Laplacian is the trace of the Hessian.\u001b[0m\u001b[0;34m\u001b[0m\u001b[0;34m\u001b[0m\u001b[0m\n\u001b[1;32m     70\u001b[0m     \u001b[0mlaplacian\u001b[0m \u001b[0;34m=\u001b[0m \u001b[0mtorch\u001b[0m\u001b[0;34m.\u001b[0m\u001b[0mdiagonal\u001b[0m\u001b[0;34m(\u001b[0m\u001b[0mhessians\u001b[0m\u001b[0;34m,\u001b[0m \u001b[0mdim1\u001b[0m\u001b[0;34m=\u001b[0m\u001b[0;36m1\u001b[0m\u001b[0;34m,\u001b[0m \u001b[0mdim2\u001b[0m\u001b[0;34m=\u001b[0m\u001b[0;36m2\u001b[0m\u001b[0;34m)\u001b[0m\u001b[0;34m.\u001b[0m\u001b[0msum\u001b[0m\u001b[0;34m(\u001b[0m\u001b[0mdim\u001b[0m\u001b[0;34m=\u001b[0m\u001b[0;36m1\u001b[0m\u001b[0;34m,\u001b[0m \u001b[0mkeepdim\u001b[0m\u001b[0;34m=\u001b[0m\u001b[0;32mTrue\u001b[0m\u001b[0;34m)\u001b[0m\u001b[0;34m\u001b[0m\u001b[0;34m\u001b[0m\u001b[0m\n",
      "\u001b[0;32m/opt/anaconda3/lib/python3.9/site-packages/torch/_functorch/apis.py\u001b[0m in \u001b[0;36mwrapped\u001b[0;34m(*args, **kwargs)\u001b[0m\n\u001b[1;32m    186\u001b[0m     \u001b[0;31m# @functools.wraps(func)\u001b[0m\u001b[0;34m\u001b[0m\u001b[0;34m\u001b[0m\u001b[0m\n\u001b[1;32m    187\u001b[0m     \u001b[0;32mdef\u001b[0m \u001b[0mwrapped\u001b[0m\u001b[0;34m(\u001b[0m\u001b[0;34m*\u001b[0m\u001b[0margs\u001b[0m\u001b[0;34m,\u001b[0m \u001b[0;34m**\u001b[0m\u001b[0mkwargs\u001b[0m\u001b[0;34m)\u001b[0m\u001b[0;34m:\u001b[0m\u001b[0;34m\u001b[0m\u001b[0;34m\u001b[0m\u001b[0m\n\u001b[0;32m--> 188\u001b[0;31m         \u001b[0;32mreturn\u001b[0m \u001b[0mvmap_impl\u001b[0m\u001b[0;34m(\u001b[0m\u001b[0mfunc\u001b[0m\u001b[0;34m,\u001b[0m \u001b[0min_dims\u001b[0m\u001b[0;34m,\u001b[0m \u001b[0mout_dims\u001b[0m\u001b[0;34m,\u001b[0m \u001b[0mrandomness\u001b[0m\u001b[0;34m,\u001b[0m \u001b[0mchunk_size\u001b[0m\u001b[0;34m,\u001b[0m \u001b[0;34m*\u001b[0m\u001b[0margs\u001b[0m\u001b[0;34m,\u001b[0m \u001b[0;34m**\u001b[0m\u001b[0mkwargs\u001b[0m\u001b[0;34m)\u001b[0m\u001b[0;34m\u001b[0m\u001b[0;34m\u001b[0m\u001b[0m\n\u001b[0m\u001b[1;32m    189\u001b[0m \u001b[0;34m\u001b[0m\u001b[0m\n\u001b[1;32m    190\u001b[0m     \u001b[0;32mreturn\u001b[0m \u001b[0mwrapped\u001b[0m\u001b[0;34m\u001b[0m\u001b[0;34m\u001b[0m\u001b[0m\n",
      "\u001b[0;32m/opt/anaconda3/lib/python3.9/site-packages/torch/_functorch/vmap.py\u001b[0m in \u001b[0;36mvmap_impl\u001b[0;34m(func, in_dims, out_dims, randomness, chunk_size, *args, **kwargs)\u001b[0m\n\u001b[1;32m    264\u001b[0m \u001b[0;34m\u001b[0m\u001b[0m\n\u001b[1;32m    265\u001b[0m     \u001b[0;31m# If chunk_size is not specified.\u001b[0m\u001b[0;34m\u001b[0m\u001b[0;34m\u001b[0m\u001b[0m\n\u001b[0;32m--> 266\u001b[0;31m     return _flat_vmap(\n\u001b[0m\u001b[1;32m    267\u001b[0m         \u001b[0mfunc\u001b[0m\u001b[0;34m,\u001b[0m \u001b[0mbatch_size\u001b[0m\u001b[0;34m,\u001b[0m \u001b[0mflat_in_dims\u001b[0m\u001b[0;34m,\u001b[0m \u001b[0mflat_args\u001b[0m\u001b[0;34m,\u001b[0m \u001b[0margs_spec\u001b[0m\u001b[0;34m,\u001b[0m \u001b[0mout_dims\u001b[0m\u001b[0;34m,\u001b[0m \u001b[0mrandomness\u001b[0m\u001b[0;34m,\u001b[0m \u001b[0;34m**\u001b[0m\u001b[0mkwargs\u001b[0m\u001b[0;34m\u001b[0m\u001b[0;34m\u001b[0m\u001b[0m\n\u001b[1;32m    268\u001b[0m     )\n",
      "\u001b[0;32m/opt/anaconda3/lib/python3.9/site-packages/torch/_functorch/vmap.py\u001b[0m in \u001b[0;36mfn\u001b[0;34m(*args, **kwargs)\u001b[0m\n\u001b[1;32m     36\u001b[0m     \u001b[0;32mdef\u001b[0m \u001b[0mfn\u001b[0m\u001b[0;34m(\u001b[0m\u001b[0;34m*\u001b[0m\u001b[0margs\u001b[0m\u001b[0;34m,\u001b[0m \u001b[0;34m**\u001b[0m\u001b[0mkwargs\u001b[0m\u001b[0;34m)\u001b[0m\u001b[0;34m:\u001b[0m\u001b[0;34m\u001b[0m\u001b[0;34m\u001b[0m\u001b[0m\n\u001b[1;32m     37\u001b[0m         \u001b[0;32mwith\u001b[0m \u001b[0mtorch\u001b[0m\u001b[0;34m.\u001b[0m\u001b[0mautograd\u001b[0m\u001b[0;34m.\u001b[0m\u001b[0mgraph\u001b[0m\u001b[0;34m.\u001b[0m\u001b[0mdisable_saved_tensors_hooks\u001b[0m\u001b[0;34m(\u001b[0m\u001b[0mmessage\u001b[0m\u001b[0;34m)\u001b[0m\u001b[0;34m:\u001b[0m\u001b[0;34m\u001b[0m\u001b[0;34m\u001b[0m\u001b[0m\n\u001b[0;32m---> 38\u001b[0;31m             \u001b[0;32mreturn\u001b[0m \u001b[0mf\u001b[0m\u001b[0;34m(\u001b[0m\u001b[0;34m*\u001b[0m\u001b[0margs\u001b[0m\u001b[0;34m,\u001b[0m \u001b[0;34m**\u001b[0m\u001b[0mkwargs\u001b[0m\u001b[0;34m)\u001b[0m\u001b[0;34m\u001b[0m\u001b[0;34m\u001b[0m\u001b[0m\n\u001b[0m\u001b[1;32m     39\u001b[0m     \u001b[0;32mreturn\u001b[0m \u001b[0mfn\u001b[0m\u001b[0;34m\u001b[0m\u001b[0;34m\u001b[0m\u001b[0m\n\u001b[1;32m     40\u001b[0m \u001b[0;34m\u001b[0m\u001b[0m\n",
      "\u001b[0;32m/opt/anaconda3/lib/python3.9/site-packages/torch/_functorch/vmap.py\u001b[0m in \u001b[0;36m_flat_vmap\u001b[0;34m(func, batch_size, flat_in_dims, flat_args, args_spec, out_dims, randomness, **kwargs)\u001b[0m\n\u001b[1;32m    377\u001b[0m     \u001b[0;32mtry\u001b[0m\u001b[0;34m:\u001b[0m\u001b[0;34m\u001b[0m\u001b[0;34m\u001b[0m\u001b[0m\n\u001b[1;32m    378\u001b[0m         \u001b[0mbatched_inputs\u001b[0m \u001b[0;34m=\u001b[0m \u001b[0m_create_batched_inputs\u001b[0m\u001b[0;34m(\u001b[0m\u001b[0mflat_in_dims\u001b[0m\u001b[0;34m,\u001b[0m \u001b[0mflat_args\u001b[0m\u001b[0;34m,\u001b[0m \u001b[0mvmap_level\u001b[0m\u001b[0;34m,\u001b[0m \u001b[0margs_spec\u001b[0m\u001b[0;34m)\u001b[0m\u001b[0;34m\u001b[0m\u001b[0;34m\u001b[0m\u001b[0m\n\u001b[0;32m--> 379\u001b[0;31m         \u001b[0mbatched_outputs\u001b[0m \u001b[0;34m=\u001b[0m \u001b[0mfunc\u001b[0m\u001b[0;34m(\u001b[0m\u001b[0;34m*\u001b[0m\u001b[0mbatched_inputs\u001b[0m\u001b[0;34m,\u001b[0m \u001b[0;34m**\u001b[0m\u001b[0mkwargs\u001b[0m\u001b[0;34m)\u001b[0m\u001b[0;34m\u001b[0m\u001b[0;34m\u001b[0m\u001b[0m\n\u001b[0m\u001b[1;32m    380\u001b[0m         \u001b[0;32mreturn\u001b[0m \u001b[0m_unwrap_batched\u001b[0m\u001b[0;34m(\u001b[0m\u001b[0mbatched_outputs\u001b[0m\u001b[0;34m,\u001b[0m \u001b[0mout_dims\u001b[0m\u001b[0;34m,\u001b[0m \u001b[0mvmap_level\u001b[0m\u001b[0;34m,\u001b[0m \u001b[0mbatch_size\u001b[0m\u001b[0;34m,\u001b[0m \u001b[0mfunc\u001b[0m\u001b[0;34m)\u001b[0m\u001b[0;34m\u001b[0m\u001b[0;34m\u001b[0m\u001b[0m\n\u001b[1;32m    381\u001b[0m     \u001b[0;32mfinally\u001b[0m\u001b[0;34m:\u001b[0m\u001b[0;34m\u001b[0m\u001b[0;34m\u001b[0m\u001b[0m\n",
      "\u001b[0;32m/var/folders/22/r_0rd109347dhcsf5w9p2y3w0000gn/T/ipykernel_92510/889904764.py\u001b[0m in \u001b[0;36msingle_hessian\u001b[0;34m(xx)\u001b[0m\n\u001b[1;32m     63\u001b[0m     \u001b[0;32mdef\u001b[0m \u001b[0msingle_hessian\u001b[0m\u001b[0;34m(\u001b[0m\u001b[0mxx\u001b[0m\u001b[0;34m)\u001b[0m\u001b[0;34m:\u001b[0m\u001b[0;34m\u001b[0m\u001b[0;34m\u001b[0m\u001b[0m\n\u001b[1;32m     64\u001b[0m         \u001b[0;31m# Compute the Hessian via double jacrev.\u001b[0m\u001b[0;34m\u001b[0m\u001b[0;34m\u001b[0m\u001b[0m\n\u001b[0;32m---> 65\u001b[0;31m         \u001b[0;32mreturn\u001b[0m \u001b[0mtorch\u001b[0m\u001b[0;34m.\u001b[0m\u001b[0mfunc\u001b[0m\u001b[0;34m.\u001b[0m\u001b[0mjacrev\u001b[0m\u001b[0;34m(\u001b[0m\u001b[0mfunctorch\u001b[0m\u001b[0;34m.\u001b[0m\u001b[0mjacrev\u001b[0m\u001b[0;34m(\u001b[0m\u001b[0mf\u001b[0m\u001b[0;34m)\u001b[0m\u001b[0;34m)\u001b[0m\u001b[0;34m(\u001b[0m\u001b[0mxx\u001b[0m\u001b[0;34m)\u001b[0m\u001b[0;34m\u001b[0m\u001b[0;34m\u001b[0m\u001b[0m\n\u001b[0m\u001b[1;32m     66\u001b[0m \u001b[0;34m\u001b[0m\u001b[0m\n\u001b[1;32m     67\u001b[0m     \u001b[0;31m# Vectorize single_hessian over the batch dimension.\u001b[0m\u001b[0;34m\u001b[0m\u001b[0;34m\u001b[0m\u001b[0m\n",
      "\u001b[0;32m/opt/anaconda3/lib/python3.9/site-packages/torch/_functorch/eager_transforms.py\u001b[0m in \u001b[0;36mwrapper_fn\u001b[0;34m(*args)\u001b[0m\n\u001b[1;32m    599\u001b[0m             \u001b[0mflat_jacobians_per_input\u001b[0m \u001b[0;34m=\u001b[0m \u001b[0mcompute_jacobian_preallocate_and_copy\u001b[0m\u001b[0;34m(\u001b[0m\u001b[0;34m)\u001b[0m\u001b[0;34m\u001b[0m\u001b[0;34m\u001b[0m\u001b[0m\n\u001b[1;32m    600\u001b[0m         \u001b[0;32melse\u001b[0m\u001b[0;34m:\u001b[0m\u001b[0;34m\u001b[0m\u001b[0;34m\u001b[0m\u001b[0m\n\u001b[0;32m--> 601\u001b[0;31m             \u001b[0mflat_jacobians_per_input\u001b[0m \u001b[0;34m=\u001b[0m \u001b[0mcompute_jacobian_stacked\u001b[0m\u001b[0;34m(\u001b[0m\u001b[0;34m)\u001b[0m\u001b[0;34m\u001b[0m\u001b[0;34m\u001b[0m\u001b[0m\n\u001b[0m\u001b[1;32m    602\u001b[0m \u001b[0;34m\u001b[0m\u001b[0m\n\u001b[1;32m    603\u001b[0m         \u001b[0;31m# Step 2: The returned jacobian is one big tensor per input. In this step,\u001b[0m\u001b[0;34m\u001b[0m\u001b[0;34m\u001b[0m\u001b[0m\n",
      "\u001b[0;32m/opt/anaconda3/lib/python3.9/site-packages/torch/_functorch/eager_transforms.py\u001b[0m in \u001b[0;36mcompute_jacobian_stacked\u001b[0;34m()\u001b[0m\n\u001b[1;32m    530\u001b[0m                     \u001b[0mchunked_result\u001b[0m \u001b[0;34m=\u001b[0m \u001b[0mvjp_fn\u001b[0m\u001b[0;34m(\u001b[0m\u001b[0mbasis\u001b[0m\u001b[0;34m)\u001b[0m\u001b[0;34m\u001b[0m\u001b[0;34m\u001b[0m\u001b[0m\n\u001b[1;32m    531\u001b[0m                 \u001b[0;32melse\u001b[0m\u001b[0;34m:\u001b[0m  \u001b[0;31m# chunk_size is None or chunk_size != 1\u001b[0m\u001b[0;34m\u001b[0m\u001b[0;34m\u001b[0m\u001b[0m\n\u001b[0;32m--> 532\u001b[0;31m                     \u001b[0mchunked_result\u001b[0m \u001b[0;34m=\u001b[0m \u001b[0mvmap\u001b[0m\u001b[0;34m(\u001b[0m\u001b[0mvjp_fn\u001b[0m\u001b[0;34m)\u001b[0m\u001b[0;34m(\u001b[0m\u001b[0mbasis\u001b[0m\u001b[0;34m)\u001b[0m\u001b[0;34m\u001b[0m\u001b[0;34m\u001b[0m\u001b[0m\n\u001b[0m\u001b[1;32m    533\u001b[0m \u001b[0;34m\u001b[0m\u001b[0m\n\u001b[1;32m    534\u001b[0m                 \u001b[0mflat_results\u001b[0m\u001b[0;34m,\u001b[0m \u001b[0m_\u001b[0m \u001b[0;34m=\u001b[0m \u001b[0mtree_flatten\u001b[0m\u001b[0;34m(\u001b[0m\u001b[0mchunked_result\u001b[0m\u001b[0;34m)\u001b[0m\u001b[0;34m\u001b[0m\u001b[0;34m\u001b[0m\u001b[0m\n",
      "\u001b[0;32m/opt/anaconda3/lib/python3.9/site-packages/torch/_functorch/apis.py\u001b[0m in \u001b[0;36mwrapped\u001b[0;34m(*args, **kwargs)\u001b[0m\n\u001b[1;32m    186\u001b[0m     \u001b[0;31m# @functools.wraps(func)\u001b[0m\u001b[0;34m\u001b[0m\u001b[0;34m\u001b[0m\u001b[0m\n\u001b[1;32m    187\u001b[0m     \u001b[0;32mdef\u001b[0m \u001b[0mwrapped\u001b[0m\u001b[0;34m(\u001b[0m\u001b[0;34m*\u001b[0m\u001b[0margs\u001b[0m\u001b[0;34m,\u001b[0m \u001b[0;34m**\u001b[0m\u001b[0mkwargs\u001b[0m\u001b[0;34m)\u001b[0m\u001b[0;34m:\u001b[0m\u001b[0;34m\u001b[0m\u001b[0;34m\u001b[0m\u001b[0m\n\u001b[0;32m--> 188\u001b[0;31m         \u001b[0;32mreturn\u001b[0m \u001b[0mvmap_impl\u001b[0m\u001b[0;34m(\u001b[0m\u001b[0mfunc\u001b[0m\u001b[0;34m,\u001b[0m \u001b[0min_dims\u001b[0m\u001b[0;34m,\u001b[0m \u001b[0mout_dims\u001b[0m\u001b[0;34m,\u001b[0m \u001b[0mrandomness\u001b[0m\u001b[0;34m,\u001b[0m \u001b[0mchunk_size\u001b[0m\u001b[0;34m,\u001b[0m \u001b[0;34m*\u001b[0m\u001b[0margs\u001b[0m\u001b[0;34m,\u001b[0m \u001b[0;34m**\u001b[0m\u001b[0mkwargs\u001b[0m\u001b[0;34m)\u001b[0m\u001b[0;34m\u001b[0m\u001b[0;34m\u001b[0m\u001b[0m\n\u001b[0m\u001b[1;32m    189\u001b[0m \u001b[0;34m\u001b[0m\u001b[0m\n\u001b[1;32m    190\u001b[0m     \u001b[0;32mreturn\u001b[0m \u001b[0mwrapped\u001b[0m\u001b[0;34m\u001b[0m\u001b[0;34m\u001b[0m\u001b[0m\n",
      "\u001b[0;32m/opt/anaconda3/lib/python3.9/site-packages/torch/_functorch/vmap.py\u001b[0m in \u001b[0;36mvmap_impl\u001b[0;34m(func, in_dims, out_dims, randomness, chunk_size, *args, **kwargs)\u001b[0m\n\u001b[1;32m    264\u001b[0m \u001b[0;34m\u001b[0m\u001b[0m\n\u001b[1;32m    265\u001b[0m     \u001b[0;31m# If chunk_size is not specified.\u001b[0m\u001b[0;34m\u001b[0m\u001b[0;34m\u001b[0m\u001b[0m\n\u001b[0;32m--> 266\u001b[0;31m     return _flat_vmap(\n\u001b[0m\u001b[1;32m    267\u001b[0m         \u001b[0mfunc\u001b[0m\u001b[0;34m,\u001b[0m \u001b[0mbatch_size\u001b[0m\u001b[0;34m,\u001b[0m \u001b[0mflat_in_dims\u001b[0m\u001b[0;34m,\u001b[0m \u001b[0mflat_args\u001b[0m\u001b[0;34m,\u001b[0m \u001b[0margs_spec\u001b[0m\u001b[0;34m,\u001b[0m \u001b[0mout_dims\u001b[0m\u001b[0;34m,\u001b[0m \u001b[0mrandomness\u001b[0m\u001b[0;34m,\u001b[0m \u001b[0;34m**\u001b[0m\u001b[0mkwargs\u001b[0m\u001b[0;34m\u001b[0m\u001b[0;34m\u001b[0m\u001b[0m\n\u001b[1;32m    268\u001b[0m     )\n",
      "\u001b[0;32m/opt/anaconda3/lib/python3.9/site-packages/torch/_functorch/vmap.py\u001b[0m in \u001b[0;36mfn\u001b[0;34m(*args, **kwargs)\u001b[0m\n\u001b[1;32m     36\u001b[0m     \u001b[0;32mdef\u001b[0m \u001b[0mfn\u001b[0m\u001b[0;34m(\u001b[0m\u001b[0;34m*\u001b[0m\u001b[0margs\u001b[0m\u001b[0;34m,\u001b[0m \u001b[0;34m**\u001b[0m\u001b[0mkwargs\u001b[0m\u001b[0;34m)\u001b[0m\u001b[0;34m:\u001b[0m\u001b[0;34m\u001b[0m\u001b[0;34m\u001b[0m\u001b[0m\n\u001b[1;32m     37\u001b[0m         \u001b[0;32mwith\u001b[0m \u001b[0mtorch\u001b[0m\u001b[0;34m.\u001b[0m\u001b[0mautograd\u001b[0m\u001b[0;34m.\u001b[0m\u001b[0mgraph\u001b[0m\u001b[0;34m.\u001b[0m\u001b[0mdisable_saved_tensors_hooks\u001b[0m\u001b[0;34m(\u001b[0m\u001b[0mmessage\u001b[0m\u001b[0;34m)\u001b[0m\u001b[0;34m:\u001b[0m\u001b[0;34m\u001b[0m\u001b[0;34m\u001b[0m\u001b[0m\n\u001b[0;32m---> 38\u001b[0;31m             \u001b[0;32mreturn\u001b[0m \u001b[0mf\u001b[0m\u001b[0;34m(\u001b[0m\u001b[0;34m*\u001b[0m\u001b[0margs\u001b[0m\u001b[0;34m,\u001b[0m \u001b[0;34m**\u001b[0m\u001b[0mkwargs\u001b[0m\u001b[0;34m)\u001b[0m\u001b[0;34m\u001b[0m\u001b[0;34m\u001b[0m\u001b[0m\n\u001b[0m\u001b[1;32m     39\u001b[0m     \u001b[0;32mreturn\u001b[0m \u001b[0mfn\u001b[0m\u001b[0;34m\u001b[0m\u001b[0;34m\u001b[0m\u001b[0m\n\u001b[1;32m     40\u001b[0m \u001b[0;34m\u001b[0m\u001b[0m\n",
      "\u001b[0;32m/opt/anaconda3/lib/python3.9/site-packages/torch/_functorch/vmap.py\u001b[0m in \u001b[0;36m_flat_vmap\u001b[0;34m(func, batch_size, flat_in_dims, flat_args, args_spec, out_dims, randomness, **kwargs)\u001b[0m\n\u001b[1;32m    377\u001b[0m     \u001b[0;32mtry\u001b[0m\u001b[0;34m:\u001b[0m\u001b[0;34m\u001b[0m\u001b[0;34m\u001b[0m\u001b[0m\n\u001b[1;32m    378\u001b[0m         \u001b[0mbatched_inputs\u001b[0m \u001b[0;34m=\u001b[0m \u001b[0m_create_batched_inputs\u001b[0m\u001b[0;34m(\u001b[0m\u001b[0mflat_in_dims\u001b[0m\u001b[0;34m,\u001b[0m \u001b[0mflat_args\u001b[0m\u001b[0;34m,\u001b[0m \u001b[0mvmap_level\u001b[0m\u001b[0;34m,\u001b[0m \u001b[0margs_spec\u001b[0m\u001b[0;34m)\u001b[0m\u001b[0;34m\u001b[0m\u001b[0;34m\u001b[0m\u001b[0m\n\u001b[0;32m--> 379\u001b[0;31m         \u001b[0mbatched_outputs\u001b[0m \u001b[0;34m=\u001b[0m \u001b[0mfunc\u001b[0m\u001b[0;34m(\u001b[0m\u001b[0;34m*\u001b[0m\u001b[0mbatched_inputs\u001b[0m\u001b[0;34m,\u001b[0m \u001b[0;34m**\u001b[0m\u001b[0mkwargs\u001b[0m\u001b[0;34m)\u001b[0m\u001b[0;34m\u001b[0m\u001b[0;34m\u001b[0m\u001b[0m\n\u001b[0m\u001b[1;32m    380\u001b[0m         \u001b[0;32mreturn\u001b[0m \u001b[0m_unwrap_batched\u001b[0m\u001b[0;34m(\u001b[0m\u001b[0mbatched_outputs\u001b[0m\u001b[0;34m,\u001b[0m \u001b[0mout_dims\u001b[0m\u001b[0;34m,\u001b[0m \u001b[0mvmap_level\u001b[0m\u001b[0;34m,\u001b[0m \u001b[0mbatch_size\u001b[0m\u001b[0;34m,\u001b[0m \u001b[0mfunc\u001b[0m\u001b[0;34m)\u001b[0m\u001b[0;34m\u001b[0m\u001b[0;34m\u001b[0m\u001b[0m\n\u001b[1;32m    381\u001b[0m     \u001b[0;32mfinally\u001b[0m\u001b[0;34m:\u001b[0m\u001b[0;34m\u001b[0m\u001b[0;34m\u001b[0m\u001b[0m\n",
      "\u001b[0;32m/opt/anaconda3/lib/python3.9/site-packages/torch/_functorch/eager_transforms.py\u001b[0m in \u001b[0;36mwrapper\u001b[0;34m(cotangents, retain_graph, create_graph)\u001b[0m\n\u001b[1;32m    326\u001b[0m                     \u001b[0;34mf'cotangents: {treespec_pprint(cotangents_spec)}, '\u001b[0m\u001b[0;34m\u001b[0m\u001b[0;34m\u001b[0m\u001b[0m\n\u001b[1;32m    327\u001b[0m                     f'primal output: {treespec_pprint(primals_out_spec)}')\n\u001b[0;32m--> 328\u001b[0;31m             result = _autograd_grad(flat_primals_out, flat_diff_primals, flat_cotangents,\n\u001b[0m\u001b[1;32m    329\u001b[0m                                     retain_graph=retain_graph, create_graph=create_graph)\n\u001b[1;32m    330\u001b[0m             \u001b[0;32mreturn\u001b[0m \u001b[0mtree_unflatten\u001b[0m\u001b[0;34m(\u001b[0m\u001b[0mresult\u001b[0m\u001b[0;34m,\u001b[0m \u001b[0mprimals_spec\u001b[0m\u001b[0;34m)\u001b[0m\u001b[0;34m\u001b[0m\u001b[0;34m\u001b[0m\u001b[0m\n",
      "\u001b[0;32m/opt/anaconda3/lib/python3.9/site-packages/torch/_functorch/eager_transforms.py\u001b[0m in \u001b[0;36m_autograd_grad\u001b[0;34m(outputs, inputs, grad_outputs, retain_graph, create_graph)\u001b[0m\n\u001b[1;32m    114\u001b[0m     \u001b[0;32mif\u001b[0m \u001b[0mlen\u001b[0m\u001b[0;34m(\u001b[0m\u001b[0mdiff_outputs\u001b[0m\u001b[0;34m)\u001b[0m \u001b[0;34m==\u001b[0m \u001b[0;36m0\u001b[0m\u001b[0;34m:\u001b[0m\u001b[0;34m\u001b[0m\u001b[0;34m\u001b[0m\u001b[0m\n\u001b[1;32m    115\u001b[0m         \u001b[0;32mreturn\u001b[0m \u001b[0mtuple\u001b[0m\u001b[0;34m(\u001b[0m\u001b[0mtorch\u001b[0m\u001b[0;34m.\u001b[0m\u001b[0mzeros_like\u001b[0m\u001b[0;34m(\u001b[0m\u001b[0minp\u001b[0m\u001b[0;34m)\u001b[0m \u001b[0;32mfor\u001b[0m \u001b[0minp\u001b[0m \u001b[0;32min\u001b[0m \u001b[0minputs\u001b[0m\u001b[0;34m)\u001b[0m\u001b[0;34m\u001b[0m\u001b[0;34m\u001b[0m\u001b[0m\n\u001b[0;32m--> 116\u001b[0;31m     grad_inputs = torch.autograd.grad(diff_outputs, inputs, grad_outputs,\n\u001b[0m\u001b[1;32m    117\u001b[0m                                       \u001b[0mretain_graph\u001b[0m\u001b[0;34m=\u001b[0m\u001b[0mretain_graph\u001b[0m\u001b[0;34m,\u001b[0m\u001b[0;34m\u001b[0m\u001b[0;34m\u001b[0m\u001b[0m\n\u001b[1;32m    118\u001b[0m                                       \u001b[0mcreate_graph\u001b[0m\u001b[0;34m=\u001b[0m\u001b[0mcreate_graph\u001b[0m\u001b[0;34m,\u001b[0m\u001b[0;34m\u001b[0m\u001b[0;34m\u001b[0m\u001b[0m\n",
      "\u001b[0;32m/opt/anaconda3/lib/python3.9/site-packages/torch/autograd/__init__.py\u001b[0m in \u001b[0;36mgrad\u001b[0;34m(outputs, inputs, grad_outputs, retain_graph, create_graph, only_inputs, allow_unused, is_grads_batched, materialize_grads)\u001b[0m\n\u001b[1;32m    392\u001b[0m         )\n\u001b[1;32m    393\u001b[0m     \u001b[0;32melse\u001b[0m\u001b[0;34m:\u001b[0m\u001b[0;34m\u001b[0m\u001b[0;34m\u001b[0m\u001b[0m\n\u001b[0;32m--> 394\u001b[0;31m         result = Variable._execution_engine.run_backward(  # Calls into the C++ engine to run the backward pass\n\u001b[0m\u001b[1;32m    395\u001b[0m             \u001b[0mt_outputs\u001b[0m\u001b[0;34m,\u001b[0m\u001b[0;34m\u001b[0m\u001b[0;34m\u001b[0m\u001b[0m\n\u001b[1;32m    396\u001b[0m             \u001b[0mgrad_outputs_\u001b[0m\u001b[0;34m,\u001b[0m\u001b[0;34m\u001b[0m\u001b[0;34m\u001b[0m\u001b[0m\n",
      "\u001b[0;31mKeyboardInterrupt\u001b[0m: "
     ]
    }
   ],
   "source": [
    "# Test points\n",
    "optimizer = optim.Adam(list(f_net.parameters()), lr=1e-3)\n",
    "train_model(-20,-7.06,f_net,optimizer,n_epochs=n_epochs,sdt_dev=2.5,N_collocation=N_collocation,factor=1)"
   ]
  },
  {
   "cell_type": "code",
   "execution_count": 108,
   "id": "f32074d6-23c5-4a28-b8c8-a901fddb7c97",
   "metadata": {},
   "outputs": [
    {
     "data": {
      "text/plain": [
       "(-6.284658656386535, 0.9768666666666667)"
      ]
     },
     "execution_count": 108,
     "metadata": {},
     "output_type": "execute_result"
    }
   ],
   "source": [
    "vmc_simulation_optimized(psi_fn_E, 3, 1, 16000,V=-20,delta=0.02)"
   ]
  },
  {
   "cell_type": "code",
   "execution_count": 112,
   "id": "9f552696-85ec-4af3-b791-114b95b8ba42",
   "metadata": {},
   "outputs": [
    {
     "data": {
      "text/plain": [
       "(-2.733719839668833, 0.975625)"
      ]
     },
     "execution_count": 112,
     "metadata": {},
     "output_type": "execute_result"
    }
   ],
   "source": [
    "vmc_simulation_optimized(psi_fn_E, 3, 1, 16000,V=-20,delta=0.02)"
   ]
  }
 ],
 "metadata": {
  "kernelspec": {
   "display_name": "Python 3 (ipykernel)",
   "language": "python",
   "name": "python3"
  },
  "language_info": {
   "codemirror_mode": {
    "name": "ipython",
    "version": 3
   },
   "file_extension": ".py",
   "mimetype": "text/x-python",
   "name": "python",
   "nbconvert_exporter": "python",
   "pygments_lexer": "ipython3",
   "version": "3.9.13"
  }
 },
 "nbformat": 4,
 "nbformat_minor": 5
}
