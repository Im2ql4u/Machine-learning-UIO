{
 "cells": [
  {
   "cell_type": "markdown",
   "id": "67e7cec7",
   "metadata": {},
   "source": [
    "<p style=\"font-family:Times New Roman; font-size:120%\">\n",
    "    -Aleksander Nistad Sekkelsten\n",
    "</p>\n",
    "<h1 style=\"font-family:Times New Roman; font-size: 300%\"><center> FYS4480; Project 1 </center></h1>\n"
   ]
  },
  {
   "cell_type": "code",
   "execution_count": 1,
   "id": "8a5acff9",
   "metadata": {},
   "outputs": [
    {
     "name": "stderr",
     "output_type": "stream",
     "text": [
      "\u001b[32m\u001b[1m  Activating\u001b[22m\u001b[39m project at `~/.julia/environments/v1.10`\n",
      "\u001b[32m\u001b[1m    Updating\u001b[22m\u001b[39m registry at `~/.julia/registries/General.toml`\n",
      "\u001b[32m\u001b[1m   Resolving\u001b[22m\u001b[39m package versions...\n",
      "\u001b[32m\u001b[1m  No Changes\u001b[22m\u001b[39m to `~/.julia/environments/v1.10/Project.toml`\n",
      "\u001b[32m\u001b[1m  No Changes\u001b[22m\u001b[39m to `~/.julia/environments/v1.10/Manifest.toml`\n"
     ]
    }
   ],
   "source": [
    "import Pkg; Pkg.activate(\".julia/environments/v1.10/Project.toml\")\n",
    "using Plots, Random, LinearAlgebra, Statistics, Distributions\n",
    "using Plots.PlotMeasures\n",
    "Pkg.add(\"QuadGK\");using QuadGK\n",
    "theme(:dao)"
   ]
  },
  {
   "cell_type": "code",
   "execution_count": 2,
   "id": "c9cd5e72",
   "metadata": {},
   "outputs": [
    {
     "data": {
      "text/plain": [
       "3×3×3×3 Array{Float64, 4}:\n",
       "[:, :, 1, 1] =\n",
       " 1.25       0.17871    0.0879189\n",
       " 0.17871    0.0438957  0.0224458\n",
       " 0.0879189  0.0224458  0.0115356\n",
       "\n",
       "[:, :, 2, 1] =\n",
       " 0.17871   0.0438957   0.0224458\n",
       " 0.419753  0.0171633   0.0078719\n",
       " 0.101053  0.00908569  0.00421808\n",
       "\n",
       "[:, :, 3, 1] =\n",
       " 0.0879189  0.0224458   0.0115356\n",
       " 0.101053   0.00908569  0.00421808\n",
       " 0.198975   0.00485771  0.00226226\n",
       "\n",
       "[:, :, 1, 2] =\n",
       " 0.17871    0.419753   0.101053\n",
       " 0.0438957  0.0171633  0.00908569\n",
       " 0.0224458  0.0078719  0.00421808\n",
       "\n",
       "[:, :, 2, 2] =\n",
       " 0.0438957   0.0171633  0.00908569\n",
       " 0.0171633   0.300781   0.0429341\n",
       " 0.00908569  0.0429341  0.014952\n",
       "\n",
       "[:, :, 3, 2] =\n",
       " 0.0224458   0.0078719  0.00421808\n",
       " 0.00908569  0.0429341  0.014952\n",
       " 0.00485771  0.168228   0.00929459\n",
       "\n",
       "[:, :, 1, 3] =\n",
       " 0.0879189  0.101053    0.198975\n",
       " 0.0224458  0.00908569  0.00485771\n",
       " 0.0115356  0.00421808  0.00226226\n",
       "\n",
       "[:, :, 2, 3] =\n",
       " 0.0224458   0.00908569  0.00485771\n",
       " 0.0078719   0.0429341   0.168228\n",
       " 0.00421808  0.014952    0.00929459\n",
       "\n",
       "[:, :, 3, 3] =\n",
       " 0.0115356   0.00421808  0.00226226\n",
       " 0.00421808  0.014952    0.00929459\n",
       " 0.00226226  0.0046473   0.132812"
      ]
     },
     "execution_count": 2,
     "metadata": {},
     "output_type": "execute_result"
    }
   ],
   "source": [
    "# Define the 4-dimensional matrix V\n",
    "function V_Matrix(Z)\n",
    "    V = zeros(3, 3, 3, 3)  # Initialize a 4-dimensional array\n",
    "\n",
    "    # Fill in the elements manually\n",
    "    V[1, 1, 1, 1] = (5*Z)/8\n",
    "    V[1, 1, 1, 2] = (4096*sqrt(2)*Z)/64827\n",
    "    V[1, 1, 1, 3] = (1269*sqrt(3)*Z)/50000\n",
    "    V[1, 1, 2, 1] = (4096*sqrt(2)*Z)/64827\n",
    "    V[1, 1, 2, 2] = (16*Z)/729\n",
    "    V[1, 1, 2, 3] = (110592*sqrt(6)*Z)/24137569\n",
    "    V[1, 1, 3, 1] = (1269*sqrt(3)*Z)/50000\n",
    "    V[1, 1, 3, 2] = (110592*sqrt(6)*Z)/24137569\n",
    "    V[1, 1, 3, 3] = (189*Z)/32768\n",
    "\n",
    "    V[1, 2, 1, 1] = (4096*sqrt(2)*Z)/64827\n",
    "    V[1, 2, 1, 2] = (17*Z)/81\n",
    "    V[1, 2, 1, 3] = (1555918848*sqrt(6)*Z)/75429903125\n",
    "    V[1, 2, 2, 1] = (16*Z)/729\n",
    "    V[1, 2, 2, 2] = (512*sqrt(2)*Z)/84375\n",
    "    V[1, 2, 2, 3] = (2160*sqrt(3)*Z)/823543\n",
    "    V[1, 2, 3, 1] = (110592*sqrt(6)*Z)/24137569\n",
    "    V[1, 2, 3, 2] = (29943*sqrt(3)*Z)/13176688\n",
    "    V[1, 2, 3, 3] = (1216512*sqrt(2)*Z)/815730721\n",
    "\n",
    "    V[1, 3, 1, 1] = (1269*sqrt(3)*Z)/50000\n",
    "    V[1, 3, 1, 2] = (1555918848*sqrt(6)*Z)/75429903125\n",
    "    V[1, 3, 1, 3] = (815*Z)/8192\n",
    "    V[1, 3, 2, 1] = (110592*sqrt(6)*Z)/24137569\n",
    "    V[1, 3, 2, 2] = (2160*sqrt(3)*Z)/823543\n",
    "    V[1, 3, 2, 3] = (37826560*sqrt(2)*Z)/22024729467\n",
    "    V[1, 3, 3, 1] = (189*Z)/32768\n",
    "    V[1, 3, 3, 2] = (1216512*sqrt(2)*Z)/815730721\n",
    "    V[1, 3, 3, 3] = (617*Z)/(314928*sqrt(3))\n",
    "\n",
    "    V[2, 1, 1, 1] = (4096*sqrt(2)*Z)/64827\n",
    "    V[2, 1, 1, 2] = (16*Z)/729\n",
    "    V[2, 1, 1, 3] = (110592*sqrt(6)*Z)/24137569\n",
    "    V[2, 1, 2, 1] = (17*Z)/81\n",
    "    V[2, 1, 2, 2] = (512*sqrt(2)*Z)/84375\n",
    "    V[2, 1, 2, 3] = (29943*sqrt(3)*Z)/13176688\n",
    "    V[2, 1, 3, 1] = (1555918848*sqrt(6)*Z)/75429903125\n",
    "    V[2, 1, 3, 2] = (2160*sqrt(3)*Z)/823543\n",
    "    V[2, 1, 3, 3] = (1216512*sqrt(2)*Z)/815730721\n",
    "\n",
    "    V[2, 2, 1, 1] = (16*Z)/729\n",
    "    V[2, 2, 1, 2] = (512*sqrt(2)*Z)/84375\n",
    "    V[2, 2, 1, 3] = (2160*sqrt(3)*Z)/823543\n",
    "    V[2, 2, 2, 1] = (512*sqrt(2)*Z)/84375\n",
    "    V[2, 2, 2, 2] = (77*Z)/512\n",
    "    V[2, 2, 2, 3] = (5870679552*sqrt(6)*Z)/669871503125\n",
    "    V[2, 2, 3, 1] = (2160*sqrt(3)*Z)/823543\n",
    "    V[2, 2, 3, 2] = (5870679552*sqrt(6)*Z)/669871503125\n",
    "    V[2, 2, 3, 3] = (73008*Z)/9765625\n",
    "\n",
    "    V[2, 3, 1, 1] = (110592*sqrt(6)*Z)/24137569\n",
    "    V[2, 3, 1, 2] = (2160*sqrt(3)*Z)/823543\n",
    "    V[2, 3, 1, 3] = (37826560*sqrt(2)*Z)/22024729467\n",
    "    V[2, 3, 2, 1] = (29943*sqrt(3)*Z)/13176688\n",
    "    V[2, 3, 2, 2] = (5870679552*sqrt(6)*Z)/669871503125\n",
    "    V[2, 3, 2, 3] = (32857*Z)/390625\n",
    "    V[2, 3, 3, 1] = (1216512*sqrt(2)*Z)/815730721\n",
    "    V[2, 3, 3, 2] = (73008*Z)/9765625\n",
    "    V[2, 3, 3, 3] = (6890942464*sqrt(2/3)*Z)/1210689028125\n",
    "\n",
    "    V[3, 1, 1, 1] = (1269*sqrt(3)*Z)/50000\n",
    "    V[3, 1, 1, 2] = (110592*sqrt(6)*Z)/24137569\n",
    "    V[3, 1, 1, 3] = (189*Z)/32768\n",
    "    V[3, 1, 2, 1] = (1555918848*sqrt(6)*Z)/75429903125\n",
    "    V[3, 1, 2, 2] = (2160*sqrt(3)*Z)/823543\n",
    "    V[3, 1, 2, 3] = (1216512*sqrt(2)*Z)/815730721\n",
    "    V[3, 1, 3, 1] = (815*Z)/8192\n",
    "    V[3, 1, 3, 2] = (37826560*sqrt(2)*Z)/22024729467\n",
    "    V[3, 1, 3, 3] = (617*Z)/(314928*sqrt(3))\n",
    "\n",
    "    V[3, 2, 1, 1] = (110592*sqrt(6)*Z)/24137569\n",
    "    V[3, 2, 1, 2] = (29943*sqrt(3)*Z)/13176688\n",
    "    V[3, 2, 1, 3] = (1216512*sqrt(2)*Z)/815730721\n",
    "    V[3, 2, 2, 1] = (2160*sqrt(3)*Z)/823543\n",
    "    V[3, 2, 2, 2] = (5870679552*sqrt(6)*Z)/669871503125\n",
    "    V[3, 2, 2, 3] = (73008*Z)/9765625\n",
    "    V[3, 2, 3, 1] = (37826560*sqrt(2)*Z)/22024729467\n",
    "    V[3, 2, 3, 2] = (32857*Z)/390625\n",
    "    V[3, 2, 3, 3] = 6890942464*sqrt(2/3)/1210689028125\n",
    "\n",
    "    V[3, 3, 1, 1] = (189*Z)/32768\n",
    "    V[3, 3, 1, 2] = (1216512*sqrt(2)*Z)/815730721\n",
    "    V[3, 3, 1, 3] = (617*Z)/(314928*sqrt(3))\n",
    "    V[3, 3, 2, 1] = (1216512*sqrt(2)*Z)/815730721\n",
    "    V[3, 3, 2, 2] = (73008*Z)/9765625\n",
    "    V[3, 3, 2, 3] = (6890942464*sqrt(2/3)*Z)/1210689028125\n",
    "    V[3, 3, 3, 1] = (617*Z)/(314928*sqrt(3))\n",
    "    V[3, 3, 3, 2] = (6890942464*sqrt(2/3)*Z)/1210689028125\n",
    "    V[3, 3, 3, 3] = (17*Z)/256\n",
    "    return V\n",
    "end\n",
    "V = V_Matrix(2)"
   ]
  },
  {
   "cell_type": "code",
   "execution_count": 3,
   "id": "35bf8cb6",
   "metadata": {},
   "outputs": [
    {
     "data": {
      "text/plain": [
       "Idx (generic function with 1 method)"
      ]
     },
     "execution_count": 3,
     "metadata": {},
     "output_type": "execute_result"
    }
   ],
   "source": [
    "function h0(i,j,n,Z)\n",
    "    if i==j\n",
    "        return -Z^2/(2*n^2)\n",
    "    else\n",
    "        return 0.\n",
    "    end\n",
    "end\n",
    "function Idx(a) # transition of state label to state energy level. (for example 6->3 (in 3s), 4 -> 2, etc..)\n",
    "    if a%2==1\n",
    "        a = (a+1)/2\n",
    "    else\n",
    "        a=a/2\n",
    "    end\n",
    "    return Int(a)\n",
    "end"
   ]
  },
  {
   "cell_type": "code",
   "execution_count": 4,
   "id": "3d651fb6",
   "metadata": {},
   "outputs": [
    {
     "data": {
      "text/plain": [
       "f (generic function with 1 method)"
      ]
     },
     "execution_count": 4,
     "metadata": {},
     "output_type": "execute_result"
    }
   ],
   "source": [
    "function Potential(V,p,q,r,s)\n",
    "    \n",
    "    #Spin antisymmetry returns 0\n",
    "    if ((p%2)==(r%2)) & ((q%2)==(s%2))\n",
    "        p, q, r, s = Idx(p), Idx(q), Idx(r), Idx(s)\n",
    "        return V[p,q,r,s]\n",
    "    else\n",
    "        return 0\n",
    "    end\n",
    "end\n",
    "\n",
    "function f(V,p,q,Z)\n",
    "    f_0 = h0(p,q,Idx(p),Z)\n",
    "    for i in 1:Z\n",
    "        f_0 += (Potential(V,p,i,q,i) - Potential(V,p,i,i,q))\n",
    "    end\n",
    "    return f_0::Float64\n",
    "end"
   ]
  },
  {
   "cell_type": "code",
   "execution_count": 5,
   "id": "09e60d7b",
   "metadata": {},
   "outputs": [
    {
     "data": {
      "text/plain": [
       "E_REF (generic function with 1 method)"
      ]
     },
     "execution_count": 5,
     "metadata": {},
     "output_type": "execute_result"
    }
   ],
   "source": [
    "function PH(V,j,b,i,a,Z)\n",
    "\n",
    "    if (j==i) & (b==a)\n",
    "        Pot = E_REF(V,Z) + (f(V,a,a,Z) - f(V,i,i,Z)) - (Potential(V,a,i,a,i) - Potential(V,a,i,i,a))\n",
    "    elseif (j!=i) & (b==a)\n",
    "        Pot = -f(V,i,j,Z)\n",
    "    elseif (j==i) & (b!=a)\n",
    "        Pot = f(V,b,a,Z)\n",
    "    elseif (j!=i) & (b!=a)\n",
    "        Pot = -(Potential(V,b,i,a,j) - Potential(V,b,i,j,a))\n",
    "    end\n",
    "\n",
    "    return Pot\n",
    "end    \n",
    "\n",
    "function Hamiltonian(E_r, V, Z)\n",
    "    if Z==4\n",
    "        excitations = [[1, 3, 2, 4], [5, 5, 6, 6]]\n",
    "        n = 4\n",
    "    elseif Z==2\n",
    "        excitations = [[1, 1, 2, 2], [3, 5, 4, 6]]\n",
    "        n=4\n",
    "    else\n",
    "        println(\"Undefined Z\")\n",
    "    end\n",
    "    H = zeros(n+1,n+1)\n",
    "    H[1,1] = E_r\n",
    "    for i in 1:n\n",
    "        i_p = excitations[1][i]\n",
    "        a = excitations[2][i]\n",
    "        H[1,i+1] = f(V, i_p, a, Z)\n",
    "        H[i+1,1] = f(V, a, i_p, Z)\n",
    "        \n",
    "    end\n",
    "    for i in 1:n\n",
    "        i_p = excitations[1][i]\n",
    "        a = excitations[2][i]\n",
    "\n",
    "        for j in 1:n\n",
    "            j_p = excitations[1][j]\n",
    "            b = excitations[2][j]\n",
    "            H[i+1,j+1] = PH(V, i_p,a,j_p,b,Z)\n",
    "        end\n",
    "    end\n",
    "    return H\n",
    "end\n",
    "function E_REF(V, Z)\n",
    "    p=0\n",
    "    h_0=0\n",
    "    for i in 1:Z\n",
    "        for j in 1:Z\n",
    "            #if i==j\n",
    "            p+=0.5*(Potential(V,i,j,i,j)-Potential(V,i,j,j,i))\n",
    "            #end\n",
    "        end\n",
    "    end\n",
    "    for i in 1:(Z/2)\n",
    "        h_0 += h0(1,1,i,Z)*2\n",
    "    end\n",
    "    return h_0+p\n",
    "end"
   ]
  },
  {
   "cell_type": "markdown",
   "id": "47e9bd1c",
   "metadata": {},
   "source": [
    "<h2 style=\"font-family:Times New Roman; font-weight:bolder; font-size:240%\">Full Configuration Interaction theory</h2>\n"
   ]
  },
  {
   "cell_type": "code",
   "execution_count": 6,
   "id": "23442f19",
   "metadata": {},
   "outputs": [
    {
     "data": {
      "text/plain": [
       "Eigen{Float64, Float64, Matrix{Float64}, Vector{Float64}}\n",
       "values:\n",
       "5-element Vector{Float64}:\n",
       " -2.8347256069360247\n",
       " -2.242902829037337\n",
       " -2.2128411551097997\n",
       " -1.9160230895208357\n",
       " -1.750496372250943\n",
       "vectors:\n",
       "5×5 Matrix{Float64}:\n",
       "  0.955993  -3.11128e-15  -0.136402  -7.02413e-16  -0.259754\n",
       " -0.20061   -0.564219     -0.463422  -0.426213     -0.49497\n",
       " -0.052861   0.426213      0.525297  -0.564219     -0.470392\n",
       " -0.20061    0.564219     -0.463422   0.426213     -0.49497\n",
       " -0.052861  -0.426213      0.525297   0.564219     -0.470392"
      ]
     },
     "execution_count": 6,
     "metadata": {},
     "output_type": "execute_result"
    }
   ],
   "source": [
    "# FCI FOR HELIUM\n",
    "E_ref = E_REF(V, 2)\n",
    "H = Hamiltonian(E_ref, V, 2)\n",
    "eigen(H)"
   ]
  },
  {
   "cell_type": "markdown",
   "id": "83237d23",
   "metadata": {},
   "source": [
    "Beryllium"
   ]
  },
  {
   "cell_type": "code",
   "execution_count": 7,
   "id": "68cb327d",
   "metadata": {},
   "outputs": [
    {
     "data": {
      "text/plain": [
       "Eigen{Float64, Float64, Matrix{Float64}, Vector{Float64}}\n",
       "values:\n",
       "5-element Vector{Float64}:\n",
       " -14.361936747189791\n",
       " -13.757547323322205\n",
       " -13.059364422446116\n",
       "  -9.63896228897034\n",
       "  -9.585253509971412\n",
       "vectors:\n",
       "5×5 Matrix{Float64}:\n",
       "  0.714943   1.58218e-14  0.697293   -1.01599e-15  -0.0513743\n",
       " -0.068274  -0.0690359    0.0181654  -0.703729     -0.703569\n",
       " -0.48966   -0.703729     0.506519    0.0690359     0.0605942\n",
       " -0.068274   0.0690359    0.0181654   0.703729     -0.703569\n",
       " -0.48966    0.703729     0.506519   -0.0690359     0.0605942"
      ]
     },
     "execution_count": 7,
     "metadata": {},
     "output_type": "execute_result"
    }
   ],
   "source": [
    "V_b = V_Matrix(4)\n",
    "E_ref = E_REF(V_b,4)\n",
    "H_B = Hamiltonian(E_ref, V_b, 4)\n",
    "eigen(H_B)"
   ]
  },
  {
   "cell_type": "code",
   "execution_count": 8,
   "id": "4104df92",
   "metadata": {},
   "outputs": [
    {
     "data": {
      "text/plain": [
       "normalize_orbitals! (generic function with 1 method)"
      ]
     },
     "execution_count": 8,
     "metadata": {},
     "output_type": "execute_result"
    }
   ],
   "source": [
    "function HartreeFockMatrix(V, C, Z)\n",
    "\n",
    "    n = Z\n",
    "    hf = zeros(n, n)\n",
    "    for α in 1:n\n",
    "        for γ in 1:n\n",
    "            hf[α, γ] = h0(α, γ, Idx(α),Z)\n",
    "            term2 = 0.0\n",
    "            for i in 1:n\n",
    "                for β in 1:n\n",
    "                    for δ in 1:n\n",
    "                        term2 += C'[i,β] * C[i,δ] * (Potential(V, α, β, γ, δ) - Potential(V, α, β, δ, γ))\n",
    "                    end\n",
    "                end\n",
    "            end\n",
    "            hf[α, γ] += term2\n",
    "        end\n",
    "    end\n",
    "\n",
    "    return hf\n",
    "end\n",
    "function normalize_orbitals!(Coeffs)\n",
    "    n = size(Coeffs, 1)\n",
    "    for i in 1:n\n",
    "        norm = sqrt(sum(Coeffs[:, i] .^ 2))\n",
    "        Coeffs[:, i] /= norm\n",
    "    end\n",
    "end\n"
   ]
  },
  {
   "cell_type": "code",
   "execution_count": 9,
   "id": "0de4865d",
   "metadata": {},
   "outputs": [
    {
     "data": {
      "text/plain": [
       "Hartree (generic function with 1 method)"
      ]
     },
     "execution_count": 9,
     "metadata": {},
     "output_type": "execute_result"
    }
   ],
   "source": [
    "function HartreeFockMatrix(V, P, Z)\n",
    "    n = size(P, 1)\n",
    "    hf = zeros(n, n)\n",
    "    for α in 1:n\n",
    "        for γ in 1:n\n",
    "            hf[α, γ] = h0(α, γ, Idx(α), Z)\n",
    "            term2 = 0.0\n",
    "            for β in 1:n\n",
    "                for δ in 1:n\n",
    "                    term2 += P[β, δ] * (Potential(V, α, β, γ, δ) - Potential(V, α, β, δ, γ))\n",
    "                end\n",
    "            end\n",
    "\n",
    "            hf[α, γ] += term2\n",
    "        end\n",
    "    end\n",
    "    return hf\n",
    "end\n",
    "\n",
    "function compute_density_matrix(C, num_occupied)\n",
    "    n = size(C, 1)\n",
    "    P = zeros(n, n)\n",
    "    for μ in 1:n\n",
    "        for ν in 1:n\n",
    "            for i in 1:num_occupied\n",
    "                P[μ, ν] +=  C[μ,i] * C[ν,i]\n",
    "            end\n",
    "        end\n",
    "    end\n",
    "    return P\n",
    "end\n",
    "function Hartree(V, Z;MaxIter=1000)\n",
    "    n=6\n",
    "    num_occupied = Z\n",
    "    C = Matrix{Float64}(I, n, n)\n",
    "    P = compute_density_matrix(C, num_occupied)\n",
    "    hf = HartreeFockMatrix(V, P, Z)\n",
    "    (E, Coeffs) = eigen(hf)\n",
    "    Energy_0 = sum(E[1:num_occupied])\n",
    "    \n",
    "    for iter in 1:MaxIter\n",
    "        #normalize_orbitals!(Coeffs)\n",
    "        P = compute_density_matrix(Coeffs, num_occupied)\n",
    "        hf = HartreeFockMatrix(V, P, Z)\n",
    "        (E, Coeffs) = eigen(hf)\n",
    "        Energy_1 = sum(E[1:num_occupied])\n",
    "        if abs(Energy_1 .- Energy_0) <= 1e-10\n",
    "            println(\"Converged after: \", iter, \" iterations\")\n",
    "            break\n",
    "        end\n",
    "        Energy_0 = Energy_1\n",
    "    end\n",
    "\n",
    "    hf = HartreeFockMatrix(V, P, Z)\n",
    "\n",
    "    # Calculate the total energy\n",
    "    E_total = 0.0\n",
    "    for μ in 1:n\n",
    "        for ν in 1:n\n",
    "            E_total += P[μ, ν] * (h0(μ, ν, Idx(μ), Z) + hf[μ, ν])*0.5\n",
    "        end\n",
    "    end\n",
    "    println(E)\n",
    "    println(\"Estimated energy: \", E_total)\n",
    "    println(\"Resulting orbital coefficients: \")\n",
    "    display(Coeffs[:, 1:end])\n",
    "    return E[1:end], Coeffs\n",
    "end"
   ]
  },
  {
   "cell_type": "markdown",
   "id": "bd7b2531",
   "metadata": {},
   "source": [
    "<h2 style=\"font-family:Times New Roman; font-weight:bolder; font-size:240%\">Hartree Fock Single iteration</h2>\n"
   ]
  },
  {
   "cell_type": "code",
   "execution_count": 10,
   "id": "46a22a3f",
   "metadata": {},
   "outputs": [
    {
     "name": "stdout",
     "output_type": "stream",
     "text": [
      "[-0.872060990609592, -0.8720609906095917, 0.039540973685565875, 0.03954097368556591, 0.4440721014941254, 0.44407210149412546]\n",
      "Estimated energy: -2.829192973995496\n",
      "Resulting orbital coefficients: \n"
     ]
    },
    {
     "data": {
      "text/plain": [
       "6×6 Matrix{Float64}:\n",
       "  0.981773     -0.0829302   -0.00942244  …  -0.0250847   0.184721\n",
       " -2.51895e-13   0.978264    -0.0437269      -0.18301    -1.84305e-16\n",
       " -0.178034      0.0150385   -0.11726        -0.110192    0.811438\n",
       "  4.56918e-14  -0.177398    -0.544171       -0.803921   -5.98692e-17\n",
       " -0.0665308     0.00561984   0.17474        -0.0752972   0.554478\n",
       "  1.70738e-14  -0.066293     0.810921    …  -0.549342   -3.15622e-17"
      ]
     },
     "metadata": {},
     "output_type": "display_data"
    },
    {
     "data": {
      "text/plain": [
       "([-0.872060990609592, -0.8720609906095917, 0.039540973685565875, 0.03954097368556591, 0.4440721014941254, 0.44407210149412546], [0.9817726051417123 -0.0829301614578129 … -0.0250847352629576 0.18472068125056407; -2.518946049441496e-13 0.9782637867811144 … -0.18300952472059998 -1.8430462810994285e-16; … ; -0.06653077962446537 0.005619843400880303 … -0.07529716412469631 0.5544783832695512; 1.7073846149996293e-14 -0.06629300112069732 … -0.5493419832745299 -3.1562189449184907e-17])"
      ]
     },
     "execution_count": 10,
     "metadata": {},
     "output_type": "execute_result"
    }
   ],
   "source": [
    "#With 1 iteration:\n",
    "E_ref = E_REF(V,2)\n",
    "E, Coeffs = Hartree(V,2;MaxIter=1)"
   ]
  },
  {
   "cell_type": "code",
   "execution_count": 11,
   "id": "c6adb892",
   "metadata": {},
   "outputs": [
    {
     "name": "stdout",
     "output_type": "stream",
     "text": [
      "[-4.629091237646914, -4.629091237646905, -0.2932127636291393, -0.2932127636291392, 0.829407045776663, 0.8294070457766632]\n",
      "Estimated energy: -14.49755768530524\n",
      "Resulting orbital coefficients: \n"
     ]
    },
    {
     "data": {
      "text/plain": [
       "6×6 Matrix{Float64}:\n",
       "  0.00436584   -0.996347     …  -0.0206539  0.0191299   0.0743638\n",
       " -0.996337      1.22697e-18     -0.0365513  0.0718611  -6.34934e-17\n",
       " -0.000347399   0.0792815       -0.382913   0.160216    0.62281\n",
       "  0.0792807     3.69864e-18     -0.677643   0.601849    6.98394e-17\n",
       " -0.00013905    0.0317333        0.308177   0.200352    0.778831\n",
       "  0.031733      8.92677e-19  …   0.545382   0.75262     3.17236e-17"
      ]
     },
     "metadata": {},
     "output_type": "display_data"
    },
    {
     "data": {
      "text/plain": [
       "([-4.629091237646914, -4.629091237646905, -0.2932127636291393, -0.2932127636291392, 0.829407045776663, 0.8294070457766632], [0.004365842636771906 -0.9963470524219687 … 0.01912986043116157 0.07436376260363164; -0.9963374871437971 1.226972308768641e-18 … 0.07186109954943329 -6.349337984685684e-17; … ; -0.00013905038577233266 0.03173326515147855 … 0.20035209585207653 0.7788313849281552; 0.031732960501098174 8.926774579065522e-19 … 0.7526203317987021 3.172356882726996e-17])"
      ]
     },
     "execution_count": 11,
     "metadata": {},
     "output_type": "execute_result"
    }
   ],
   "source": [
    "E_ref = E_REF(V_b,4)\n",
    "E, Coeffs = Hartree(V_b,4;MaxIter=1)"
   ]
  },
  {
   "cell_type": "markdown",
   "id": "17e25af2",
   "metadata": {},
   "source": [
    "<h2 style=\"font-family:Times New Roman; font-weight:bolder; font-size:240%\">Hartree Fock Iterations</h2>\n"
   ]
  },
  {
   "cell_type": "code",
   "execution_count": 12,
   "id": "77769aa5",
   "metadata": {},
   "outputs": [
    {
     "name": "stdout",
     "output_type": "stream",
     "text": [
      "Converged after: 14 iterations\n",
      "[-4.683456578084993, -4.683456250389173, -0.30205171642020656, -0.30205137838979346, 0.8160712808514983, 0.8160717156642857]\n",
      "Estimated energy: -14.505492064153664\n",
      "Resulting orbital coefficients: \n"
     ]
    },
    {
     "data": {
      "text/plain": [
       "6×6 Matrix{Float64}:\n",
       "  0.911617   -0.40238     0.0324857   0.0245025  -0.0676008  -0.0286067\n",
       "  0.40238     0.911617   -0.0245025   0.0324857  -0.0286067   0.0676008\n",
       " -0.0713397   0.0314887   0.616548    0.465035   -0.58065    -0.245715\n",
       " -0.0314887  -0.0713397  -0.465035    0.616549   -0.245714    0.58065\n",
       " -0.0283898   0.012531   -0.506164   -0.381776   -0.711618   -0.301136\n",
       " -0.012531   -0.0283898   0.381777   -0.506164   -0.301136    0.711617"
      ]
     },
     "metadata": {},
     "output_type": "display_data"
    },
    {
     "data": {
      "text/plain": [
       "([-4.683456578084993, -4.683456250389173, -0.30205171642020656, -0.30205137838979346, 0.8160712808514983, 0.8160717156642857], [0.9116174256680464 -0.4023801347965717 … -0.06760076054757284 -0.028606745558014818; 0.4023801350201445 0.9116174215833598 … -0.02860667608236567 0.06760080634757087; … ; -0.028389783865516535 0.012531015256312273 … -0.7116175566368068 -0.30113609738168345; -0.012531007414088566 -0.028389799805682448 … -0.3011358988541149 0.7116169791539706])"
      ]
     },
     "execution_count": 12,
     "metadata": {},
     "output_type": "execute_result"
    }
   ],
   "source": [
    "E_ref = E_REF(V_b,4)\n",
    "E, Coeffs = Hartree(V_b,4)"
   ]
  },
  {
   "cell_type": "code",
   "execution_count": 13,
   "id": "8c26fd51",
   "metadata": {},
   "outputs": [
    {
     "name": "stdout",
     "output_type": "stream",
     "text": [
      "Converged after: 16 iterations\n",
      "[-0.8884777156481427, -0.8884738033767091, 0.039383884941812754, 0.039383913461207586, 0.43949826125027347, 0.43949943246162526]\n",
      "Estimated energy: -2.831096327668796\n",
      "Resulting orbital coefficients: \n"
     ]
    },
    {
     "data": {
      "text/plain": [
       "6×6 Matrix{Float64}:\n",
       " -0.722445    0.663793    0.0352024   0.0323452  -0.138086  -0.126878\n",
       "  0.663794    0.722445   -0.0323444   0.0352031   0.126876  -0.138089\n",
       "  0.134013   -0.123135    0.410438    0.377116   -0.596503  -0.548075\n",
       " -0.123133   -0.134016   -0.377117    0.410438    0.548075  -0.596503\n",
       "  0.0484508  -0.0445179  -0.610357   -0.560805   -0.409086  -0.375874\n",
       " -0.0445173  -0.0484514   0.560805   -0.610357    0.375874  -0.409085"
      ]
     },
     "metadata": {},
     "output_type": "display_data"
    },
    {
     "data": {
      "text/plain": [
       "([-0.8884777156481427, -0.8884738033767091, 0.039383884941812754, 0.039383913461207586, 0.43949826125027347, 0.43949943246162526], [-0.7224454375006542 0.6637932047071253 … -0.13808617085606822 -0.1268777563806778; 0.6637936603519352 0.7224449416215455 … 0.12687555685913934 -0.13808856472083464; … ; 0.04845080783188707 -0.04451789802454927 … -0.40908587475492153 -0.3758735493922773; -0.044517326027166085 -0.04845143037275967 … 0.3758739766684106 -0.40908540970901774])"
      ]
     },
     "execution_count": 13,
     "metadata": {},
     "output_type": "execute_result"
    }
   ],
   "source": [
    "E_ref = E_REF(V,2)\n",
    "E, Coeffs = Hartree(V,2)"
   ]
  }
 ],
 "metadata": {
  "@webio": {
   "lastCommId": null,
   "lastKernelId": null
  },
  "kernelspec": {
   "display_name": "Julia 1.8.5",
   "language": "julia",
   "name": "julia-1.8"
  },
  "language_info": {
   "file_extension": ".jl",
   "mimetype": "application/julia",
   "name": "julia",
   "version": "1.8.5"
  }
 },
 "nbformat": 4,
 "nbformat_minor": 5
}
