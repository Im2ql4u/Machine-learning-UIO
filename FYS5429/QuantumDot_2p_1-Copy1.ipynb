{
 "cells": [
  {
   "cell_type": "markdown",
   "id": "bbd18942-c317-4c29-8984-7113596fb224",
   "metadata": {},
   "source": [
    "<h1 style=\"font-family:Times New Roman; font-size: 300%\"><center>FYS5429 Spring 2025 </center></h1>\n",
    "<h2 style=\"font-family:Times New Roman; font-weight:bolder; font-size:240%\">2-Dimensional Quantum dots</h2>\n",
    "\n",
    "<p style=\"font-family:Times New Roman; font-size:120%\">    \n",
    "   We first import packages, define notebook parameters and define functions\n",
    "</p>"
   ]
  },
  {
   "cell_type": "code",
   "execution_count": 1,
   "id": "88dab50b-7640-4179-bd34-daf2472d3b7e",
   "metadata": {},
   "outputs": [],
   "source": [
    "import numpy as np\n",
    "import math\n",
    "from math import factorial, sqrt, pi\n",
    "from scipy.integrate import simps\n",
    "import torch\n",
    "import functorch\n",
    "import torch.nn as nn\n",
    "import torch.optim as optim\n",
    "import matplotlib.pyplot as plt\n",
    "import sys\n",
    "import os\n",
    "src_path = os.path.abspath(\"src\")\n",
    "if src_path not in sys.path:\n",
    "    sys.path.insert(0, src_path)\n",
    "    \n",
    "from Config import PARAMS"
   ]
  },
  {
   "cell_type": "code",
   "execution_count": 2,
   "id": "0d123a76-6d34-42c4-8b19-d51735a9c0ac",
   "metadata": {},
   "outputs": [],
   "source": [
    "PARAMS[\"n_particles\"] = 2\n",
    "PARAMS[\"omega\"] = 0.5\n",
    "PARAMS[\"nx\"] = 1\n",
    "PARAMS[\"nx\"] = 1\n",
    "PARAMS[\"E\"] = 1.65977\n",
    "PARAMS[\"n_epochs\"] = 5000\n",
    "PARAMS[\"N_collocation\"] = 1000\n",
    "PARAMS[\"L\"]=3\n",
    "PARAMS[\"L_E\"]=4"
   ]
  },
  {
   "cell_type": "code",
   "execution_count": 3,
   "id": "9c1cc07b-16e3-453f-9b48-04ea8ce52a24",
   "metadata": {},
   "outputs": [],
   "source": [
    "from master_functions import *\n",
    "from PINN import PINN\n",
    "torch.set_num_threads(1)\n",
    "locals().update(PARAMS)"
   ]
  },
  {
   "cell_type": "markdown",
   "id": "91032034-3f4e-4850-a984-f6d06f278755",
   "metadata": {},
   "source": [
    "<h2 style=\"font-family:Times New Roman; font-weight:bolder; font-size:240%\">Initializing Slater determinant</h2>\n",
    "\n",
    "<p style=\"font-family:Times New Roman; font-size:120%\">    \n",
    "   We do not include any interaction or correlation in our slater determinant, and therefore only fill up the quantum states according to Pauli's exclusion principle.\n",
    "</p>"
   ]
  },
  {
   "cell_type": "code",
   "execution_count": 4,
   "id": "0f82703c-9ea8-47c9-8112-512d3e89fb6c",
   "metadata": {},
   "outputs": [
    {
     "name": "stdout",
     "output_type": "stream",
     "text": [
      "2D Basis: n_points = 900, n_basis = 1\n",
      "Computing one-electron integrals (Hcore)...\n",
      "One-electron integrals computed.\n",
      "Building 2D Gaussian interaction matrix...\n",
      "Computing two-electron integrals...\n",
      "Computing integrals for basis p=0\n",
      "Two-electron integrals computed.\n",
      "Starting closed-shell Hartree-Fock iterations...\n",
      "Iteration 0: ΔD = 0.000e+00\n",
      "Final HF Energy = 1.006685\n",
      "Occupied Orbital Energies: [0.50334243]\n"
     ]
    },
    {
     "data": {
      "text/plain": [
       "tensor([[1.]])"
      ]
     },
     "execution_count": 4,
     "metadata": {},
     "output_type": "execute_result"
    }
   ],
   "source": [
    "xgrid = np.linspace(-L, L, n_grid)\n",
    "ygrid = np.linspace(-L, L, n_grid)\n",
    "n_electrons = n_particles      # Two electrons, occupying the same spatial orbital (opposite spins)\n",
    "\n",
    "# 1) Build the 2D harmonic oscillator basis\n",
    "basis_2d = initialize_harmonic_basis_2d(nx, ny, xgrid, ygrid,omega)\n",
    "n_basis = basis_2d.shape[1]\n",
    "print(f\"2D Basis: n_points = {basis_2d.shape[0]}, n_basis = {n_basis}\")\n",
    "\n",
    "# 2) Compute one-electron integrals in 2D\n",
    "print(\"Computing one-electron integrals (Hcore)...\")\n",
    "Hcore_2d = one_electron_integral_2d(basis_2d, xgrid, ygrid,omega)\n",
    "print(\"One-electron integrals computed.\")\n",
    "\n",
    "# 3) Build the 2D Gaussian interaction potential\n",
    "V_SD = 0.0     # Interaction strength\n",
    "sigma = 0.5  # Gaussian width\n",
    "print(\"Building 2D Gaussian interaction matrix...\")\n",
    "V_interaction_2d = gaussian_interaction_potential_2d(xgrid, ygrid, V_SD, sigma)\n",
    "\n",
    "# 4) Compute two-electron integrals in 2D\n",
    "print(\"Computing two-electron integrals...\")\n",
    "two_body_2d = compute_two_body_integrals_2d(basis_2d, V_interaction_2d, xgrid, ygrid)\n",
    "print(\"Two-electron integrals computed.\")\n",
    "\n",
    "# 5) Run closed-shell Hartree-Fock for 2 electrons in the ground state\n",
    "print(\"Starting closed-shell Hartree-Fock iterations...\")\n",
    "C_occ, orbital_energies = hartree_fock_2d(n_electrons, basis_2d, xgrid, ygrid,\n",
    "                                          Hcore_2d, two_body_2d)\n",
    "print(\"Occupied Orbital Energies:\", orbital_energies)\n",
    "C_occ = torch.Tensor(C_occ)\n",
    "C_occ"
   ]
  },
  {
   "cell_type": "markdown",
   "id": "a26a736b-5e16-42f2-ad11-a843e5dab03f",
   "metadata": {},
   "source": [
    "<h2 style=\"font-family:Times New Roman; font-weight:bolder; font-size:240%\">Initializing and training PINN</h2>\n",
    "\n",
    "<p style=\"font-family:Times New Roman; font-size:120%\">    \n",
    "   We are now ready to train our PINN, with an initialized Slater determinant and notebook parameters\n",
    "</p>"
   ]
  },
  {
   "cell_type": "code",
   "execution_count": 32,
   "id": "3c326cd6-483a-494a-9dd9-ab947283a22f",
   "metadata": {
    "scrolled": true
   },
   "outputs": [],
   "source": [
    "f_net = PINN(n_particles=n_particles, d=d, hidden_dim=hidden_dim, n_layers=3, act=nn.GELU(),init='custom').to(device) #3 hidden layers"
   ]
  },
  {
   "cell_type": "code",
   "execution_count": 33,
   "id": "080ed8d2-bf17-4687-a992-7ff2f31f9c2f",
   "metadata": {
    "scrolled": true
   },
   "outputs": [
    {
     "name": "stdout",
     "output_type": "stream",
     "text": [
      "Epoch 00000: PDE Loss = 3.437e-03,Norm = 1.861e+00,  Variance = 1.624e+00\n",
      "Epoch 00050: PDE Loss = 2.740e-05,Norm = 1.341e+00,  Variance = 3.910e-02\n",
      "Epoch 00100: PDE Loss = 1.205e-06,Norm = 1.062e+00,  Variance = 8.260e-03\n",
      "Epoch 00150: PDE Loss = 4.336e-04,Norm = 1.492e+00,  Variance = 2.130e+00\n",
      "Epoch 00200: PDE Loss = 1.386e-05,Norm = 9.335e-01,  Variance = 2.406e-02\n",
      "Epoch 00250: PDE Loss = 4.782e-06,Norm = 9.792e-01,  Variance = 1.066e-02\n",
      "Epoch 00300: PDE Loss = 1.768e-06,Norm = 1.021e+00,  Variance = 5.493e-03\n",
      "Epoch 00350: PDE Loss = 7.368e-05,Norm = 9.995e-01,  Variance = 2.161e-01\n",
      "Epoch 00400: PDE Loss = 1.207e-06,Norm = 1.018e+00,  Variance = 3.976e-03\n",
      "Epoch 00450: PDE Loss = 8.945e-07,Norm = 1.007e+00,  Variance = 3.138e-03\n",
      "Epoch 00500: PDE Loss = 5.249e-07,Norm = 1.023e+00,  Variance = 2.796e-03\n"
     ]
    },
    {
     "ename": "KeyboardInterrupt",
     "evalue": "",
     "output_type": "error",
     "traceback": [
      "\u001b[0;31m---------------------------------------------------------------------------\u001b[0m",
      "\u001b[0;31mKeyboardInterrupt\u001b[0m                         Traceback (most recent call last)",
      "\u001b[0;32m/var/folders/22/r_0rd109347dhcsf5w9p2y3w0000gn/T/ipykernel_19372/2215556368.py\u001b[0m in \u001b[0;36m<module>\u001b[0;34m\u001b[0m\n\u001b[1;32m      1\u001b[0m \u001b[0moptimizer\u001b[0m \u001b[0;34m=\u001b[0m \u001b[0moptim\u001b[0m\u001b[0;34m.\u001b[0m\u001b[0mAdam\u001b[0m\u001b[0;34m(\u001b[0m\u001b[0mf_net\u001b[0m\u001b[0;34m.\u001b[0m\u001b[0mparameters\u001b[0m\u001b[0;34m(\u001b[0m\u001b[0;34m)\u001b[0m\u001b[0;34m,\u001b[0m \u001b[0mlr\u001b[0m\u001b[0;34m=\u001b[0m\u001b[0;36m1e-3\u001b[0m\u001b[0;34m)\u001b[0m\u001b[0;34m\u001b[0m\u001b[0;34m\u001b[0m\u001b[0m\n\u001b[0;32m----> 2\u001b[0;31m \u001b[0mf_net\u001b[0m\u001b[0;34m,\u001b[0m \u001b[0m_\u001b[0m \u001b[0;34m=\u001b[0m \u001b[0mtrain_model\u001b[0m\u001b[0;34m(\u001b[0m\u001b[0mV\u001b[0m\u001b[0;34m,\u001b[0m \u001b[0mE\u001b[0m\u001b[0;34m,\u001b[0m \u001b[0mf_net\u001b[0m\u001b[0;34m,\u001b[0m \u001b[0moptimizer\u001b[0m\u001b[0;34m,\u001b[0m\u001b[0mC_occ\u001b[0m\u001b[0;34m,\u001b[0m\u001b[0mstd\u001b[0m\u001b[0;34m=\u001b[0m\u001b[0;36m1.3\u001b[0m\u001b[0;34m,\u001b[0m\u001b[0mfactor\u001b[0m\u001b[0;34m=\u001b[0m\u001b[0;36m0.0\u001b[0m\u001b[0;34m)\u001b[0m \u001b[0;31m#Training with weak normalization term\u001b[0m\u001b[0;34m\u001b[0m\u001b[0;34m\u001b[0m\u001b[0m\n\u001b[0m",
      "\u001b[0;32m~/Masters_Thesis/src/utils.py\u001b[0m in \u001b[0;36mwrapper\u001b[0;34m(*args, **kwargs)\u001b[0m\n\u001b[1;32m     12\u001b[0m         \u001b[0;32mif\u001b[0m \u001b[0;34m'params'\u001b[0m \u001b[0;32mnot\u001b[0m \u001b[0;32min\u001b[0m \u001b[0mkwargs\u001b[0m\u001b[0;34m:\u001b[0m\u001b[0;34m\u001b[0m\u001b[0;34m\u001b[0m\u001b[0m\n\u001b[1;32m     13\u001b[0m             \u001b[0mkwargs\u001b[0m\u001b[0;34m[\u001b[0m\u001b[0;34m'params'\u001b[0m\u001b[0;34m]\u001b[0m \u001b[0;34m=\u001b[0m \u001b[0mPARAMS\u001b[0m\u001b[0;34m\u001b[0m\u001b[0;34m\u001b[0m\u001b[0m\n\u001b[0;32m---> 14\u001b[0;31m         \u001b[0;32mreturn\u001b[0m \u001b[0mfunc\u001b[0m\u001b[0;34m(\u001b[0m\u001b[0;34m*\u001b[0m\u001b[0margs\u001b[0m\u001b[0;34m,\u001b[0m \u001b[0;34m**\u001b[0m\u001b[0mkwargs\u001b[0m\u001b[0;34m)\u001b[0m\u001b[0;34m\u001b[0m\u001b[0;34m\u001b[0m\u001b[0m\n\u001b[0m\u001b[1;32m     15\u001b[0m     \u001b[0;32mreturn\u001b[0m \u001b[0mwrapper\u001b[0m\u001b[0;34m\u001b[0m\u001b[0;34m\u001b[0m\u001b[0m\n",
      "\u001b[0;32m~/Masters_Thesis/src/master_functions/Neural_Networks.py\u001b[0m in \u001b[0;36mtrain_model\u001b[0;34m(V, E, f_net, optimizer, C_occ, std, factor, params, print_e)\u001b[0m\n\u001b[1;32m    130\u001b[0m         \u001b[0mloss_norm\u001b[0m \u001b[0;34m=\u001b[0m \u001b[0mfactor\u001b[0m\u001b[0;34m*\u001b[0m\u001b[0;34m(\u001b[0m\u001b[0mnorm\u001b[0m\u001b[0;34m-\u001b[0m\u001b[0;36m1\u001b[0m\u001b[0;34m)\u001b[0m\u001b[0;34m**\u001b[0m\u001b[0;36m2\u001b[0m\u001b[0;34m\u001b[0m\u001b[0;34m\u001b[0m\u001b[0m\n\u001b[1;32m    131\u001b[0m         \u001b[0mloss\u001b[0m \u001b[0;34m=\u001b[0m \u001b[0mloss_pde\u001b[0m \u001b[0;34m+\u001b[0m\u001b[0mloss_norm\u001b[0m\u001b[0;34m\u001b[0m\u001b[0;34m\u001b[0m\u001b[0m\n\u001b[0;32m--> 132\u001b[0;31m         \u001b[0mloss\u001b[0m\u001b[0;34m.\u001b[0m\u001b[0mbackward\u001b[0m\u001b[0;34m(\u001b[0m\u001b[0;34m)\u001b[0m\u001b[0;34m\u001b[0m\u001b[0;34m\u001b[0m\u001b[0m\n\u001b[0m\u001b[1;32m    133\u001b[0m         \u001b[0moptimizer\u001b[0m\u001b[0;34m.\u001b[0m\u001b[0mstep\u001b[0m\u001b[0;34m(\u001b[0m\u001b[0;34m)\u001b[0m\u001b[0;34m\u001b[0m\u001b[0;34m\u001b[0m\u001b[0m\n\u001b[1;32m    134\u001b[0m         \u001b[0;32mif\u001b[0m \u001b[0mepoch\u001b[0m \u001b[0;34m%\u001b[0m \u001b[0mprint_e\u001b[0m \u001b[0;34m==\u001b[0m \u001b[0;36m0\u001b[0m\u001b[0;34m:\u001b[0m\u001b[0;34m\u001b[0m\u001b[0;34m\u001b[0m\u001b[0m\n",
      "\u001b[0;32m/opt/anaconda3/lib/python3.9/site-packages/torch/_tensor.py\u001b[0m in \u001b[0;36mbackward\u001b[0;34m(self, gradient, retain_graph, create_graph, inputs)\u001b[0m\n\u001b[1;32m    490\u001b[0m                 \u001b[0minputs\u001b[0m\u001b[0;34m=\u001b[0m\u001b[0minputs\u001b[0m\u001b[0;34m,\u001b[0m\u001b[0;34m\u001b[0m\u001b[0;34m\u001b[0m\u001b[0m\n\u001b[1;32m    491\u001b[0m             )\n\u001b[0;32m--> 492\u001b[0;31m         torch.autograd.backward(\n\u001b[0m\u001b[1;32m    493\u001b[0m             \u001b[0mself\u001b[0m\u001b[0;34m,\u001b[0m \u001b[0mgradient\u001b[0m\u001b[0;34m,\u001b[0m \u001b[0mretain_graph\u001b[0m\u001b[0;34m,\u001b[0m \u001b[0mcreate_graph\u001b[0m\u001b[0;34m,\u001b[0m \u001b[0minputs\u001b[0m\u001b[0;34m=\u001b[0m\u001b[0minputs\u001b[0m\u001b[0;34m\u001b[0m\u001b[0;34m\u001b[0m\u001b[0m\n\u001b[1;32m    494\u001b[0m         )\n",
      "\u001b[0;32m/opt/anaconda3/lib/python3.9/site-packages/torch/autograd/__init__.py\u001b[0m in \u001b[0;36mbackward\u001b[0;34m(tensors, grad_tensors, retain_graph, create_graph, grad_variables, inputs)\u001b[0m\n\u001b[1;32m    249\u001b[0m     \u001b[0;31m# some Python versions print out the first line of a multi-line function\u001b[0m\u001b[0;34m\u001b[0m\u001b[0;34m\u001b[0m\u001b[0m\n\u001b[1;32m    250\u001b[0m     \u001b[0;31m# calls in the traceback and some print out the last line\u001b[0m\u001b[0;34m\u001b[0m\u001b[0;34m\u001b[0m\u001b[0m\n\u001b[0;32m--> 251\u001b[0;31m     Variable._execution_engine.run_backward(  # Calls into the C++ engine to run the backward pass\n\u001b[0m\u001b[1;32m    252\u001b[0m         \u001b[0mtensors\u001b[0m\u001b[0;34m,\u001b[0m\u001b[0;34m\u001b[0m\u001b[0;34m\u001b[0m\u001b[0m\n\u001b[1;32m    253\u001b[0m         \u001b[0mgrad_tensors_\u001b[0m\u001b[0;34m,\u001b[0m\u001b[0;34m\u001b[0m\u001b[0;34m\u001b[0m\u001b[0m\n",
      "\u001b[0;31mKeyboardInterrupt\u001b[0m: "
     ]
    }
   ],
   "source": [
    "optimizer = optim.Adam(f_net.parameters(), lr=1e-3)\n",
    "f_net, _ = train_model(V, E, f_net, optimizer,C_occ,std=1.3,factor=0.0) #Training with weak normalization term"
   ]
  },
  {
   "cell_type": "code",
   "execution_count": 20,
   "id": "0028a193-d809-4935-adba-31d8eeab3e6f",
   "metadata": {},
   "outputs": [
    {
     "name": "stdout",
     "output_type": "stream",
     "text": [
      "Model weights saved to 2p_0.5.pth\n"
     ]
    }
   ],
   "source": [
    "# Assume `model` is your nn.Module\n",
    "save_path = \"2p_0.5.pth\"\n",
    "torch.save(f_net.state_dict(), save_path)\n",
    "print(f\"Model weights saved to {save_path}\")\n"
   ]
  },
  {
   "cell_type": "markdown",
   "id": "2a228862-27cc-4792-8e3f-43ed45e91a30",
   "metadata": {},
   "source": [
    "<h2 style=\"font-family:Times New Roman; font-weight:bolder; font-size:240%\">Validating results</h2>\n",
    "\n",
    "<p style=\"font-family:Times New Roman; font-size:120%\">    \n",
    "   We are now ready to plot the final results and calculate the corresponding energy\n",
    "</p>"
   ]
  },
  {
   "cell_type": "code",
   "execution_count": 34,
   "id": "01a2341e-055a-4dca-8db8-a59052616faa",
   "metadata": {},
   "outputs": [],
   "source": [
    "def construct_grid_configurations(n_particles, dims, Ngrid, L, device=\"cpu\"):\n",
    "    \"\"\"\n",
    "    Constructs configurations on a 2D grid for a system with n_particles (each with dims=2),\n",
    "    where the first electron's position is varied over a grid on [-L,L]^2 and all\n",
    "    the remaining electrons are fixed at (0, 0).\n",
    "    \n",
    "    Args:\n",
    "        n_particles (int): Total number of electrons.\n",
    "        dims (int): Dimension per electron (should be 2).\n",
    "        Ngrid (int): Number of grid points per coordinate.\n",
    "        L (float): Range for the grid (each coordinate in [-L,L]).\n",
    "        device (str): Device to use.\n",
    "    \n",
    "    Returns:\n",
    "        x_configs (torch.Tensor): Tensor of shape (Ngrid*Ngrid, n_particles, dims).\n",
    "        X (np.ndarray), Y (np.ndarray): Meshgrid arrays for electron 0's x and y coordinates (bin edges).\n",
    "    \"\"\"\n",
    "    assert dims == 2, \"This function is designed for a 2D system (dims must be 2).\"\n",
    "    \n",
    "    # Create a 1D grid for electron 0's x and y coordinates.\n",
    "    x_vals = torch.linspace(-L, L, Ngrid, device=device)\n",
    "    y_vals = torch.linspace(-L, L, Ngrid, device=device)\n",
    "    # Meshgrid over electron 0's coordinates.\n",
    "    X, Y = torch.meshgrid(x_vals, y_vals, indexing='ij')  # Each of shape (Ngrid, Ngrid)\n",
    "    \n",
    "    # Flatten to get a list of positions for electron 0: shape (Ngrid*Ngrid, 2)\n",
    "    e0_coords = torch.stack([X.reshape(-1), Y.reshape(-1)], dim=-1)  # (Ngrid*Ngrid, 2)\n",
    "    \n",
    "    # For the remaining electrons, fix them at (0,0) (or any reference point you choose).\n",
    "    fixed_pos = torch.zeros(n_particles - 1, dims, device=device)  # shape: (n_particles-1, 2)\n",
    "    \n",
    "    # Repeat e0_coords for each grid point: we want shape (Ngrid*Ngrid, n_particles, 2)\n",
    "    # The first electron gets e0_coords, and the others get fixed_pos.\n",
    "    N_total = e0_coords.shape[0]\n",
    "    # Expand e0_coords to shape (N_total, 1, 2)\n",
    "    e0_coords_expanded = e0_coords.unsqueeze(1)\n",
    "    # Expand fixed_pos to shape (1, n_particles-1, 2) and then repeat for each grid point.\n",
    "    others_expanded = fixed_pos.unsqueeze(0).expand(N_total, -1, -1)\n",
    "    \n",
    "    # Concatenate along the particle dimension.\n",
    "    x_configs = torch.cat([e0_coords_expanded, others_expanded], dim=1)\n",
    "    # x_configs shape: (Ngrid*Ngrid, n_particles, 2)\n",
    "    return x_configs, X.detach().cpu().numpy(), Y.detach().cpu().numpy()\n",
    "\n",
    "def plot_wavefunction_heatmap(psi_fn, n_particles, Ngrid, L, device=\"cpu\"):\n",
    "    \"\"\"\n",
    "    Evaluate psi_fn on a grid and plot |Ψ|^2 as a heatmap.\n",
    "    \n",
    "    Here, psi_fn is expected to take input x of shape (Ngrid*Ngrid, n_particles, dims)\n",
    "    and return a tensor of shape (Ngrid*Ngrid, 1). The plot is made with respect to the\n",
    "    x-y coordinates of electron 0.\n",
    "    \n",
    "    Args:\n",
    "        psi_fn (callable): Function computing Ψ(x) for x of shape (batch, n_particles, 2).\n",
    "        n_particles (int): Total number of electrons.\n",
    "        Ngrid (int): Number of grid points per coordinate.\n",
    "        L (float): Range for the grid (each coordinate in [-L,L]).\n",
    "        device (str): Device.\n",
    "    \"\"\"\n",
    "    # Construct configurations on the grid.\n",
    "    x_configs, X, Y = construct_grid_configurations(n_particles, 2, Ngrid, L, device)\n",
    "    # Evaluate wavefunction.\n",
    "    psi_vals = psi_fn(f_net, x_configs, C_occ).detach()  # shape: (Ngrid*Ngrid, 1)\n",
    "    density = psi_vals.abs() ** 2  # (Ngrid*Ngrid, 1)\n",
    "    \n",
    "    # Reshape density into a 2D array for electron 0's grid.\n",
    "    density_grid = density.view(Ngrid, Ngrid).cpu().numpy()\n",
    "    \n",
    "    # Plot the heatmap.\n",
    "    plt.figure(figsize=(12,9))\n",
    "    plt.pcolormesh(X, Y, density_grid, cmap=thesis_viridial)\n",
    "    plt.xlabel(\"x coordinate (electron 0)\")\n",
    "    plt.ylabel(\"y coordinate (electron 0)\")\n",
    "    plt.title(\"Wavefunction Density Heatmap\")\n",
    "    plt.colorbar(label=\"|Ψ(x)|²\")\n",
    "    plt.show()"
   ]
  },
  {
   "cell_type": "code",
   "execution_count": 35,
   "id": "6720c2a6-7e96-4c64-a7ad-c6969f197f3e",
   "metadata": {},
   "outputs": [
    {
     "data": {
      "image/png": "[encoded data removed]",
      "text/plain": [
       "<Figure size 1200x900 with 2 Axes>"
      ]
     },
     "metadata": {},
     "output_type": "display_data"
    }
   ],
   "source": [
    "from matplotlib.colors import LinearSegmentedColormap\n",
    "thesis_viridial = LinearSegmentedColormap.from_list(\"thesis_viridial\", [\n",
    "    \"#2e003e\",  # deep violet\n",
    "    \"#3b9c9c\",  # dusty teal\n",
    "    \"#f7f4f2\",  # ivory white\n",
    "], N=256)\n",
    "\n",
    "# --- Example usage ---\n",
    "if __name__ == '__main__':\n",
    "    device = \"cpu\"\n",
    "    n_particles = 2   # e.g., for a two-electron system\n",
    "    Ngrid = 80        # Grid resolution per coordinate.\n",
    "    L = 3.5           # Grid ranges: [-3, 3] for x and y.\n",
    "    \n",
    "    plot_wavefunction_heatmap(psi_fn, n_particles, Ngrid, L, device)\n"
   ]
  },
  {
   "cell_type": "code",
   "execution_count": 36,
   "id": "0024a8fd-5b21-4e0e-934e-a8a429fa1990",
   "metadata": {},
   "outputs": [],
   "source": [
    "_idx_i, _idx_j = torch.triu_indices(n_particles, n_particles, offset=1)\n",
    "_idx_i=_idx_i.to(\"cpu\")\n",
    "_idx_j=_idx_j.to(\"cpu\")\n",
    "\n",
    "def compute_coulomb(x, V_val=1.0):\n",
    "    \"\"\"\n",
    "    x: Tensor of shape (batch, n_particles, dim)\n",
    "    V_val: scalar prefactor\n",
    "    returns: Tensor of shape (batch,) giving \\sum_{i<j} V_val / |x_i - x_j|\n",
    "    \"\"\"\n",
    "    # Gather the i,j coordinates: each is (batch, npairs, dim)\n",
    "    xi = x[:,_idx_i, :]  \n",
    "    xj = x[:,_idx_j, :]\n",
    "\n",
    "    # Compute pairwise distances (batch, npairs)\n",
    "    #rij = (xi - xj).norm(dim=-1).clamp_min(1e-7)\n",
    "    rij = torch.norm(xi - xj,dim=-1) + 1e-20\n",
    "    # Sum V_val / r over all unique pairs\n",
    "    return (V_val / rij).sum()\n",
    "    \n",
    "def compute_laplacian_fast(psi_fn, f_net, x, C_occ):\n",
    "    \"\"\"\n",
    "    Exact Laplacian via nested torch.autograd.grad calls.\n",
    "\n",
    "    Args:\n",
    "      psi_fn : callable(f_net, x_batch, C_occ, nx, ny) -> psi of shape (batch,)\n",
    "      f_net  : your neural network\n",
    "      x      : Tensor (batch, n_particles, d) with requires_grad=True\n",
    "      C_occ, nx, ny : parameters for slater_determinant_closed_shell\n",
    "\n",
    "    Returns:\n",
    "      lap : Tensor of shape (batch, 1), containing ∇²ψ for each sample.\n",
    "    \"\"\"\n",
    "    # ensure we have a fresh graph on x\n",
    "    x = x.requires_grad_(True)\n",
    "    batch, n, d = x.shape\n",
    "\n",
    "    # 1) compute psi (batch,)\n",
    "    Psi = psi_fn(f_net, x, C_occ)\n",
    "    psi=Psi#.squeeze()\n",
    "    # 2) first derivatives ∂ψ/∂x  -> shape (batch, n, d)\n",
    "    grads = torch.autograd.grad(\n",
    "        psi.sum(), x, create_graph=True\n",
    "    )[0]\n",
    "\n",
    "    # 3) accumulate second derivatives per coordinate\n",
    "    lap = torch.zeros(batch, device=x.device)\n",
    "    for i in range(n):\n",
    "        for j in range(d):\n",
    "            # sum over batch to get scalar for this coordinate\n",
    "            g_ij = grads[:, i, j].sum()\n",
    "            # second derivative ∂²ψ/∂x_{i,j}²\n",
    "            second = torch.autograd.grad(\n",
    "                g_ij, x, create_graph=True\n",
    "            )[0]\n",
    "            # add the diagonal piece\n",
    "            lap = lap + second[:, i, j]\n",
    "\n",
    "    return Psi, lap.unsqueeze(1)  # shape (batch,1)\n",
    "import torch\n",
    "from torch.func import jacfwd, jacrev\n",
    "from tqdm import tqdm\n",
    "\n",
    "def blocking_error(data: torch.Tensor) -> float:\n",
    "    \"\"\"\n",
    "    Estimate the standard error of the mean via recursive blocking.\n",
    "    data: 1D tensor of length N (the sampled energies).\n",
    "    Returns: estimated standard error (a Python float).\n",
    "    \"\"\"\n",
    "    x = data.clone().detach().double().cpu().numpy()\n",
    "\n",
    "    N = x.size\n",
    "    if N < 2:\n",
    "        return 0.0\n",
    "\n",
    "    variances = []\n",
    "    \n",
    "    while N > 1:\n",
    "        var = np.var(x, ddof=1) / N  # variance of mean estimate\n",
    "        variances.append(var)\n",
    "\n",
    "        N = N // 2\n",
    "        # Apply blocking by averaging adjacent pairs\n",
    "        x = 0.5 * (x[0:2*N:2] + x[1:2*N:2])  # length now N\n",
    "    \n",
    "    # Return square root of the final variance estimate\n",
    "    return float(np.sqrt(variances[-1]))\n",
    "\n",
    "class PINNSampler:\n",
    "    def __init__(self, f_net, psi_fn, N, d, omega=1.0, step_size=0.5, C_occ=C_occ):\n",
    "        \"\"\"\n",
    "        f_net: neural net model\n",
    "        psi_fn: function f(f_net, x, C_occ) -> psi(x)\n",
    "        N: number of particles\n",
    "        d: dimension per particle\n",
    "        omega: harmonic oscillator frequency\n",
    "        step_size: Metropolis step size\n",
    "        C_occ: orbital coefficient matrix (torch.Tensor)\n",
    "        \"\"\"\n",
    "        self.f_net = f_net\n",
    "        self.psi_fn = psi_fn\n",
    "        self.N = N\n",
    "        self.d = d\n",
    "        self.omega = omega\n",
    "        self.step_size = step_size\n",
    "\n",
    "        # Device and dtype from network\n",
    "        param = next(f_net.parameters())\n",
    "        #param.device=\"cpu\"\n",
    "        self.device = \"cpu\"#param.device\n",
    "        self.dtype = param.dtype\n",
    "        self.f_net.eval()\n",
    "        self.f_net.to(self.device)\n",
    "        for p in self.f_net.parameters():\n",
    "            p.requires_grad_(False)\n",
    "\n",
    "        # Ensure C_occ is correct\n",
    "        assert C_occ is not None, \"C_occ must be provided\"\n",
    "        if C_occ.device != self.device or C_occ.dtype != self.dtype:\n",
    "            self.C_occ = C_occ.to(device=self.device, dtype=self.dtype)\n",
    "        else:\n",
    "            self.C_occ = C_occ\n",
    "\n",
    "    def propose(self, x, ψ_old):\n",
    "        \"\"\"Propose a new configuration for a single particle.\"\"\"\n",
    "        x_prop = x.clone()\n",
    "        i = torch.randint(self.N, (1,), device=x.device).item()\n",
    "        move = torch.randn(self.d, dtype=self.dtype, device=self.device) * self.step_size\n",
    "        x_prop[i] += move\n",
    "\n",
    "        ψ_new = self.psi_fn(self.f_net.eval(), x_prop.unsqueeze(0), self.C_occ)  # shape: (1,1)\n",
    "        ratio = (ψ_new / ψ_old).square()\n",
    "\n",
    "        accept = torch.rand(1, device=x.device) < ratio\n",
    "        return (x_prop if accept else x), (ψ_new if accept else ψ_old), accept.item()\n",
    "\n",
    "    def local_energy(self, x):\n",
    "        \"\"\"Compute local energy E_L = -½ ∇²ψ/ψ + V_harm + V_int\"\"\"\n",
    "        xb = x.unsqueeze(0)\n",
    "        ψ, lap = compute_laplacian_fast(self.psi_fn, self.f_net.eval(), xb, self.C_occ)\n",
    "\n",
    "        # Avoid .item() in tight loop\n",
    "        kinetic = (-0.5 * lap / ψ).squeeze()\n",
    "        V_harm = 0.5 * self.omega**2 * (x**2).sum()\n",
    "        V_int = compute_coulomb(xb)  # this returns scalar\n",
    "\n",
    "        return (kinetic + V_harm + V_int).detach()\n",
    "\n",
    "    def sample(self, n_samples, n_burnin=100):\n",
    "        \"\"\"Run Metropolis-Hastings sampling with proper caching.\"\"\"\n",
    "        self.f_net.zero_grad(set_to_none=True)\n",
    "        f_net.to(torch.float).eval()\n",
    "        # Initial walker\n",
    "        x = 0.1 * torch.randn((self.N, self.d), dtype=self.dtype, device=self.device)\n",
    "        ψ_old = self.psi_fn(self.f_net.eval(), x.unsqueeze(0), self.C_occ)\n",
    "        accepted = 0\n",
    "        energies = []\n",
    "\n",
    "        # Burn-in\n",
    "        for _ in tqdm(range(n_burnin), desc=\"Burn-in\"):\n",
    "            x, ψ_old, _ = self.propose(x, ψ_old)\n",
    "\n",
    "        # Sampling\n",
    "        for _ in tqdm(range(n_samples), desc=\"Sampling\"):\n",
    "            x, ψ_old, acc = self.propose(x, ψ_old)\n",
    "            accepted += acc\n",
    "            E = self.local_energy(x)\n",
    "            energies.append(E)\n",
    "        \n",
    "        energies = torch.stack(energies).double().cpu()\n",
    "        acc_rate = accepted / n_samples\n",
    "        err = blocking_error(energies)\n",
    "\n",
    "        return energies, acc_rate, err\n"
   ]
  },
  {
   "cell_type": "code",
   "execution_count": 37,
   "id": "cf52a60b-b8d2-44b1-a115-17b862c053a4",
   "metadata": {},
   "outputs": [
    {
     "name": "stderr",
     "output_type": "stream",
     "text": [
      "Burn-in: 100%|██████████████████████████████| 400/400 [00:00<00:00, 2094.81it/s]\n",
      "Sampling: 100%|██████████████████████████| 10000/10000 [01:33<00:00, 107.07it/s]"
     ]
    },
    {
     "name": "stdout",
     "output_type": "stream",
     "text": [
      "⟨E_loc⟩ = 1.657326 ± 0.000416\n",
      "Acceptance rate = 0.79\n"
     ]
    },
    {
     "name": "stderr",
     "output_type": "stream",
     "text": [
      "\n"
     ]
    }
   ],
   "source": [
    "f_net.to(\"cpu\")\n",
    "f_net.to(torch.float).eval()\n",
    "\n",
    "sampler = PINNSampler(f_net, psi_fn, N=2, d=2, omega=0.5, step_size=0.5)\n",
    "\n",
    "# Draw 500 samples after 200 burn-in steps\n",
    "energies, acc_rate, err = sampler.sample(n_samples=10000, n_burnin=400)\n",
    "\n",
    "print(f\"⟨E_loc⟩ = {energies.mean().item():.6f} ± {err:.6f}\")\n",
    "print(f\"Acceptance rate = {acc_rate:.2f}\")\n"
   ]
  }
 ],
 "metadata": {
  "kernelspec": {
   "display_name": "Python 3 (ipykernel)",
   "language": "python",
   "name": "python3"
  },
  "language_info": {
   "codemirror_mode": {
    "name": "ipython",
    "version": 3
   },
   "file_extension": ".py",
   "mimetype": "text/x-python",
   "name": "python",
   "nbconvert_exporter": "python",
   "pygments_lexer": "ipython3",
   "version": "3.9.13"
  }
 },
 "nbformat": 4,
 "nbformat_minor": 5
}
